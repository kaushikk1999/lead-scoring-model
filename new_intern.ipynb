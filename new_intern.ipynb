{
 "cells": [
  {
   "cell_type": "code",
   "execution_count": null,
   "id": "6fcd0566-c9f2-48ee-bbaf-a3c8544075f8",
   "metadata": {},
   "outputs": [],
   "source": []
  },
  {
   "cell_type": "code",
   "execution_count": null,
   "id": "1a1af9b3-229e-4f8b-aa80-053e166581b9",
   "metadata": {},
   "outputs": [],
   "source": []
  },
  {
   "cell_type": "code",
   "execution_count": null,
   "id": "6d7a5449-c6c5-4c31-9e6b-fd9075a11a17",
   "metadata": {},
   "outputs": [],
   "source": []
  },
  {
   "cell_type": "code",
   "execution_count": null,
   "id": "40abfba5-93f6-4e0f-9d03-144b95fcfdc5",
   "metadata": {},
   "outputs": [],
   "source": []
  },
  {
   "cell_type": "code",
   "execution_count": null,
   "id": "308349ee-8984-493e-8e39-a7f3c4a2f3c4",
   "metadata": {},
   "outputs": [],
   "source": []
  },
  {
   "cell_type": "code",
   "execution_count": null,
   "id": "390155ad-dc6d-4845-b561-fde0e64cc815",
   "metadata": {},
   "outputs": [],
   "source": []
  },
  {
   "cell_type": "markdown",
   "id": "f56f83b8-643a-4254-969e-bca7bb7503d9",
   "metadata": {},
   "source": [
    " # Import the libraries"
   ]
  },
  {
   "cell_type": "code",
   "execution_count": 1,
   "id": "0d394243-cd59-4e1a-8f12-48f8c111b949",
   "metadata": {},
   "outputs": [],
   "source": [
    "import pandas as pd   # data preprocessing\n",
    "# pandas is aliased as pd \n",
    "import numpy as np    # mathematical computation\n",
    "# numpy is aliased as np\n",
    "import matplotlib.pyplot as plt  # visualization\n",
    "# pyplot is aliased as plt\n",
    "import seaborn as sns   # visualization\n",
    "# seaborn is aliased as sns"
   ]
  },
  {
   "cell_type": "markdown",
   "id": "1c28da21-7cee-437c-a885-67743a0de9d6",
   "metadata": {},
   "source": [
    "#### Read the dataset"
   ]
  },
  {
   "cell_type": "code",
   "execution_count": 2,
   "id": "62c814a9-9f35-4ec5-b64c-1897a64472f1",
   "metadata": {},
   "outputs": [],
   "source": [
    "#df = pd.read_csv(r'Data_Science_Internship - Dump.csv')\n"
   ]
  },
  {
   "cell_type": "code",
   "execution_count": 3,
   "id": "879fbb1b-0aba-45c6-a438-a89bdff48f2a",
   "metadata": {},
   "outputs": [],
   "source": [
    "df = pd.read_csv(r'Data_Science_Internship - Dump.tsv', sep='\\t')"
   ]
  },
  {
   "cell_type": "code",
   "execution_count": 4,
   "id": "84d12be8-c16f-4750-abef-eb3e320d77c2",
   "metadata": {},
   "outputs": [
    {
     "data": {
      "text/html": [
       "<div>\n",
       "<style scoped>\n",
       "    .dataframe tbody tr th:only-of-type {\n",
       "        vertical-align: middle;\n",
       "    }\n",
       "\n",
       "    .dataframe tbody tr th {\n",
       "        vertical-align: top;\n",
       "    }\n",
       "\n",
       "    .dataframe thead th {\n",
       "        text-align: right;\n",
       "    }\n",
       "</style>\n",
       "<table border=\"1\" class=\"dataframe\">\n",
       "  <thead>\n",
       "    <tr style=\"text-align: right;\">\n",
       "      <th></th>\n",
       "      <th>Unnamed: 0</th>\n",
       "      <th>Agent_id</th>\n",
       "      <th>status</th>\n",
       "      <th>lost_reason</th>\n",
       "      <th>budget</th>\n",
       "      <th>lease</th>\n",
       "      <th>movein</th>\n",
       "      <th>source</th>\n",
       "      <th>source_city</th>\n",
       "      <th>source_country</th>\n",
       "      <th>utm_source</th>\n",
       "      <th>utm_medium</th>\n",
       "      <th>des_city</th>\n",
       "      <th>des_country</th>\n",
       "      <th>room_type</th>\n",
       "      <th>lead_id</th>\n",
       "    </tr>\n",
       "  </thead>\n",
       "  <tbody>\n",
       "    <tr>\n",
       "      <th>0</th>\n",
       "      <td>0</td>\n",
       "      <td>1deba9e96f404694373de9749ddd1ca8aa7bb823145a6f...</td>\n",
       "      <td>LOST</td>\n",
       "      <td>Not responding</td>\n",
       "      <td>NaN</td>\n",
       "      <td>NaN</td>\n",
       "      <td>NaN</td>\n",
       "      <td>9b2d5b4678781e53038e91ea5324530a03f27dc1d0e5f6...</td>\n",
       "      <td>9b2d5b4678781e53038e91ea5324530a03f27dc1d0e5f6...</td>\n",
       "      <td>9b2d5b4678781e53038e91ea5324530a03f27dc1d0e5f6...</td>\n",
       "      <td>3d59f7548e1af2151b64135003ce63c0a484c26b9b8b16...</td>\n",
       "      <td>268ad70eb5bc4737a2ae28162cbca30118cc94520e49ef...</td>\n",
       "      <td>ecc0e7dc084f141b29479058967d0bc07dee25d9690a98...</td>\n",
       "      <td>8d23a6e37e0a6431a8f1b43a91026dcff51170a89a6512...</td>\n",
       "      <td>NaN</td>\n",
       "      <td>cd5dc0d9393f3980d11d4ba6f88f8110c2b7a7f7796307...</td>\n",
       "    </tr>\n",
       "    <tr>\n",
       "      <th>1</th>\n",
       "      <td>1</td>\n",
       "      <td>299ae77a4ef350ae0dd37d6bba1c002d03444fb1edb236...</td>\n",
       "      <td>LOST</td>\n",
       "      <td>Low budget</td>\n",
       "      <td>NaN</td>\n",
       "      <td>NaN</td>\n",
       "      <td>NaN</td>\n",
       "      <td>9b2d5b4678781e53038e91ea5324530a03f27dc1d0e5f6...</td>\n",
       "      <td>9b2d5b4678781e53038e91ea5324530a03f27dc1d0e5f6...</td>\n",
       "      <td>9b2d5b4678781e53038e91ea5324530a03f27dc1d0e5f6...</td>\n",
       "      <td>3d59f7548e1af2151b64135003ce63c0a484c26b9b8b16...</td>\n",
       "      <td>268ad70eb5bc4737a2ae28162cbca30118cc94520e49ef...</td>\n",
       "      <td>5372372f3bf5896820cb2819300c3e681820d82c6efc54...</td>\n",
       "      <td>8d23a6e37e0a6431a8f1b43a91026dcff51170a89a6512...</td>\n",
       "      <td>NaN</td>\n",
       "      <td>b94693673a5f7178d1b114e4004ad52377d3244dd24a3d...</td>\n",
       "    </tr>\n",
       "    <tr>\n",
       "      <th>2</th>\n",
       "      <td>2</td>\n",
       "      <td>c213697430c006013012dd2aca82dd9732aa0a1a6bca13...</td>\n",
       "      <td>LOST</td>\n",
       "      <td>Not responding</td>\n",
       "      <td>£121 - £180 Per Week</td>\n",
       "      <td>Full Year Course Stay 40 - 44 weeks</td>\n",
       "      <td>31/08/22</td>\n",
       "      <td>7aae3e886e89fc1187a5c47d6cea1c22998ee610ade1f2...</td>\n",
       "      <td>9b8cc3c63cdf447e463c11544924bf027945cbd29675f7...</td>\n",
       "      <td>e09e10e67812e9d236ad900e5d46b4308fc62f5d69446a...</td>\n",
       "      <td>bbdefa2950f49882f295b1285d4fa9dec45fc4144bfb07...</td>\n",
       "      <td>09076eb7665d1fb9389c7c4517fee0b00e43092eb34821...</td>\n",
       "      <td>11ab03a1a8c367191355c152f39fe28cae5e426fce49ef...</td>\n",
       "      <td>8d23a6e37e0a6431a8f1b43a91026dcff51170a89a6512...</td>\n",
       "      <td>Ensuite</td>\n",
       "      <td>96ea4e2bf04496c044745938c0299c264c3f4ba079e572...</td>\n",
       "    </tr>\n",
       "    <tr>\n",
       "      <th>3</th>\n",
       "      <td>3</td>\n",
       "      <td>eac9815a500f908736d303e23aa227f0957177b0e6756b...</td>\n",
       "      <td>LOST</td>\n",
       "      <td>Low budget</td>\n",
       "      <td>0-0</td>\n",
       "      <td>0</td>\n",
       "      <td>NaN</td>\n",
       "      <td>ba2d0a29556ac20f86f45e4543c0825428cba33fd7a9ea...</td>\n",
       "      <td>a5f0d2d08eb0592087e3a3a2f9c1ba2c67cc30f2efd2bd...</td>\n",
       "      <td>e09e10e67812e9d236ad900e5d46b4308fc62f5d69446a...</td>\n",
       "      <td>bbdefa2950f49882f295b1285d4fa9dec45fc4144bfb07...</td>\n",
       "      <td>09076eb7665d1fb9389c7c4517fee0b00e43092eb34821...</td>\n",
       "      <td>19372fa44c57a01c37a5a8418779ca3d99b0b59731fb35...</td>\n",
       "      <td>8d23a6e37e0a6431a8f1b43a91026dcff51170a89a6512...</td>\n",
       "      <td>NaN</td>\n",
       "      <td>1d2b34d8add02a182a4129023766ca4585a8ddced0e5b3...</td>\n",
       "    </tr>\n",
       "    <tr>\n",
       "      <th>4</th>\n",
       "      <td>4</td>\n",
       "      <td>1deba9e96f404694373de9749ddd1ca8aa7bb823145a6f...</td>\n",
       "      <td>LOST</td>\n",
       "      <td>Junk lead</td>\n",
       "      <td>NaN</td>\n",
       "      <td>NaN</td>\n",
       "      <td>NaN</td>\n",
       "      <td>9b2d5b4678781e53038e91ea5324530a03f27dc1d0e5f6...</td>\n",
       "      <td>9b2d5b4678781e53038e91ea5324530a03f27dc1d0e5f6...</td>\n",
       "      <td>9b2d5b4678781e53038e91ea5324530a03f27dc1d0e5f6...</td>\n",
       "      <td>3d59f7548e1af2151b64135003ce63c0a484c26b9b8b16...</td>\n",
       "      <td>268ad70eb5bc4737a2ae28162cbca30118cc94520e49ef...</td>\n",
       "      <td>9b2d5b4678781e53038e91ea5324530a03f27dc1d0e5f6...</td>\n",
       "      <td>9b2d5b4678781e53038e91ea5324530a03f27dc1d0e5f6...</td>\n",
       "      <td>NaN</td>\n",
       "      <td>fc10fffd29cfbe93c55158fb47752a7501c211d253468c...</td>\n",
       "    </tr>\n",
       "    <tr>\n",
       "      <th>...</th>\n",
       "      <td>...</td>\n",
       "      <td>...</td>\n",
       "      <td>...</td>\n",
       "      <td>...</td>\n",
       "      <td>...</td>\n",
       "      <td>...</td>\n",
       "      <td>...</td>\n",
       "      <td>...</td>\n",
       "      <td>...</td>\n",
       "      <td>...</td>\n",
       "      <td>...</td>\n",
       "      <td>...</td>\n",
       "      <td>...</td>\n",
       "      <td>...</td>\n",
       "      <td>...</td>\n",
       "      <td>...</td>\n",
       "    </tr>\n",
       "    <tr>\n",
       "      <th>46603</th>\n",
       "      <td>46603</td>\n",
       "      <td>2306878a9ad9b57686cd623dd285aaa9b25afdf627f651...</td>\n",
       "      <td>LOST</td>\n",
       "      <td>Low availability</td>\n",
       "      <td>£60 - £120 Per week</td>\n",
       "      <td>Complete Education Year Stay 50 - 52 weeks</td>\n",
       "      <td>01/09/22</td>\n",
       "      <td>9b2d5b4678781e53038e91ea5324530a03f27dc1d0e5f6...</td>\n",
       "      <td>7d1550b844ff586a6023216c06263105eed0a849a2a1f6...</td>\n",
       "      <td>8da82000ef9c4468ba47362a924b895e40662fed846942...</td>\n",
       "      <td>bbdefa2950f49882f295b1285d4fa9dec45fc4144bfb07...</td>\n",
       "      <td>09076eb7665d1fb9389c7c4517fee0b00e43092eb34821...</td>\n",
       "      <td>13d4b96b6ee361b737e22404aeecca45f322ba7d4c2c42...</td>\n",
       "      <td>8d23a6e37e0a6431a8f1b43a91026dcff51170a89a6512...</td>\n",
       "      <td>Studio</td>\n",
       "      <td>1aaa4a4a9092e4c0eabf958ed9aea59c50d8ea3f08f691...</td>\n",
       "    </tr>\n",
       "    <tr>\n",
       "      <th>46604</th>\n",
       "      <td>46604</td>\n",
       "      <td>327ec29056cc47c24bf922f7dc0f78261dad5c726d7353...</td>\n",
       "      <td>LOST</td>\n",
       "      <td>Semester stay</td>\n",
       "      <td>£60 - £120 Per week</td>\n",
       "      <td>Summer/Short Stay 8 - 12 weeks</td>\n",
       "      <td>29/09/22</td>\n",
       "      <td>9b2d5b4678781e53038e91ea5324530a03f27dc1d0e5f6...</td>\n",
       "      <td>9f2ba6981e36ea0fca6c16f42e6413d788d2a7499b8b7f...</td>\n",
       "      <td>8da82000ef9c4468ba47362a924b895e40662fed846942...</td>\n",
       "      <td>bbdefa2950f49882f295b1285d4fa9dec45fc4144bfb07...</td>\n",
       "      <td>09076eb7665d1fb9389c7c4517fee0b00e43092eb34821...</td>\n",
       "      <td>998c18dc0e513ab0035c7b858e3780bbbead88695a15de...</td>\n",
       "      <td>8d23a6e37e0a6431a8f1b43a91026dcff51170a89a6512...</td>\n",
       "      <td>Studio</td>\n",
       "      <td>1f90dbad4873cb9673ff3c7ec69fbac4289181453c6cea...</td>\n",
       "    </tr>\n",
       "    <tr>\n",
       "      <th>46605</th>\n",
       "      <td>46605</td>\n",
       "      <td>1134c0a7d44fdae1afd7f1f64e2789496784095ca0a050...</td>\n",
       "      <td>LOST</td>\n",
       "      <td>Low availability</td>\n",
       "      <td>£241 - £300 Per week</td>\n",
       "      <td>Full Year Course Stay 40 - 44 weeks</td>\n",
       "      <td>20/09/22</td>\n",
       "      <td>7aae3e886e89fc1187a5c47d6cea1c22998ee610ade1f2...</td>\n",
       "      <td>7d1550b844ff586a6023216c06263105eed0a849a2a1f6...</td>\n",
       "      <td>8da82000ef9c4468ba47362a924b895e40662fed846942...</td>\n",
       "      <td>bbdefa2950f49882f295b1285d4fa9dec45fc4144bfb07...</td>\n",
       "      <td>09076eb7665d1fb9389c7c4517fee0b00e43092eb34821...</td>\n",
       "      <td>ecc0e7dc084f141b29479058967d0bc07dee25d9690a98...</td>\n",
       "      <td>8d23a6e37e0a6431a8f1b43a91026dcff51170a89a6512...</td>\n",
       "      <td>Studio</td>\n",
       "      <td>d9e0f455b68a6573544ffac32292541a510fe2daffe2bb...</td>\n",
       "    </tr>\n",
       "    <tr>\n",
       "      <th>46606</th>\n",
       "      <td>46606</td>\n",
       "      <td>8b8b029f1142f5cbc825aa6cbee01406c915c6b055db79...</td>\n",
       "      <td>LOST</td>\n",
       "      <td>Low availability</td>\n",
       "      <td>1108</td>\n",
       "      <td>294</td>\n",
       "      <td>30/08/22</td>\n",
       "      <td>d684761c17c11590f6e2525b48141cb2c0c6f2be5df4e2...</td>\n",
       "      <td>e9c722cbefc2f055ae60b4e2cbe73a2d99537eab0c37f3...</td>\n",
       "      <td>b936ee09e20b3b2234907cde349cda1c1a5327c4a486bf...</td>\n",
       "      <td>7f3fa48ca885678134842fa7456f3ece53a97f843b6101...</td>\n",
       "      <td>abb8e2badd5b6265c3237170cc599257a4f566706715d2...</td>\n",
       "      <td>ecc0e7dc084f141b29479058967d0bc07dee25d9690a98...</td>\n",
       "      <td>8d23a6e37e0a6431a8f1b43a91026dcff51170a89a6512...</td>\n",
       "      <td>NaN</td>\n",
       "      <td>1f90dbad4873cb9673ff3c7ec69fbac4289181453c6cea...</td>\n",
       "    </tr>\n",
       "    <tr>\n",
       "      <th>46607</th>\n",
       "      <td>46607</td>\n",
       "      <td>1ea65ea38f2f574b3875ba895e4ff76b284b7725041612...</td>\n",
       "      <td>LOST</td>\n",
       "      <td>Low availability</td>\n",
       "      <td>£181 - £240 Per Week</td>\n",
       "      <td>Full Year Course Stay 40 - 44 weeks</td>\n",
       "      <td>01/09/22</td>\n",
       "      <td>7aae3e886e89fc1187a5c47d6cea1c22998ee610ade1f2...</td>\n",
       "      <td>1496126b7015defbc3b1d129a46096a5c135075aff2add...</td>\n",
       "      <td>e09e10e67812e9d236ad900e5d46b4308fc62f5d69446a...</td>\n",
       "      <td>bbdefa2950f49882f295b1285d4fa9dec45fc4144bfb07...</td>\n",
       "      <td>09076eb7665d1fb9389c7c4517fee0b00e43092eb34821...</td>\n",
       "      <td>618738f7143c9b43a98a6b42d743a6595069a9b4dcf42d...</td>\n",
       "      <td>8d23a6e37e0a6431a8f1b43a91026dcff51170a89a6512...</td>\n",
       "      <td>Studio</td>\n",
       "      <td>7520a8abba2b44d7f37c0ddbe5f7f3d87540b2b7a670e9...</td>\n",
       "    </tr>\n",
       "  </tbody>\n",
       "</table>\n",
       "<p>46608 rows × 16 columns</p>\n",
       "</div>"
      ],
      "text/plain": [
       "       Unnamed: 0                                           Agent_id status  \\\n",
       "0               0  1deba9e96f404694373de9749ddd1ca8aa7bb823145a6f...   LOST   \n",
       "1               1  299ae77a4ef350ae0dd37d6bba1c002d03444fb1edb236...   LOST   \n",
       "2               2  c213697430c006013012dd2aca82dd9732aa0a1a6bca13...   LOST   \n",
       "3               3  eac9815a500f908736d303e23aa227f0957177b0e6756b...   LOST   \n",
       "4               4  1deba9e96f404694373de9749ddd1ca8aa7bb823145a6f...   LOST   \n",
       "...           ...                                                ...    ...   \n",
       "46603       46603  2306878a9ad9b57686cd623dd285aaa9b25afdf627f651...   LOST   \n",
       "46604       46604  327ec29056cc47c24bf922f7dc0f78261dad5c726d7353...   LOST   \n",
       "46605       46605  1134c0a7d44fdae1afd7f1f64e2789496784095ca0a050...   LOST   \n",
       "46606       46606  8b8b029f1142f5cbc825aa6cbee01406c915c6b055db79...   LOST   \n",
       "46607       46607  1ea65ea38f2f574b3875ba895e4ff76b284b7725041612...   LOST   \n",
       "\n",
       "            lost_reason                budget  \\\n",
       "0        Not responding                   NaN   \n",
       "1            Low budget                   NaN   \n",
       "2        Not responding  £121 - £180 Per Week   \n",
       "3            Low budget                   0-0   \n",
       "4             Junk lead                   NaN   \n",
       "...                 ...                   ...   \n",
       "46603  Low availability   £60 - £120 Per week   \n",
       "46604     Semester stay   £60 - £120 Per week   \n",
       "46605  Low availability  £241 - £300 Per week   \n",
       "46606  Low availability                  1108   \n",
       "46607  Low availability  £181 - £240 Per Week   \n",
       "\n",
       "                                            lease    movein  \\\n",
       "0                                             NaN       NaN   \n",
       "1                                             NaN       NaN   \n",
       "2             Full Year Course Stay 40 - 44 weeks  31/08/22   \n",
       "3                                               0       NaN   \n",
       "4                                             NaN       NaN   \n",
       "...                                           ...       ...   \n",
       "46603  Complete Education Year Stay 50 - 52 weeks  01/09/22   \n",
       "46604              Summer/Short Stay 8 - 12 weeks  29/09/22   \n",
       "46605         Full Year Course Stay 40 - 44 weeks  20/09/22   \n",
       "46606                                         294  30/08/22   \n",
       "46607         Full Year Course Stay 40 - 44 weeks  01/09/22   \n",
       "\n",
       "                                                  source  \\\n",
       "0      9b2d5b4678781e53038e91ea5324530a03f27dc1d0e5f6...   \n",
       "1      9b2d5b4678781e53038e91ea5324530a03f27dc1d0e5f6...   \n",
       "2      7aae3e886e89fc1187a5c47d6cea1c22998ee610ade1f2...   \n",
       "3      ba2d0a29556ac20f86f45e4543c0825428cba33fd7a9ea...   \n",
       "4      9b2d5b4678781e53038e91ea5324530a03f27dc1d0e5f6...   \n",
       "...                                                  ...   \n",
       "46603  9b2d5b4678781e53038e91ea5324530a03f27dc1d0e5f6...   \n",
       "46604  9b2d5b4678781e53038e91ea5324530a03f27dc1d0e5f6...   \n",
       "46605  7aae3e886e89fc1187a5c47d6cea1c22998ee610ade1f2...   \n",
       "46606  d684761c17c11590f6e2525b48141cb2c0c6f2be5df4e2...   \n",
       "46607  7aae3e886e89fc1187a5c47d6cea1c22998ee610ade1f2...   \n",
       "\n",
       "                                             source_city  \\\n",
       "0      9b2d5b4678781e53038e91ea5324530a03f27dc1d0e5f6...   \n",
       "1      9b2d5b4678781e53038e91ea5324530a03f27dc1d0e5f6...   \n",
       "2      9b8cc3c63cdf447e463c11544924bf027945cbd29675f7...   \n",
       "3      a5f0d2d08eb0592087e3a3a2f9c1ba2c67cc30f2efd2bd...   \n",
       "4      9b2d5b4678781e53038e91ea5324530a03f27dc1d0e5f6...   \n",
       "...                                                  ...   \n",
       "46603  7d1550b844ff586a6023216c06263105eed0a849a2a1f6...   \n",
       "46604  9f2ba6981e36ea0fca6c16f42e6413d788d2a7499b8b7f...   \n",
       "46605  7d1550b844ff586a6023216c06263105eed0a849a2a1f6...   \n",
       "46606  e9c722cbefc2f055ae60b4e2cbe73a2d99537eab0c37f3...   \n",
       "46607  1496126b7015defbc3b1d129a46096a5c135075aff2add...   \n",
       "\n",
       "                                          source_country  \\\n",
       "0      9b2d5b4678781e53038e91ea5324530a03f27dc1d0e5f6...   \n",
       "1      9b2d5b4678781e53038e91ea5324530a03f27dc1d0e5f6...   \n",
       "2      e09e10e67812e9d236ad900e5d46b4308fc62f5d69446a...   \n",
       "3      e09e10e67812e9d236ad900e5d46b4308fc62f5d69446a...   \n",
       "4      9b2d5b4678781e53038e91ea5324530a03f27dc1d0e5f6...   \n",
       "...                                                  ...   \n",
       "46603  8da82000ef9c4468ba47362a924b895e40662fed846942...   \n",
       "46604  8da82000ef9c4468ba47362a924b895e40662fed846942...   \n",
       "46605  8da82000ef9c4468ba47362a924b895e40662fed846942...   \n",
       "46606  b936ee09e20b3b2234907cde349cda1c1a5327c4a486bf...   \n",
       "46607  e09e10e67812e9d236ad900e5d46b4308fc62f5d69446a...   \n",
       "\n",
       "                                              utm_source  \\\n",
       "0      3d59f7548e1af2151b64135003ce63c0a484c26b9b8b16...   \n",
       "1      3d59f7548e1af2151b64135003ce63c0a484c26b9b8b16...   \n",
       "2      bbdefa2950f49882f295b1285d4fa9dec45fc4144bfb07...   \n",
       "3      bbdefa2950f49882f295b1285d4fa9dec45fc4144bfb07...   \n",
       "4      3d59f7548e1af2151b64135003ce63c0a484c26b9b8b16...   \n",
       "...                                                  ...   \n",
       "46603  bbdefa2950f49882f295b1285d4fa9dec45fc4144bfb07...   \n",
       "46604  bbdefa2950f49882f295b1285d4fa9dec45fc4144bfb07...   \n",
       "46605  bbdefa2950f49882f295b1285d4fa9dec45fc4144bfb07...   \n",
       "46606  7f3fa48ca885678134842fa7456f3ece53a97f843b6101...   \n",
       "46607  bbdefa2950f49882f295b1285d4fa9dec45fc4144bfb07...   \n",
       "\n",
       "                                              utm_medium  \\\n",
       "0      268ad70eb5bc4737a2ae28162cbca30118cc94520e49ef...   \n",
       "1      268ad70eb5bc4737a2ae28162cbca30118cc94520e49ef...   \n",
       "2      09076eb7665d1fb9389c7c4517fee0b00e43092eb34821...   \n",
       "3      09076eb7665d1fb9389c7c4517fee0b00e43092eb34821...   \n",
       "4      268ad70eb5bc4737a2ae28162cbca30118cc94520e49ef...   \n",
       "...                                                  ...   \n",
       "46603  09076eb7665d1fb9389c7c4517fee0b00e43092eb34821...   \n",
       "46604  09076eb7665d1fb9389c7c4517fee0b00e43092eb34821...   \n",
       "46605  09076eb7665d1fb9389c7c4517fee0b00e43092eb34821...   \n",
       "46606  abb8e2badd5b6265c3237170cc599257a4f566706715d2...   \n",
       "46607  09076eb7665d1fb9389c7c4517fee0b00e43092eb34821...   \n",
       "\n",
       "                                                des_city  \\\n",
       "0      ecc0e7dc084f141b29479058967d0bc07dee25d9690a98...   \n",
       "1      5372372f3bf5896820cb2819300c3e681820d82c6efc54...   \n",
       "2      11ab03a1a8c367191355c152f39fe28cae5e426fce49ef...   \n",
       "3      19372fa44c57a01c37a5a8418779ca3d99b0b59731fb35...   \n",
       "4      9b2d5b4678781e53038e91ea5324530a03f27dc1d0e5f6...   \n",
       "...                                                  ...   \n",
       "46603  13d4b96b6ee361b737e22404aeecca45f322ba7d4c2c42...   \n",
       "46604  998c18dc0e513ab0035c7b858e3780bbbead88695a15de...   \n",
       "46605  ecc0e7dc084f141b29479058967d0bc07dee25d9690a98...   \n",
       "46606  ecc0e7dc084f141b29479058967d0bc07dee25d9690a98...   \n",
       "46607  618738f7143c9b43a98a6b42d743a6595069a9b4dcf42d...   \n",
       "\n",
       "                                             des_country room_type  \\\n",
       "0      8d23a6e37e0a6431a8f1b43a91026dcff51170a89a6512...       NaN   \n",
       "1      8d23a6e37e0a6431a8f1b43a91026dcff51170a89a6512...       NaN   \n",
       "2      8d23a6e37e0a6431a8f1b43a91026dcff51170a89a6512...   Ensuite   \n",
       "3      8d23a6e37e0a6431a8f1b43a91026dcff51170a89a6512...       NaN   \n",
       "4      9b2d5b4678781e53038e91ea5324530a03f27dc1d0e5f6...       NaN   \n",
       "...                                                  ...       ...   \n",
       "46603  8d23a6e37e0a6431a8f1b43a91026dcff51170a89a6512...    Studio   \n",
       "46604  8d23a6e37e0a6431a8f1b43a91026dcff51170a89a6512...    Studio   \n",
       "46605  8d23a6e37e0a6431a8f1b43a91026dcff51170a89a6512...    Studio   \n",
       "46606  8d23a6e37e0a6431a8f1b43a91026dcff51170a89a6512...       NaN   \n",
       "46607  8d23a6e37e0a6431a8f1b43a91026dcff51170a89a6512...    Studio   \n",
       "\n",
       "                                                 lead_id  \n",
       "0      cd5dc0d9393f3980d11d4ba6f88f8110c2b7a7f7796307...  \n",
       "1      b94693673a5f7178d1b114e4004ad52377d3244dd24a3d...  \n",
       "2      96ea4e2bf04496c044745938c0299c264c3f4ba079e572...  \n",
       "3      1d2b34d8add02a182a4129023766ca4585a8ddced0e5b3...  \n",
       "4      fc10fffd29cfbe93c55158fb47752a7501c211d253468c...  \n",
       "...                                                  ...  \n",
       "46603  1aaa4a4a9092e4c0eabf958ed9aea59c50d8ea3f08f691...  \n",
       "46604  1f90dbad4873cb9673ff3c7ec69fbac4289181453c6cea...  \n",
       "46605  d9e0f455b68a6573544ffac32292541a510fe2daffe2bb...  \n",
       "46606  1f90dbad4873cb9673ff3c7ec69fbac4289181453c6cea...  \n",
       "46607  7520a8abba2b44d7f37c0ddbe5f7f3d87540b2b7a670e9...  \n",
       "\n",
       "[46608 rows x 16 columns]"
      ]
     },
     "execution_count": 4,
     "metadata": {},
     "output_type": "execute_result"
    }
   ],
   "source": [
    "df"
   ]
  },
  {
   "cell_type": "markdown",
   "id": "5e93a9c1-5e03-41c6-a0fe-5ab73a4d7a7b",
   "metadata": {},
   "source": [
    "#### Shape the of dataframe"
   ]
  },
  {
   "cell_type": "code",
   "execution_count": 5,
   "id": "dcf21d90-2e52-428a-91ae-4f4c291aa3dd",
   "metadata": {},
   "outputs": [
    {
     "name": "stdout",
     "output_type": "stream",
     "text": [
      "(46608, 16)\n"
     ]
    }
   ],
   "source": [
    "print(df.shape) \n",
    "# rows=46608,cols=16"
   ]
  },
  {
   "cell_type": "markdown",
   "id": "69d84721-a143-459c-8a41-cd703c982ac6",
   "metadata": {},
   "source": [
    "# checking types "
   ]
  },
  {
   "cell_type": "code",
   "execution_count": 6,
   "id": "1592416c-1658-456f-be29-395516dbe30c",
   "metadata": {},
   "outputs": [
    {
     "data": {
      "text/plain": [
       "Unnamed: 0         int64\n",
       "Agent_id          object\n",
       "status            object\n",
       "lost_reason       object\n",
       "budget            object\n",
       "lease             object\n",
       "movein            object\n",
       "source            object\n",
       "source_city       object\n",
       "source_country    object\n",
       "utm_source        object\n",
       "utm_medium        object\n",
       "des_city          object\n",
       "des_country       object\n",
       "room_type         object\n",
       "lead_id           object\n",
       "dtype: object"
      ]
     },
     "execution_count": 6,
     "metadata": {},
     "output_type": "execute_result"
    }
   ],
   "source": [
    "df.dtypes"
   ]
  },
  {
   "cell_type": "markdown",
   "id": "f07c145c-029b-43c4-a11a-eaf716c326fb",
   "metadata": {},
   "source": [
    "####  Handling Null Values"
   ]
  },
  {
   "cell_type": "code",
   "execution_count": 7,
   "id": "93973620-1853-4101-bff3-3f9386def5a5",
   "metadata": {},
   "outputs": [
    {
     "data": {
      "text/plain": [
       "Unnamed: 0            0\n",
       "Agent_id              0\n",
       "status                0\n",
       "lost_reason        3364\n",
       "budget             3700\n",
       "lease              2341\n",
       "movein            13638\n",
       "source                0\n",
       "source_city           0\n",
       "source_country        0\n",
       "utm_source            0\n",
       "utm_medium            0\n",
       "des_city              0\n",
       "des_country           0\n",
       "room_type         23547\n",
       "lead_id               0\n",
       "dtype: int64"
      ]
     },
     "execution_count": 7,
     "metadata": {},
     "output_type": "execute_result"
    }
   ],
   "source": [
    "# nv = null values\n",
    "df.isnull().sum()\n"
   ]
  },
  {
   "cell_type": "code",
   "execution_count": 8,
   "id": "855e9215-8622-4a02-827c-920de65cc58e",
   "metadata": {},
   "outputs": [],
   "source": [
    "#df.dropna(inplace=True)"
   ]
  },
  {
   "cell_type": "code",
   "execution_count": 9,
   "id": "434b2116-b9b2-459f-b756-7e444e242e0e",
   "metadata": {},
   "outputs": [
    {
     "name": "stdout",
     "output_type": "stream",
     "text": [
      "<class 'pandas.core.frame.DataFrame'>\n",
      "RangeIndex: 46608 entries, 0 to 46607\n",
      "Data columns (total 16 columns):\n",
      " #   Column          Non-Null Count  Dtype \n",
      "---  ------          --------------  ----- \n",
      " 0   Unnamed: 0      46608 non-null  int64 \n",
      " 1   Agent_id        46608 non-null  object\n",
      " 2   status          46608 non-null  object\n",
      " 3   lost_reason     43244 non-null  object\n",
      " 4   budget          42908 non-null  object\n",
      " 5   lease           44267 non-null  object\n",
      " 6   movein          32970 non-null  object\n",
      " 7   source          46608 non-null  object\n",
      " 8   source_city     46608 non-null  object\n",
      " 9   source_country  46608 non-null  object\n",
      " 10  utm_source      46608 non-null  object\n",
      " 11  utm_medium      46608 non-null  object\n",
      " 12  des_city        46608 non-null  object\n",
      " 13  des_country     46608 non-null  object\n",
      " 14  room_type       23061 non-null  object\n",
      " 15  lead_id         46608 non-null  object\n",
      "dtypes: int64(1), object(15)\n",
      "memory usage: 5.7+ MB\n"
     ]
    }
   ],
   "source": [
    "df.info()"
   ]
  },
  {
   "cell_type": "code",
   "execution_count": null,
   "id": "8cb97fff-5a67-4fa9-b416-9a9170f310a9",
   "metadata": {},
   "outputs": [],
   "source": []
  },
  {
   "cell_type": "code",
   "execution_count": 10,
   "id": "57aff36b-6903-4202-89b9-cb4810be0b24",
   "metadata": {},
   "outputs": [
    {
     "name": "stdout",
     "output_type": "stream",
     "text": [
      "0\n"
     ]
    }
   ],
   "source": [
    "# Dataset Duplicate Value Count\n",
    "print(df.duplicated().sum())\n"
   ]
  },
  {
   "cell_type": "markdown",
   "id": "98c2036d-3a74-45b5-b51a-90edfaecfaa6",
   "metadata": {},
   "source": [
    "# dropping all nan values including '9b2d5b4678781e53038e91ea5324530a03f27dc1d0e5f6c9bc9d493a23be9de0' this type of columns having this type nan value"
   ]
  },
  {
   "cell_type": "code",
   "execution_count": 11,
   "id": "241a08ef-fd97-4958-aa9d-52c2c3ec5045",
   "metadata": {},
   "outputs": [],
   "source": [
    "\n",
    "# Deleted columns Agent_id\n",
    "df.drop(['Agent_id'], axis=1, inplace=True)\n",
    "\n",
    "# Deleted columns source\n",
    "df.drop(['source'], axis=1, inplace=True)\n",
    "\n",
    "# Deleted columns source_city\n",
    "df.drop(['source_city'], axis=1, inplace=True)\n",
    "\n",
    "# Deleted columns source_country\n",
    "df.drop(['source_country'], axis=1, inplace=True)\n",
    "\n",
    "# Deleted columns utm_source\n",
    "df.drop(['utm_source'], axis=1, inplace=True)\n",
    "\n",
    "# Deleted columns utm_medium\n",
    "df.drop(['utm_medium'], axis=1, inplace=True)\n",
    "\n",
    "# Deleted columns des_city\n",
    "df.drop(['des_city'], axis=1, inplace=True)\n",
    "\n",
    "# Deleted columns des_country\n",
    "df.drop(['des_country'], axis=1, inplace=True)\n",
    "\n",
    "# Deleted columns lead_id\n",
    "df.drop(['lead_id'], axis=1, inplace=True)\n",
    "\n",
    "\n",
    "# Deleted columns Unnamed: 0\n",
    "df.drop(['Unnamed: 0'], axis=1, inplace=True)\n"
   ]
  },
  {
   "cell_type": "markdown",
   "id": "6757e717-469f-4498-ae1e-5baa27d13eee",
   "metadata": {},
   "source": [
    "# counting all unique values"
   ]
  },
  {
   "cell_type": "code",
   "execution_count": 12,
   "id": "99bc36f4-7d5b-442f-89c1-29793a6ac782",
   "metadata": {},
   "outputs": [
    {
     "name": "stdout",
     "output_type": "stream",
     "text": [
      " \n",
      "Unique:\n",
      " status            6\n",
      "lost_reason      30\n",
      "budget         1857\n",
      "lease           311\n",
      "movein          477\n",
      "room_type         5\n",
      "dtype: int64\n"
     ]
    }
   ],
   "source": [
    "print(' \\nUnique:\\n',df.nunique())"
   ]
  },
  {
   "cell_type": "code",
   "execution_count": 13,
   "id": "be09542e-ae4e-4e87-912e-e9480b0b193d",
   "metadata": {},
   "outputs": [
    {
     "data": {
      "text/html": [
       "<div>\n",
       "<style scoped>\n",
       "    .dataframe tbody tr th:only-of-type {\n",
       "        vertical-align: middle;\n",
       "    }\n",
       "\n",
       "    .dataframe tbody tr th {\n",
       "        vertical-align: top;\n",
       "    }\n",
       "\n",
       "    .dataframe thead th {\n",
       "        text-align: right;\n",
       "    }\n",
       "</style>\n",
       "<table border=\"1\" class=\"dataframe\">\n",
       "  <thead>\n",
       "    <tr style=\"text-align: right;\">\n",
       "      <th></th>\n",
       "      <th>status</th>\n",
       "      <th>lost_reason</th>\n",
       "      <th>budget</th>\n",
       "      <th>lease</th>\n",
       "      <th>movein</th>\n",
       "      <th>room_type</th>\n",
       "    </tr>\n",
       "  </thead>\n",
       "  <tbody>\n",
       "    <tr>\n",
       "      <th>0</th>\n",
       "      <td>LOST</td>\n",
       "      <td>Not responding</td>\n",
       "      <td>NaN</td>\n",
       "      <td>NaN</td>\n",
       "      <td>NaN</td>\n",
       "      <td>NaN</td>\n",
       "    </tr>\n",
       "    <tr>\n",
       "      <th>1</th>\n",
       "      <td>LOST</td>\n",
       "      <td>Low budget</td>\n",
       "      <td>NaN</td>\n",
       "      <td>NaN</td>\n",
       "      <td>NaN</td>\n",
       "      <td>NaN</td>\n",
       "    </tr>\n",
       "    <tr>\n",
       "      <th>2</th>\n",
       "      <td>LOST</td>\n",
       "      <td>Not responding</td>\n",
       "      <td>£121 - £180 Per Week</td>\n",
       "      <td>Full Year Course Stay 40 - 44 weeks</td>\n",
       "      <td>31/08/22</td>\n",
       "      <td>Ensuite</td>\n",
       "    </tr>\n",
       "    <tr>\n",
       "      <th>3</th>\n",
       "      <td>LOST</td>\n",
       "      <td>Low budget</td>\n",
       "      <td>0-0</td>\n",
       "      <td>0</td>\n",
       "      <td>NaN</td>\n",
       "      <td>NaN</td>\n",
       "    </tr>\n",
       "    <tr>\n",
       "      <th>4</th>\n",
       "      <td>LOST</td>\n",
       "      <td>Junk lead</td>\n",
       "      <td>NaN</td>\n",
       "      <td>NaN</td>\n",
       "      <td>NaN</td>\n",
       "      <td>NaN</td>\n",
       "    </tr>\n",
       "    <tr>\n",
       "      <th>...</th>\n",
       "      <td>...</td>\n",
       "      <td>...</td>\n",
       "      <td>...</td>\n",
       "      <td>...</td>\n",
       "      <td>...</td>\n",
       "      <td>...</td>\n",
       "    </tr>\n",
       "    <tr>\n",
       "      <th>46603</th>\n",
       "      <td>LOST</td>\n",
       "      <td>Low availability</td>\n",
       "      <td>£60 - £120 Per week</td>\n",
       "      <td>Complete Education Year Stay 50 - 52 weeks</td>\n",
       "      <td>01/09/22</td>\n",
       "      <td>Studio</td>\n",
       "    </tr>\n",
       "    <tr>\n",
       "      <th>46604</th>\n",
       "      <td>LOST</td>\n",
       "      <td>Semester stay</td>\n",
       "      <td>£60 - £120 Per week</td>\n",
       "      <td>Summer/Short Stay 8 - 12 weeks</td>\n",
       "      <td>29/09/22</td>\n",
       "      <td>Studio</td>\n",
       "    </tr>\n",
       "    <tr>\n",
       "      <th>46605</th>\n",
       "      <td>LOST</td>\n",
       "      <td>Low availability</td>\n",
       "      <td>£241 - £300 Per week</td>\n",
       "      <td>Full Year Course Stay 40 - 44 weeks</td>\n",
       "      <td>20/09/22</td>\n",
       "      <td>Studio</td>\n",
       "    </tr>\n",
       "    <tr>\n",
       "      <th>46606</th>\n",
       "      <td>LOST</td>\n",
       "      <td>Low availability</td>\n",
       "      <td>1108</td>\n",
       "      <td>294</td>\n",
       "      <td>30/08/22</td>\n",
       "      <td>NaN</td>\n",
       "    </tr>\n",
       "    <tr>\n",
       "      <th>46607</th>\n",
       "      <td>LOST</td>\n",
       "      <td>Low availability</td>\n",
       "      <td>£181 - £240 Per Week</td>\n",
       "      <td>Full Year Course Stay 40 - 44 weeks</td>\n",
       "      <td>01/09/22</td>\n",
       "      <td>Studio</td>\n",
       "    </tr>\n",
       "  </tbody>\n",
       "</table>\n",
       "<p>46608 rows × 6 columns</p>\n",
       "</div>"
      ],
      "text/plain": [
       "      status       lost_reason                budget  \\\n",
       "0       LOST    Not responding                   NaN   \n",
       "1       LOST        Low budget                   NaN   \n",
       "2       LOST    Not responding  £121 - £180 Per Week   \n",
       "3       LOST        Low budget                   0-0   \n",
       "4       LOST         Junk lead                   NaN   \n",
       "...      ...               ...                   ...   \n",
       "46603   LOST  Low availability   £60 - £120 Per week   \n",
       "46604   LOST     Semester stay   £60 - £120 Per week   \n",
       "46605   LOST  Low availability  £241 - £300 Per week   \n",
       "46606   LOST  Low availability                  1108   \n",
       "46607   LOST  Low availability  £181 - £240 Per Week   \n",
       "\n",
       "                                            lease    movein room_type  \n",
       "0                                             NaN       NaN       NaN  \n",
       "1                                             NaN       NaN       NaN  \n",
       "2             Full Year Course Stay 40 - 44 weeks  31/08/22   Ensuite  \n",
       "3                                               0       NaN       NaN  \n",
       "4                                             NaN       NaN       NaN  \n",
       "...                                           ...       ...       ...  \n",
       "46603  Complete Education Year Stay 50 - 52 weeks  01/09/22    Studio  \n",
       "46604              Summer/Short Stay 8 - 12 weeks  29/09/22    Studio  \n",
       "46605         Full Year Course Stay 40 - 44 weeks  20/09/22    Studio  \n",
       "46606                                         294  30/08/22       NaN  \n",
       "46607         Full Year Course Stay 40 - 44 weeks  01/09/22    Studio  \n",
       "\n",
       "[46608 rows x 6 columns]"
      ]
     },
     "execution_count": 13,
     "metadata": {},
     "output_type": "execute_result"
    }
   ],
   "source": [
    "df"
   ]
  },
  {
   "cell_type": "code",
   "execution_count": 14,
   "id": "506d6e11-89fa-45d1-b9f3-182f239d259a",
   "metadata": {},
   "outputs": [
    {
     "data": {
      "text/plain": [
       "status             0\n",
       "lost_reason     3364\n",
       "budget          3700\n",
       "lease           2341\n",
       "movein         13638\n",
       "room_type      23547\n",
       "dtype: int64"
      ]
     },
     "execution_count": 14,
     "metadata": {},
     "output_type": "execute_result"
    }
   ],
   "source": [
    "df.isnull().sum()"
   ]
  },
  {
   "cell_type": "markdown",
   "id": "efb4f176-7627-4473-9685-b10c2ca2765b",
   "metadata": {
    "jp-MarkdownHeadingCollapsed": true,
    "tags": []
   },
   "source": [
    "# filtering the lease column having 1,2 values"
   ]
  },
  {
   "cell_type": "code",
   "execution_count": 15,
   "id": "eaedd61c-32fe-45c5-964a-3298569d900e",
   "metadata": {},
   "outputs": [],
   "source": [
    "\n",
    "# Filtered lease\n",
    "df = df[df['lease'].apply(lambda val: all(val != s for s in ['-', '1 month\\\\', '1 weeks', '1 year .', '1 year stay.', '1-2', '10 month', '10 months', '-51 weeks', '0.5', '03 months', '1 - 2 months', '1 YEAR', '1 mnth', '1 year stay', '10weeks', '11 months', '12 month', '12 months', '12 weeks max', '12-16', '125/week', '129', '12m', '160/week', '16 week', '16 days', '150', '156', '144', '143', '140', '130/week', '130', '189', '2 -3weeks', '2 month', '2 months', '20 weeks', '200/week', '207', '20weeks', '22 weeks', '23 weeks', '24-44 weeks', '24-44weeks', '25-30 weeks', '250', '28', '2years', '3 weeks', '3 years', '3-4 weeks', '3-5 months', '39 week', '38-44 weeks', '38 weeks', '36-38 weeks', '36 - 44', '350', '34 weeks', '33 weeks', '30 weeks', '42-52 weeks', '42-51', '42 weeks', '41weeks', '40weeks +', '40+', '40 weekks', '40 week', '4-8 weeks', '4 WEEKS', '44week', '44WEEKS', '44/weeks', '44/week', '44-52 weeks', '44-51 weeeks', '44-', '44 weeks/51 weeks', '44 week stay', '44 week s', '44 or 51 weeks', '44 WEEKS', '44 - 51 weeks', '43/44 weeks', 'semester stay', 'full year stayt', 'aug', 'Semester stay', 'Sem Stay', 'N51', 'Full Year Stay', 'Full Year', '9', '7 days', '6m to 1 year', '60', '6 weeks', '6 months (26 weeks)', '51-54weeks', '51 Weeks', '40-44 weeks', '40-44', '3months', '39 weeks', '36-40 weeks', '31', '3-4 months', '3 month', '24-48 weeks', '2 weeks', '19', '17 weeks', '10-15 weeks', '10 weeks', '1-2 months', '1 week', '06 months', 'until dec', 'till december', 'not sure', 'long tearm', 'full yyear stay', 'academic yr', 'academic year', 'Whole year', 'Until august', 'Until June 2023', 'Stay 50 - 52 weeks', 'Semester Stay', 'N/44', 'Long time', 'London', 'Glasgow', 'Full time', 'Full Year Course Stay 51 weeks', 'Full Year Course Stay 44- 51 weeks', 'ASAP', '97', '96', '9-12 months', '44weeks - 51', '45 or more', '45 weeksa', '45/week', '45 WEEKS', '48 weeks', '5 weeks', '5-6 months', '46 weeks', '46 week', '51sweek', '51\\\\', '51WEEKS', '51 wweeks', '51 weeks \\\\', '51 weeks ( I don’t mind travelling over an hour)', '51 WEEKS', '5-6 weeks', '500-550pm', '51 cweeks', '70', '7-8 months', '6weeks', '6months', '69', '68', '6-8 months', '61', '6 motnhs', '6  onths', '58', '57', '56 weeks', '52 weeks]', '52 WEEKS', '89', '88', '8-12 weeks', '8-12 m', '78', '72']))]\n"
   ]
  },
  {
   "cell_type": "markdown",
   "id": "11db1cf8-2860-4c11-8362-6de2a7df549c",
   "metadata": {
    "jp-MarkdownHeadingCollapsed": true,
    "tags": []
   },
   "source": [
    "# filtering the lease column having 1,2 values"
   ]
  },
  {
   "cell_type": "code",
   "execution_count": 16,
   "id": "7ec2d62e-4708-4ba9-92c5-b686600ccbd2",
   "metadata": {},
   "outputs": [],
   "source": [
    "\n",
    "# Filtered budget\n",
    "df = df[df['budget'].apply(lambda val: all(val != s for s in ['369', '250-300/week', '0-100-125', '110/week', '>210/week', '1000/month', '231', '600 per month', '0-145', '170-200/week', '0-10000', '£900', '150pw', '285', '70/week', '200 per week', '400 m', '339', '0-60 pounds', '261', '452', '413', '£121 - £130 Per Week', '1343', '0-87', '471', '0-70 pounds', '220 pw', '130pw', '302', '£110 Per week', '0-140-150', '111', '341', '995', '450/week', '1222', '0-70£', '120-180/week', '£140 Per week', '750', '785', '266', '550 pcm', '150-200', '0-150-180', '£160 Per week', '379', '£155 Per week', '0-150£', '1529', '0-1', '344', '477', '140-150/week', '0-50 to 60', '0-95 pounds', '0-90-100', '153', '1200 per month', '351', '0-330', '£100-150 Per week', '130-150/week', '700 pm', '0-600', '£150Per Week', 'flexible', '90-100', '226/week', '0-Max 200', '£180 Per week', '1858', 'low', '0-140 per week', '0-100 pound', '£60 - £150 Per week', '51', '345', '>200/week', '216', '820', '347', '1232', '140 pw', '300 pm', '282', \"0-Media.Name='', Uri='https://cdn-1.messaging.cm.c\", '867', '0-Edinburgh', '150 Per Week', '426', '211', '650 pm', '0-155', '186', '1699', '0-175', '150-160/week', '£350 Per week', '274', '1000 pm', '0-150-170', '1209', '120 - 150', '£80 Per week', '620', '£150-170 Per Week', '70-80', '398', '0-80-90', '840', '317', '135/week', '150-180 pw', '0-Around 150', '0-300-400', '0-200-250', '700 pcm', '£180 Per Week', '100 -150 pw', '100-150', '278', '0-60 to 70', '357', '0-200 pound', '140-150', '£165 Per Week', '0-360', '250-300', '0-€200', '304', '1500/month', '364', '500/week', '75/week', '523', '0-800', '0-160£', '0-60£', '100-120 pw', '0-60', '50', '585', '400-500/month', '1395', '0-60-110', '1079', '115/week', '291', '350-400/month', '1500', '596', '315', '383', '284', '850', '0-5000', '1200 pm', '0-£129', '90-100£', '0-Max 425', '250 Per Week', \"0-250 pounds but I'm looking to negotiate for less\", '0-80-100$', '250 pounds', '£180 - £190 Per Week', '£120-160 Per Week', '1130', '0-below ?70', '450 per month', '£170 Per week', '0-Budget', '0-2022-2023', '0-300 per week', '0-£80 - £90 per week', '600pcm', '>230/week', '100-150 pw', '220/week', '0-Taka', '0-Earn', '1400 per month', '0-Around 100', '1300/month', '1200pm', \"0-I'm looking for a place in Nottingham.\\nThe unive\", '0-around 300 pounds per week. it can be considered', '0-Glasgow city center', '1000cad', '0-185', '300-350 pm', '0-doesnot  matter', '0-100-200 pounds', '0-90-120', '0-Per week 100£', '0-From £400 to £500', '370-400', '500 per week', '0-Our budget is around £200/week', '£90- £140 Per week', '0-500pcm', '0-180 pounds per week', '0-60pound', '0-167 to 200', '1909', '0-I looking around 2£60', '600/week', '0-£130-£140', '0-100-160', '0-looking for a place for me and my boyfriend', '155 pw', '80-95', '0-£250/W', '0-700', '295/week', '1200ppm', '1100/month', '0-68-78', '110pw', \"0-Don't know\", '1299', \"0-Media.Name='', Uri='https://cdn-2.messaging.cm.c\", '1000pm', '0-55 £', '0-180-250', '498', '0-max 125 per week', '0-130 - 150', '0-Ranging from 170-190 pounds per week', '100 weeks', '0-120 - 140pw', '0-65 to 70', '121/week', '0-Up to £120/125', '175 weeks', '300 - 400 pcm', '0-50 60', '0-100-150 pounds', '0-4600', '£160', '0-60 euros', '125 per week', '0-150 to 200', '800 pcm', '286', '400 pounds pw', '0-Maximum 220', '0-Minimum budget', '300 Per week', '£100 - £140 Per week', '0-Up to 190', '360/week', '0-200pounds per week', '0-100 euros or less', '300/WEEK', '120-160/week', '0-None', '465', '0-Around 70 per week', '0-Student', '£250-300 Per Week', '0-1000£/month', '0-under 150 gbp', '0-100/120 per week', '280PPW', '0-Sheffield, near S1 4HP', '0-Myself and wife', '307', '0-62£', '95- 110/ weeks', '0-Not more than 170 pounds', '0-Around 120 - 130 pounds', 'not sure', '0-Reasonable which I can easily paid', '0-Not fixed', '0-70 to 80$', '1230', '£90 - £120 Per week', '160-200', '0-$50', '250 - 270', '200 pound', '0-175-250 pw', '0-60-80 per week', '0-140 to 170', '650/week', '0-250-350', '800PPM', '0-Done already', '0-100-150£', '0-50', '0-university of strathclyde', '0-Can you send me about all categories \\nLow&middle', '700 month', '100£ Per Week', '0-Low', '4450', '440', '150/WEEK', '0-380', \"0-I've already booked through your website\", '0-Per week or per month?', '0-Glasgow', '0-Reasonable', '300£ Per Week', '195 per week', '358', '0-200 - 425 £/ week', '0-13 week', '400/month.', 'okay with 250', '0-No idea', '350£ Per Week', '0-approximately 125 pounds', '£200 Per week', '120-130/week', '301', '0-100 to 110 pounds', '0-600/month', '0-200 - 250', '55£', '600 month', '250 per weeks', '200 - 300', '950 per month', '0-250-296', '0-$60 to $120', '0-190-250', '£225 Per Week', '0-1 lakh', '0-Ireland', '600pm', '0-100$', '0-Less than  £140', '407', '0-120-130/week', '0-Around 100 pounds', '60-100', '700 pounds / month', '100 pounds', '500 pounds / week', '0-400£', '0-6$', '0-117', '0-100 Euors', '80pw', '0-175 owo', '0-Not sure about the moving prices', '414', '0-Around £200 -225 per week', '997', '0-1000', '101', '£120-130 Per week', '0-200 to 300', '200-220', '£280 Per Week', '>120/week', '675', '350 pcm', '897', '0-£70', '499', 'na', '336', '428', '£120 - £150 Per week', '0-85 pounds', '108', '1003', '350pw', '£180', '£220 Per Week', '0-$100', 'tbd', '392', '690', '750-1000', '243', '973', '260/week', '100/WEEK', '400-450', '250 per month', '£300', '0-125£', '537', '0-£100/week', '322', '650', '250 max', '0-1500', '125pounds / week', '0-Leeds', '120 pw -151 pw', '400PPM', '£260', '850/month', 'ensuite', '333', '0-Per month 250 to 300', '£175/Per Week', '170 Per Week', '100-120 Per week', '395', '2200 pm', '120 per week', '500pounds', '0-maximum of 1500 pcm', '300-350/week', '90-120 pp', '0-130 pounds', '700-800', '0-140-160', '0-How cheap is it will be okay for me because i am', '0-Maximum £100', '£210 Per week', '0-235 per week', '0-Below 115pound', '0-Sunderland city center Uk', '375 per week', '140 -180', '0-flexible', '320 per month', '0-85£/ week', '£50 Per Week', '0-I have actually paid the deposit for an accommod', '0-$100 to $150 per week', '40-50', '0-400-600 pcm', '0-looking for a studio app', '165/', '0-London', '0-70 to 100 GBP', '0-No budget', '95 pound Per week', '100 - 150/week', '0-120pound', '150- 200 pw', '0-120-150 pounds', '1300 -1500 / month', '350 pw', '190pw', '0-500-700\\n\\nI am looking for an apartment suitable ', '110-130/week', '0-Low budget', '1200-1300', '600/month', '200-240/week', '400pw', '0-£1000 per month', '0-I have some other query first', '0-Per month?', '277', '175-180pw', '100-120 pounds per week', 'no budget yet .', '100 pounds per week', '0-£400', '160-180pw', '0-Kent', '1140', '100-200 pw', '0-As cheaper as you can find i can share also room', '7000 pounds', '£121 - £190 Per Week', '0-Below 100', '180 Per week', '0-between 200 - 250 pw', '0-I prefer a monthly payment, would that be possib', '0-We need couple accommodation', '0-100 to 145', '250-300 per week', '519', '331', '0-<139', '325/month', '338', '400-600', '0-100$ - 150$', '0-250 to 350', '0-Bag,phone and clothes', '0-Maximum 187', '190/week', '0-300pounds', '0-around 100-200£', '0-100-140£', '234', '0-100euros', '60-120', '1200/month', '150-200pw', '0-lowest please, do not have ideas', '0-$100/week', '0-40', '0-130-150', '0-University', '0-200 GBP', '250-300/month', '0-18', '0-Around £225', '0-Between 140 to 200', '£121  Per Week', '£160 - £170 Per week', '0-depend on the place', '£130Per Week', '£186', '0-100 Pounds', '295', '0-80 to 150', '0-my university name Istituto marangoni', '0-Cheapest', '>120-125/week', '160/200 week', '0-It is still unknown', '0-Monthly... Upto 450 pounds', '0-500£', '0-50£', \"0-Media.Name='Siyakha and Stakeholders(original)(2\", '0-Not decided', '0-I am looking for studios', '0-10lac', '0-125£ to 140', '£121 - £140 Per Week', '400-500 pm', '300-350/month', '600-700pm', '160 - 165 per week', '£120 Per Week', '0-200 pounds max all inclusive', '0-80 to 90 pound', '£200-350', '0-£65-70', '700 to 900', '160-200/week', '0-140£', '0-160/week', '0-8000', '130-135', '0-80-110', '215/week', '350-375', '354', '800pm', '350 pm', '0-10000?', '£200 - £250 Per week', '0-60 - 80 GBP', '0-per month do you have?', '175 pounds per week', '0-150 aprox.', \"0-Actually, I'm looking for a twin room\", '0-£172 like it also states?', '0-65£', '150\\\\', '0-No problem', '900 pounds Per month', '£125 - £150 Per week', '190/WEEK', '320pw', '225/week', '130/weekPer week', '95/week', '0-I am looking accomodation for 2 Adult and one ch', '£155- £180 Per Week', '0-95', '219/week', '68', '0-£180', '16- around', '£100Per week', '£700-750 Per month', '0-Per month $100', '0-200£ to 325£ depends if I can rent with someone', '240 pw', '80-100 pw', '595', '245/week', '300 pounds/ month', '160 per week', 'less than 100', '0-good accomodation with Television and Asian food', '£121 - £150 Per Week', '0-130-175', '834', '80-130/week', '100-200', '150-300/week', '0-I want to know your cost first', '0-77€', '£250 Per week', '0-below 190pw', '350 per week', '0-Carterbury', '434', '0-2500', 'Middlesbrough', '0-£150 to 200  per week', '110 pw', '0-300 -350', '£175', 'max 200pw', '1475', '521', '0-Is there any monthly package', '100-115', '0-500$', '0-University of Strathclyde', '0-Yes']))]\n",
    "\n",
    "\n",
    "# Filtered budget\n",
    "df = df[df['budget'].apply(lambda val: all(val != s for s in ['225 Per Week', '0-Per week or per month', '0-500 pounds per week', '0-€120 to €180', '0-120- 130 per week', '0-99999999999999999999999999999999999999999', '0-200£', '0-90 to110pond', '0-80 to 110', '0-70 - 100 pounds', '0-100pounds', '0-195', '300-350', '251', '60-100 pw', '399', '0-Nearly 75-80 per week', '0-850', '120-140/week', '88', '0-Uk', '0-I am taking an internship at Newcastle universit', '200 PW', '0-100-110 per week', '300 per wek', '0-This is his number', '0-1000 Aed', '800 per month', '0-Or anywhere close', '250-400/month', '0-112 per week', \"0-Can't it be a month ?\", 'Cheapest', '160-170', '0-£150pw to £180pw', '0-Abbas', '>150week', '0-Shaitan lal', '0-300 pounds per week', '453', '£100- £120 Per week', '0-Uxbridge', '791', '650 pcm', '212/week max budget', '0-Actually I am coming with my wife in January int', '300 -350 pw', '0-300-400 gbp', '0-£155', '500 - 550 pcm', '1240', '0-70-80 per week', '0-inside 150', '100-160', '0-£140-£150', '0-Accommodation near University of Sunderland', '400 -450 pcm', '105 - 120', '0-310', '0-£100 to 110', '150-160', '250EPW', '0-That’s the exact address \\nCity, University of Lo', '0-120£', '0-80 pounds per week', '£340 Per week', '100-185 pw', '0-I already have a booking', '0-Per month budget 350 pounds to 400 pounds', '0-Hatfield please', '419', '£600 Per monthly', '0-i need a 2 week stay for a start', '0-120-140 pounds', '120Per Week', '0-Me and my brother coming in this September intak', '250-270 pw', '0-Trying to contact an agent', '>175/week', '0-With in100€ or +or=', '0-80_100', '120 pw', '0-Max 60 pounds per week', '0-120-160 per week', '298', '£130 Per week', '0-Please I need to know how these things works so', '0-£200-£300', '0-100-200$', '2945', '965', '600/momth', '400-600/month', '0-£60-70', '£500 Per month', '0-from 95 to 100', '0-Between 1000 to 1500', '1200 pcm', '0-Around £160', '210/WEEK', '0-I dont have budget', '0-105 per week', '0-Cheapest possible', 'none', '0-Birmingham, UK', '0-minimum', '500-700', '500 -600 pcm', '150/week \\\\', '0-£180-£240', '0-Wt s ur least budget', '650 -750 pcm', '350/WEEK', '225-350 pcm', '473', '500-600', '80-100/week', '0-120-150', '0-80 per week', '0-Coventry', '0-120/140 per week', '0-Any cheap rates', \"0-What's your minimum range for couple accomodatio\", '0-£92', '750 pcm', '0-£200 dual occupancy', '100-130/week', '0-€60', '0-150 GBP max', '0-150 p/w', '0-300 pounds per a week', '0-140-150 £', '0-About £350', '378', '£200 - £230 Per Week', '0-60 to 90 per week', '0-£130 to £160', '147/week', '160 Per Week', '228', '0-160-180 inclusive', '0-100-120 GBP', '505', '0-2', '£1500 Per Week', 'Below 200 GBP', '0-£130', '875', '297', '0-185-200', '0-Between £70-£130', '1383', 'no idea', '150PPW', '0-£190', '0-250 per month', '0-Maximum 100', '450-500 pcm', '0-60-180£ per week', '0-Maa chudao tumlog', 'low budget', '0-20', '0-90 to 110', '0-£241-£300', '0-I am looking for a room for 1kid and two adults', '0-Upto 60 pounds per week', '866', '£100 - £150 Per Week', '120-135/week', '£240 Per Week', '100 Gbpo max', '0-~$300 per person', '0-30 to 50 punds per week', '50 -60 gbp pw', '1702', '164/week', '£90', '130 pw', '70 pounds', '0-400-450 pounds per month', '0-85 to 105£ per week', '0-Max. 150 Pounds', '1364', '0-137-150', '0-£84', '462', '0-340', '£121 - £250 Per Week', '0-Per week 110-120', '0-25lakh', '418', '0-600_700 pounds per month', '£60 - £120 Per Week', '0-I book already', '0-260-275 per week', '100-105/week', '>155week', '175 per week', '300 weekly', '0-149', '0-for months', '90-100 gbp', \"0-For months please I'm coming with My 2 Childs\", '200-300', '0-£160-250 (all bills included)', '0-We need sharing room', '318', '0-€240 per week', '468', '0-£150-£170', '0-Max £185', '0-40-50 pounds per week', '>185/week', '700-1000pcm', '£150-180 Per Week', '0-My budget is 90 to 110 pound per week', '1736', '0-£95 / week', '£80', '0-50 pound', '0-USD 100 to 150 please', '450-500pm', '600 pcm', '0-70pounds', '0-Max 175', '0-100 to 105', '0-120€', '220 Per week', '0-130 per week', '160 pounds', '£190 Per Week', '0-50 To 100', '0-Around 120', '0-90-100 per week', '0-75£', '150 week', '£156 Per week', '280 Per Week', '0-Is this only for student accommodation?', '0-£120 maximum', '0-Below £900', '0-100£per week', '0-any', '0-2000 pounds', '0-£152', '>330/week', '0-Within 50 to 90pounds', 'cheapest-highest', '160-180/week', '240-300', '324', '0-Least price', '0-I want to know the range of accommodation around', '£241', '0-70 dollars', '£121 - £300 Per Week', '100/weeks', '165/170', '0-175/180 per week', '372', '140 Per Week', '0-180-200', '50-60', '0-£100 to £110 per week', '£145 Per Week', '412', '300-325/week', '0-Within 300', '335', '£120-130Per week', '0-90 pounds', 'tbh', '0-75 Approximately', 'studio', '180pw', '>250/week', '0-Or a room', '0-It should be 100-120 GBP', '0-No per month', '0-68-80', '0-20000 rupees', 'not budget yet', '0-90 to 100', '0-I am interested in Luna', '£100 - £100 Per Week', '121-180/week', '312/week', '0-I hv already booked', '0-Im looking for Manchester city Center', '0-140 pound', '0-Maximum 120', '0-I have a child dependent she will be 11 years th', '250-300pw', '900-1000 pm', '0-150 to170', '200-250 per week', '271', '0-Manchester or bharmingam', '0-Maximum 150', '0-£300 per week including all the bills except no', '71', '120-140', '374', '600ppm', '0-Already sent money for holding fee and did not h', '850pm', '120 -140 pw', '>190/week', '400pm', '0-Around  £650 for couples. With bills', \"150/week'\", '283', '600 pm', '0-60 to 120 pw', '£450 per month', '0-E15 4QS', '0-£120/150', '150 -200', '0-£210', '0-165', '800/week', '0-120 to 150 pound', '100-110', '>180week', '150-170/week', '0-60 to 100 pounds', '150 pw -160 pw', '230 pw', '0-100-115', '110-120', '£98-120/week', '0-£190-200', '0-125 pounds', \"0-I'm going University of east Anglia\", '500pm', '0-£200-400', '0-50,000 INR', '162/week', '0-150-160', '150/weeks', '0-£175', '0-375€pcm', '180-250/week', '431', '454', '0-550pcm', '300-400pw', '0-110 ppw', '650/month', '0-115', '200- 300', 'Not specified', '0-£100 to £115 per week', '0-Around 80-85 pounds per week', '100 ppw for 2 people', '120-150', '0-Around £99-£105', '0-150 £ all bills inclusive', '400 per month', '>225/week', '0-150-165', '0-60 to 120', '375', '250£ Per Week', '0-Can you tell me the price range for the private', '700pm', '1779', '0-Lowest price dear', '£140  Per Week', '300-400/month', '0-100 £', '500 euros month', '0-235', '240-280/week', '0-5lac', '1500pm', '0-I dont know the range for the houses', '0-160-168', '80 Per week', '£110 Per Week', '0-Under 300', '0-90-94', '409', '120-150/week', '0-upto 80 pound', '0-The budget is 1500 per month.', '2000-2500 pcm', '£210/week', '0-160-70£ week', '0-Brunel University', '£110', '600-750pm', '210-230', '1400-1500', '0-600-700 per month', '0-140/week for double occupancy', '0-€300 per month', '£250-260Per Week', '0-should be on least side 125', '1300', '300/ week', '430 for 2 bedroom', '900 per month', '0-450 Eur', '0-90 to 120', '120 pounds', '0-80£ per week', '0-60 to 75 per week', '0-90£', '£250-300 Per week', '0-130-150 per week studio', '0-40 pounds', '0-The summit', '0-90-100 GBP', '1099', '60 per week', '0-I am looking for 3 bed house with max rent 375 p', '0-Farnham england', '0-135', '0-$20', '0-Goods and phone', '0-£120 TO £140', '0-80-100 £', '0-170 max', '0-Less than 200 pounds', '0-150 to 180', '70-90', '£220/week', '363', '80/week', '0-Getting a distinction', '£800 Per Week', \"0-That I can't say. What is the budget for Interna\", \"0-We r a family do you'll help for family accomoda\", '0-75 -85 per week', '0-400 to 600', '130-150', '0-60 pounds to 120 pounds per week', '0-400 € per week', '80-100', '0-Not so expensive', '> 350£ Per Week', '> 200£ Per Week', '0-NA', '150$ Per week', '250\\\\', '460/month max', '0-you can help me', '0-£175 - £196pw', '60-70/week', '0-80 pounds to 100', '0-75 -85', '0-300-500', '140-170/week', '100 per week .', '1250-1500', '0-170£', '500-1000', '0-50-100', '0-200-260', '210/week', '0-150£ maximum', '0-£400-433', '223', '0-Less than 180', '0-200-250pound per week', '500/ month', '£150 - £160 Per Week', '0-30 pounds', '1565', '0-500? Depends on my performance and job.', '0-Noo', '0-Around 400 pound', '0-lowest, i have one friend to the same campus , a', '0-80gbp to 100 gbp', '646', '0-150-160 max', '200-250', '0-200-300+', '0-70-75', '0-75 to 85', '£100 - £115 Per week', '5', '£60 - £140 Per week', '0-180- 220', '700pcm', '0-£130prw', '599', '0-£300-400', '0-50000', '0-£230', '500/600 pcm', '0-10,000 GBP PA', '550pm', '1860', '0-350-400', '180-260/week', '371', '467', '£130-150 Per week', '0-1000-1200 pcm', '720', \"0-I don't know yet but i want shared apartment or\", '£130 - £160 Per Week', '0-Hendon precisely', '0-100€ per week', '0-cheapest', '0-150 to 200 pounds, all inclusive bill', '0-15', '0-140 -150', '0-50-60£', '618', '0-50-60', '0-I will be schooling at Robert Gordon University', '300pm', '0-50 Euros', '144/week', '0-$250', '272', '0-200GBP', '400/WEEK', '0-309', '80-90 pw', '70-100/week', '250-400 pcm', '0-100 t0 150', '150 Per week', '700 a month', '120-150 pw', '0-Please look at my initial message , the premium ', '300-400/week', '15/week', '0-Per month', '0-All bills inclusive 500pounds', '160/Per Week', '0-100 pounds a month', '0-Can I pay monthly', '500 PM', '230 weeks', '0-550£', '0-60-75', '500-750', '0-£120-130', '0-120-140', '0-160-170 per week', '0-250 - 300 pounds per week', '110-120 pw', '0-100-150 GBP per person per week', '0-Between 70 to 80', '100pw', '0-120 Euros per week', '0-80-90£per week', '0-20000', '0-Near University of Leeds', '0-60-90 pounds per week', '500 pm', '85-90 pw', '370/w', '0-85-100', '300 per month', '0-60-80', '200 to 210 pw', '70-90/week', '250-500', '0-An average btw 80-110£', \"0-I don't know\", '70-80 pw', '1000 per month for 3', '0-Around 95 pounds and should be shared', 'cheapest', '66', '0-110 to 145 a week', '445', '0-Less than 200£ per week', '0-is this london campus or coventry campus', '288', '0-I need a data entry job', '0-80 euros', '210 Per Week', '170-190', '£250/month Per week', '0-Anywhere between 125-175', '160-180', '145 Per Week', '250/weeks', '£180-£200', '0-75 to 90', '0-100-125 pounds', '0-BIRMINGHAM', '0-Cardiff', '0-Flexible', '350-375/week', '130-150pw', '0-270£', '75/WEEK', '500 - 600', '0-between 300 and 350 a month', '961', '150-200/week', '320-360/week', '0-£30-£50', '0-I am prospective student of NTu', '0-160 to 199', '0-80 pound', '0-Not sure yet…\\nLooking for something very near Wa', '0-Glasgoe', '550/week', '>125/week', '£140-150 Per Week', '400 month']))]\n",
    "\n"
   ]
  },
  {
   "cell_type": "markdown",
   "id": "ef2a313c-8cc0-40a2-b4d8-f2f54941cbeb",
   "metadata": {
    "jp-MarkdownHeadingCollapsed": true,
    "tags": []
   },
   "source": [
    "# filtering the lease column having 1,2 values"
   ]
  },
  {
   "cell_type": "code",
   "execution_count": 17,
   "id": "6084e035-56e5-4462-a296-1fb95f891472",
   "metadata": {},
   "outputs": [],
   "source": [
    "\n",
    "# Filtered budget\n",
    "df = df[df['budget'].apply(lambda val: all(val != s for s in ['66', '0-110 to 145 a week', '445', '0-Less than 200£ per week', '0-is this london campus or coventry campus', '288', '0-I need a data entry job', '0-80 euros', '210 Per Week', '170-190', '£250/month Per week', '0-Anywhere between 125-175', '160-180', '145 Per Week', '250/weeks', '£180-£200', '0-75 to 90', '0-100-125 pounds', '0-BIRMINGHAM', '0-Cardiff', '0-Flexible', '350-375/week', '130-150pw', '0-270£', '75/WEEK', '500 - 600', '0-between 300 and 350 a month', '961', '150-200/week', '320-360/week', '0-£30-£50', '0-I am prospective student of NTu', '0-160 to 199', '0-80 pound', '0-Not sure yet…\\nLooking for something very near Wa', '0-Glasgoe', '550/week', '>125/week', '£140-150 Per Week', '400 month']))]\n",
    "df = df[df['budget'].notnull()]"
   ]
  },
  {
   "cell_type": "markdown",
   "id": "ef54501a-1661-442f-9e62-c7414d3e9034",
   "metadata": {
    "jp-MarkdownHeadingCollapsed": true,
    "tags": []
   },
   "source": [
    "# filtering the all option in status columns other than won and lost"
   ]
  },
  {
   "cell_type": "code",
   "execution_count": 18,
   "id": "068eb95a-853b-4114-a0df-9972e3610d27",
   "metadata": {},
   "outputs": [],
   "source": [
    "\n",
    "# Filtered status\n",
    "df = df[df['status'].apply(lambda val: all(val != s for s in ['CONTACTED', 'IMPORTANT', 'OPPORTUNITY', 'PROCESSING']))]\n"
   ]
  },
  {
   "cell_type": "raw",
   "id": "beeaa8a6-6304-44c3-9be2-b36f07db0c76",
   "metadata": {},
   "source": [
    "df = df[df['lost_reason'].notnull()]\n"
   ]
  },
  {
   "cell_type": "code",
   "execution_count": 19,
   "id": "b58b1d90-2f8a-45ef-9999-803221dbd5cb",
   "metadata": {},
   "outputs": [],
   "source": [
    "df = df[df['lease'].notnull()]"
   ]
  },
  {
   "cell_type": "code",
   "execution_count": 20,
   "id": "3e979bba-92bf-4127-b71d-76524f2342e2",
   "metadata": {},
   "outputs": [],
   "source": [
    "df = df[df['movein'].notnull()]"
   ]
  },
  {
   "cell_type": "code",
   "execution_count": 21,
   "id": "93ae8155-5eee-48ea-9f6b-0e8d7256fd61",
   "metadata": {},
   "outputs": [],
   "source": [
    "df = df[df['room_type'].notnull()]\n"
   ]
  },
  {
   "cell_type": "code",
   "execution_count": 22,
   "id": "71c87c64-69ab-4d6c-a7b4-2e5ba2b6b13f",
   "metadata": {},
   "outputs": [],
   "source": [
    "\n",
    "# Filtered budget\n",
    "df = df[df['budget'].apply(lambda val: all(val != s for s in ['>140/week', '>170/week', '>180/week', '>130/week', '>160/week', '>165/week', '300 (low budget)', '60/week', '>135/week', 'below 100 gbp', 'not tight on budget']))]\n",
    "\n",
    "# Filtered lease\n",
    "df = df[df['lease'].apply(lambda val: all(val != s for s in ['44-51', '44 - 51', '12-24', '44-51weeks', '44/51 weeks', '44-51 weeks', '20 - 24 weeks', '50 - 52 weeks']))]\n"
   ]
  },
  {
   "cell_type": "code",
   "execution_count": null,
   "id": "e5281404-8e25-47dc-aa5e-6ef7651ba25a",
   "metadata": {},
   "outputs": [],
   "source": []
  },
  {
   "cell_type": "code",
   "execution_count": 23,
   "id": "795507a6-f7f0-47ed-af40-2aad7538b00a",
   "metadata": {},
   "outputs": [
    {
     "data": {
      "text/plain": [
       "status            0\n",
       "lost_reason    1422\n",
       "budget            0\n",
       "lease             0\n",
       "movein            0\n",
       "room_type         0\n",
       "dtype: int64"
      ]
     },
     "execution_count": 23,
     "metadata": {},
     "output_type": "execute_result"
    }
   ],
   "source": [
    "df.isnull().sum()"
   ]
  },
  {
   "cell_type": "code",
   "execution_count": 24,
   "id": "d6193e3a-7c15-4d95-a253-e32811ee5e8e",
   "metadata": {},
   "outputs": [
    {
     "name": "stdout",
     "output_type": "stream",
     "text": [
      "status\n",
      "room_type\n"
     ]
    }
   ],
   "source": [
    "for i in df.columns:    # i refers to the column in train_df\n",
    "    if df[i].nunique() < 20:\n",
    "        print(i)\n",
    "        #df.drop(i, inplace = True, axis = 1)"
   ]
  },
  {
   "cell_type": "code",
   "execution_count": null,
   "id": "a17529ca-21fa-4ad0-b9be-6ab37e0643d8",
   "metadata": {},
   "outputs": [],
   "source": []
  },
  {
   "cell_type": "markdown",
   "id": "0e182c52-8017-4f6e-b5ee-2e5f7992e3ab",
   "metadata": {},
   "source": [
    "# backward filling for lost reason"
   ]
  },
  {
   "cell_type": "code",
   "execution_count": 25,
   "id": "e087f2f4-ef13-4e23-a802-a422f12e84f3",
   "metadata": {},
   "outputs": [],
   "source": [
    "\n",
    "# Filled NaN values in 1 columns in df\n",
    "columns_to_fill_nan = ['lost_reason']\n",
    "df[columns_to_fill_nan] = df[columns_to_fill_nan].fillna(method='bfill')\n"
   ]
  },
  {
   "cell_type": "code",
   "execution_count": null,
   "id": "6093e40b-ba66-47b4-98e3-3bfeaafa6076",
   "metadata": {},
   "outputs": [],
   "source": []
  },
  {
   "cell_type": "code",
   "execution_count": null,
   "id": "7ed2c171-f9ac-446b-95ec-7f69a012e457",
   "metadata": {},
   "outputs": [],
   "source": []
  },
  {
   "cell_type": "code",
   "execution_count": null,
   "id": "f8a6d1a3-c5be-4b63-81a9-117af71f5d89",
   "metadata": {},
   "outputs": [],
   "source": []
  },
  {
   "cell_type": "code",
   "execution_count": null,
   "id": "31231d8c-5e55-4ff4-b54d-bf35a9917171",
   "metadata": {},
   "outputs": [],
   "source": []
  },
  {
   "cell_type": "code",
   "execution_count": null,
   "id": "f95b3c4e-bcc3-4dca-9beb-2a4e8c18f8ed",
   "metadata": {},
   "outputs": [],
   "source": []
  },
  {
   "cell_type": "code",
   "execution_count": 26,
   "id": "2502851b-b1a8-4ba3-9857-760383b0fff9",
   "metadata": {},
   "outputs": [],
   "source": [
    "df1=df.copy()"
   ]
  },
  {
   "cell_type": "markdown",
   "id": "dc9dff1d-979b-4263-95a9-ce07ef01835f",
   "metadata": {},
   "source": [
    "# handling category features"
   ]
  },
  {
   "cell_type": "code",
   "execution_count": 27,
   "id": "6afc4c92-5bb8-4520-8cbd-bd15d4a941da",
   "metadata": {},
   "outputs": [
    {
     "name": "stdout",
     "output_type": "stream",
     "text": [
      "       status  lost_reason  budget  lease  movein  room_type    0    1    2  \\\n",
      "2           0           21     105     44     386          0  1.0  0.0  0.0   \n",
      "7           0           29     113     31     104          1  1.0  0.0  0.0   \n",
      "11          0           21     105     44     190          0  1.0  0.0  0.0   \n",
      "12          0           29     105     44      26          1  1.0  0.0  0.0   \n",
      "13          0           21     113     43      55          1  1.0  0.0  0.0   \n",
      "...       ...          ...     ...    ...     ...        ...  ...  ...  ...   \n",
      "46602       0           29     105     47     241          1  NaN  NaN  NaN   \n",
      "46603       0           15     123     43      12          3  NaN  NaN  NaN   \n",
      "46604       0           24     123     50     356          3  NaN  NaN  NaN   \n",
      "46605       0           15     116     44     254          3  NaN  NaN  NaN   \n",
      "46607       0           15     113     44      12          3  NaN  NaN  NaN   \n",
      "\n",
      "         3  ...  600  601  602  603  604  605  606  607  608  609  \n",
      "2      0.0  ...  0.0  0.0  0.0  0.0  0.0  1.0  0.0  0.0  0.0  0.0  \n",
      "7      0.0  ...  0.0  0.0  0.0  0.0  0.0  1.0  0.0  0.0  0.0  0.0  \n",
      "11     0.0  ...  0.0  0.0  0.0  0.0  0.0  0.0  1.0  0.0  0.0  0.0  \n",
      "12     0.0  ...  0.0  0.0  0.0  0.0  0.0  1.0  0.0  0.0  0.0  0.0  \n",
      "13     0.0  ...  0.0  0.0  0.0  0.0  0.0  0.0  1.0  0.0  0.0  0.0  \n",
      "...    ...  ...  ...  ...  ...  ...  ...  ...  ...  ...  ...  ...  \n",
      "46602  NaN  ...  NaN  NaN  NaN  NaN  NaN  NaN  NaN  NaN  NaN  NaN  \n",
      "46603  NaN  ...  NaN  NaN  NaN  NaN  NaN  NaN  NaN  NaN  NaN  NaN  \n",
      "46604  NaN  ...  NaN  NaN  NaN  NaN  NaN  NaN  NaN  NaN  NaN  NaN  \n",
      "46605  NaN  ...  NaN  NaN  NaN  NaN  NaN  NaN  NaN  NaN  NaN  NaN  \n",
      "46607  NaN  ...  NaN  NaN  NaN  NaN  NaN  NaN  NaN  NaN  NaN  NaN  \n",
      "\n",
      "[22471 rows x 616 columns]\n"
     ]
    }
   ],
   "source": [
    "from sklearn.preprocessing import OneHotEncoder\n",
    "\n",
    "\n",
    "# Converting type of columns to category\n",
    "df1['lost_reason']=df1['lost_reason'].astype('category')\n",
    "df1['status']=df1['status'].astype('category')\n",
    "df1['budget']=df1['budget'].astype('category')\n",
    "df1['lease']=df1['lease'].astype('category')\n",
    "df1['movein']=df1['movein'].astype('category')\n",
    "df1['room_type']=df1['room_type'].astype('category')\n",
    "\n",
    "\n",
    "#Assigning numerical values and storing it in another columns\n",
    "df1['status']=df1['status'].cat.codes\n",
    "df1['lost_reason']=df1['lost_reason'].cat.codes\n",
    "df1['budget']=df1['budget'].cat.codes\n",
    "df1['lease']=df1['lease'].cat.codes\n",
    "df1['movein']=df1['movein'].cat.codes\n",
    "df1['room_type']=df1['room_type'].cat.codes\n",
    "#Create an instance of One-hot-encoder\n",
    "enc=OneHotEncoder()\n",
    "\n",
    "#Passing encoded columns\n",
    "'''\n",
    "NOTE: we have converted the enc.fit_transform() method to array because the fit_transform method\n",
    "of OneHotEncoder returns SpiPy sparse matrix this enables us to save space when we\n",
    "have huge number of categorical variables\n",
    "'''\n",
    "enc_data=pd.DataFrame(enc.fit_transform(df1[['status', 'lost_reason', 'budget', 'lease', 'movein', 'room_type']]).toarray())\n",
    "\n",
    "#Merge with main\n",
    "new_df=df1.join(enc_data)\n",
    "\n",
    "print(new_df)\n"
   ]
  },
  {
   "cell_type": "markdown",
   "id": "0ba56b32-00d3-448a-b123-d50caad8abd7",
   "metadata": {},
   "source": [
    "#### Select the Dependent and Independent Features"
   ]
  },
  {
   "cell_type": "code",
   "execution_count": 28,
   "id": "eced79cb-0802-4dce-892d-f3da6572f3f3",
   "metadata": {},
   "outputs": [
    {
     "name": "stdout",
     "output_type": "stream",
     "text": [
      "<class 'pandas.core.frame.DataFrame'>\n",
      "<class 'pandas.core.series.Series'>\n",
      "(22471, 5) (22471,)\n"
     ]
    }
   ],
   "source": [
    "x = df1.drop('status',axis=1)  # dataframe\n",
    "y = df1['status']              # series\n",
    "print(type(x))\n",
    "print(type(y))\n",
    "print(x.shape,y.shape)"
   ]
  },
  {
   "cell_type": "markdown",
   "id": "7b6331ce-409a-42c3-9a0e-2bb1c84384b2",
   "metadata": {},
   "source": [
    "#### Dividing the data into training and testing data"
   ]
  },
  {
   "cell_type": "code",
   "execution_count": 29,
   "id": "60a3c1ee-38fe-42e7-ae16-f65e09542c24",
   "metadata": {},
   "outputs": [],
   "source": [
    "from sklearn.model_selection import train_test_split"
   ]
  },
  {
   "cell_type": "code",
   "execution_count": 30,
   "id": "03bbf5b4-4dab-4fe1-b055-b4ca3c0eb01f",
   "metadata": {},
   "outputs": [
    {
     "name": "stdout",
     "output_type": "stream",
     "text": [
      "19005.0\n",
      "57015\n"
     ]
    }
   ],
   "source": [
    "print(76020*0.25)\n",
    "print(76020 - 19005)"
   ]
  },
  {
   "cell_type": "code",
   "execution_count": 31,
   "id": "ba3659ca-e48b-4c2f-88ed-16f09fad4fce",
   "metadata": {},
   "outputs": [
    {
     "name": "stdout",
     "output_type": "stream",
     "text": [
      "(16853, 5)\n",
      "(5618, 5)\n",
      "(16853,)\n",
      "(5618,)\n"
     ]
    }
   ],
   "source": [
    "x_train,x_test,y_train,y_test = train_test_split(x,y,test_size=0.25,random_state=42)\n",
    "print(x_train.shape)\n",
    "print(x_test.shape)\n",
    "print(y_train.shape)\n",
    "print(y_test.shape)"
   ]
  },
  {
   "cell_type": "markdown",
   "id": "3a4a61c1-9677-468c-9860-b08c28a7ac5c",
   "metadata": {},
   "source": [
    "#### Creating Functions to generate confusion matrix, classification report, accuracy score, ROC_AUC Score and to compute Training and the Testing Score"
   ]
  },
  {
   "cell_type": "code",
   "execution_count": 32,
   "id": "e0757831-273c-48c0-9b1a-04f08f9166ee",
   "metadata": {},
   "outputs": [],
   "source": [
    "from sklearn.metrics import confusion_matrix,classification_report,accuracy_score\n",
    "from sklearn.metrics import roc_auc_score,roc_curve, auc"
   ]
  },
  {
   "cell_type": "code",
   "execution_count": 33,
   "id": "42729c21-0551-4bf9-8421-331418789a8a",
   "metadata": {},
   "outputs": [],
   "source": [
    "d = {'Model':[],'TP':[],'FN':[],'FP':[],'TN':[],'Acc':[],'AUC':[]}\n",
    "\n",
    "def eval_model(model,model_name,x_test,ytest,ypred):\n",
    "    cm = confusion_matrix(ytest,ypred)\n",
    "    acc = accuracy_score(ytest,ypred)\n",
    "    cls_rep = classification_report(ytest,ypred,zero_division=0)\n",
    "    auc_score = roc_auc_score(y_test,model.predict_proba(x_test)[:,1])\n",
    "    print('Confusion Matrix\\n',cm)\n",
    "    print('Accuracy Score',acc)\n",
    "    print('AUC Score',auc_score)\n",
    "    print('Classification Report\\n',cls_rep)\n",
    "    d['Model'].append(model_name)\n",
    "    d['TP'].append(cm[0,0])\n",
    "    d['FN'].append(cm[0,1])\n",
    "    d['FP'].append(cm[1,0])\n",
    "    d['TN'].append(cm[1,1])\n",
    "    d['Acc'].append(acc)\n",
    "    d['AUC'].append(auc_score)\n",
    "    \n",
    "    \n",
    "def plot_roc_auc(model,ytest):\n",
    "    fpr,tpr,thresh = roc_curve(y_test,model.predict_proba(x_test)[:,1])\n",
    "    auc_score = roc_auc_score(y_test,model.predict_proba(x_test)[:,1])\n",
    "    print('Area Under Curve',auc_score)\n",
    "    plt.plot(fpr,tpr,color='orange')\n",
    "    plt.plot([0,1],[0,1],label='TPR=FPR')\n",
    "    plt.title('ROC_AUC Curve')\n",
    "    plt.xlabel('FPR')\n",
    "    plt.ylabel('TPR')\n",
    "    plt.grid()\n",
    "    plt.legend()\n",
    "    plt.show()\n",
    "    \n",
    "def mscore(model):\n",
    "    print('Training Score',model.score(x_train,y_train))  # Training dataset Accuracy\n",
    "    print('Testing Score',model.score(x_test,y_test))     # Testing dataset accuracy"
   ]
  },
  {
   "cell_type": "code",
   "execution_count": null,
   "id": "195ed83d-0ab4-4bf5-ab19-b4844c42b8fe",
   "metadata": {},
   "outputs": [],
   "source": []
  },
  {
   "cell_type": "code",
   "execution_count": null,
   "id": "63d853ea-7be9-4a30-a130-63d06bf73944",
   "metadata": {},
   "outputs": [],
   "source": []
  },
  {
   "cell_type": "code",
   "execution_count": null,
   "id": "1a5fb6da-5b35-4edf-89cf-96b47e631afd",
   "metadata": {},
   "outputs": [],
   "source": []
  },
  {
   "cell_type": "code",
   "execution_count": null,
   "id": "c150a5f7-8c85-4305-b9cb-d71a1e3af7f0",
   "metadata": {},
   "outputs": [],
   "source": []
  },
  {
   "cell_type": "markdown",
   "id": "bdaa8c18-57df-4643-9f5c-5ceff047a874",
   "metadata": {},
   "source": [
    "#### 1) Applying Logistic Regression"
   ]
  },
  {
   "cell_type": "code",
   "execution_count": null,
   "id": "585333cb-10b6-410e-9749-adf356f8ceb4",
   "metadata": {},
   "outputs": [],
   "source": [
    "step1 = ColumnTransformer(transformers=\n",
    "                         [('col_transf',OneHotEncoder(drop='first',sparse=False),[0,1,6,9,10])],\n",
    "                         remainder='passthrough')\n",
    "step2 = LinearRegression()\n",
    "\n",
    "pipe_lr = Pipeline([('step1',step1),('step2',step2)])\n",
    "\n",
    "pipe_lr.fit(x_train,y_train)\n",
    "\n",
    "ypred_lr = pipe_lr.predict(x_test)\n",
    "\n",
    "eval_model(y_test,ypred_lr)"
   ]
  },
  {
   "cell_type": "code",
   "execution_count": 34,
   "id": "615e151b-e522-40e8-964a-ab5b8457277b",
   "metadata": {},
   "outputs": [],
   "source": [
    "# importing LogReg library\n",
    "from sklearn.linear_model import LogisticRegression"
   ]
  },
  {
   "cell_type": "code",
   "execution_count": 35,
   "id": "b7bea515-1f77-4c15-8359-b0f81afda0a6",
   "metadata": {},
   "outputs": [
    {
     "data": {
      "text/plain": [
       "LogisticRegression(max_iter=100000, solver='liblinear')"
      ]
     },
     "execution_count": 35,
     "metadata": {},
     "output_type": "execute_result"
    }
   ],
   "source": [
    "# Building the LogReg model\n",
    "log_reg = LogisticRegression(max_iter=100000,solver='liblinear')\n",
    "log_reg.fit(x_train,y_train)"
   ]
  },
  {
   "cell_type": "code",
   "execution_count": 36,
   "id": "7c40d1bf-498b-41ad-be8e-89761098ccb3",
   "metadata": {},
   "outputs": [
    {
     "name": "stdout",
     "output_type": "stream",
     "text": [
      "Training Score 0.9378152257758262\n",
      "Testing Score 0.9334282662869349\n"
     ]
    }
   ],
   "source": [
    "# Computing Training and testing score\n",
    "mscore(log_reg)"
   ]
  },
  {
   "cell_type": "code",
   "execution_count": 37,
   "id": "f2793e19-56b8-4c3e-b672-775084b59b0b",
   "metadata": {},
   "outputs": [
    {
     "name": "stdout",
     "output_type": "stream",
     "text": [
      "[0 0 0 ... 0 0 0]\n"
     ]
    }
   ],
   "source": [
    "# Generating prediction\n",
    "ypred_logreg = log_reg.predict(x_test)\n",
    "print(ypred_logreg)"
   ]
  },
  {
   "cell_type": "code",
   "execution_count": 38,
   "id": "a77574b0-7ccd-456b-a4eb-7eb5e7ce0e6c",
   "metadata": {},
   "outputs": [
    {
     "name": "stdout",
     "output_type": "stream",
     "text": [
      "Confusion Matrix\n",
      " [[5244    0]\n",
      " [ 374    0]]\n",
      "Accuracy Score 0.9334282662869349\n",
      "AUC Score 0.5954459795151679\n",
      "Classification Report\n",
      "               precision    recall  f1-score   support\n",
      "\n",
      "           0       0.93      1.00      0.97      5244\n",
      "           1       0.00      0.00      0.00       374\n",
      "\n",
      "    accuracy                           0.93      5618\n",
      "   macro avg       0.47      0.50      0.48      5618\n",
      "weighted avg       0.87      0.93      0.90      5618\n",
      "\n"
     ]
    }
   ],
   "source": [
    "# Evaluate the model - confusion matrix, clasification Report, AUC Score, Accuaracy\n",
    "eval_model(log_reg,'Log_Reg',x_test,y_test,ypred_logreg)"
   ]
  },
  {
   "cell_type": "code",
   "execution_count": 39,
   "id": "8ddb5d7f-43db-4c93-a99c-5f18f665be9c",
   "metadata": {},
   "outputs": [
    {
     "name": "stdout",
     "output_type": "stream",
     "text": [
      "Area Under Curve 0.5954459795151679\n"
     ]
    },
    {
     "data": {
      "image/png": "[encoded data removed]",
      "text/plain": [
       "<Figure size 640x480 with 1 Axes>"
      ]
     },
     "metadata": {},
     "output_type": "display_data"
    }
   ],
   "source": [
    "# Plotting ROC AUC Curve\n",
    "plot_roc_auc(log_reg,y_test)"
   ]
  },
  {
   "cell_type": "markdown",
   "id": "e4ed21e4-af25-4384-a653-9f9c33f378cd",
   "metadata": {},
   "source": [
    "#### Applying Decision Tree Classifier"
   ]
  },
  {
   "cell_type": "code",
   "execution_count": 40,
   "id": "7bbb1740-4367-4505-b2d0-428478722c89",
   "metadata": {},
   "outputs": [],
   "source": [
    "# importing DT library\n",
    "from sklearn.tree import DecisionTreeClassifier"
   ]
  },
  {
   "cell_type": "code",
   "execution_count": 41,
   "id": "e305f43c-5b5f-45fe-9f83-039d88226f83",
   "metadata": {},
   "outputs": [
    {
     "data": {
      "text/plain": [
       "DecisionTreeClassifier(max_depth=10, min_samples_split=50)"
      ]
     },
     "execution_count": 41,
     "metadata": {},
     "output_type": "execute_result"
    }
   ],
   "source": [
    "# Building the Decition Tree model\n",
    "dt = DecisionTreeClassifier(criterion='gini',min_samples_split=50,max_depth=10)\n",
    "dt.fit(x_train,y_train)"
   ]
  },
  {
   "cell_type": "code",
   "execution_count": 42,
   "id": "02beb184-d30f-4279-b5f4-ea7baeac7568",
   "metadata": {},
   "outputs": [
    {
     "name": "stdout",
     "output_type": "stream",
     "text": [
      "Training Score 0.9410194030736367\n",
      "Testing Score 0.9327162691349234\n"
     ]
    }
   ],
   "source": [
    "# Training and the Testing Score\n",
    "mscore(dt)"
   ]
  },
  {
   "cell_type": "code",
   "execution_count": 43,
   "id": "7a9c69fb-21e0-4378-b421-fa9f59c926fa",
   "metadata": {},
   "outputs": [],
   "source": [
    "# Generating the predictions\n",
    "ypred_dt = dt.predict(x_test)"
   ]
  },
  {
   "cell_type": "code",
   "execution_count": 44,
   "id": "80b9adec-53fc-452f-ad3f-ee361da96d7a",
   "metadata": {},
   "outputs": [
    {
     "name": "stdout",
     "output_type": "stream",
     "text": [
      "Confusion Matrix\n",
      " [[5226   18]\n",
      " [ 360   14]]\n",
      "Accuracy Score 0.9327162691349234\n",
      "AUC Score 0.6325219655159755\n",
      "Classification Report\n",
      "               precision    recall  f1-score   support\n",
      "\n",
      "           0       0.94      1.00      0.97      5244\n",
      "           1       0.44      0.04      0.07       374\n",
      "\n",
      "    accuracy                           0.93      5618\n",
      "   macro avg       0.69      0.52      0.52      5618\n",
      "weighted avg       0.90      0.93      0.91      5618\n",
      "\n"
     ]
    }
   ],
   "source": [
    "# Evaluate the model - confusion matrix, classification Report, AUC Score, Accuaracy\n",
    "eval_model(dt,'DT',x_test,y_test,ypred_dt)"
   ]
  },
  {
   "cell_type": "code",
   "execution_count": 45,
   "id": "45471c97-56cf-4d5f-86fb-3d9dbe83ce53",
   "metadata": {},
   "outputs": [
    {
     "name": "stdout",
     "output_type": "stream",
     "text": [
      "Area Under Curve 0.6325219655159755\n"
     ]
    },
    {
     "data": {
      "image/png": "[encoded data removed]",
      "text/plain": [
       "<Figure size 640x480 with 1 Axes>"
      ]
     },
     "metadata": {},
     "output_type": "display_data"
    }
   ],
   "source": [
    "# Plotting ROC_AUC Curve\n",
    "plot_roc_auc(dt,y_test)"
   ]
  },
  {
   "cell_type": "markdown",
   "id": "168455c3-9501-47b2-838b-3c43fb708924",
   "metadata": {},
   "source": [
    "#### Applying RandomForest Classifier"
   ]
  },
  {
   "cell_type": "code",
   "execution_count": 46,
   "id": "8b4fbd1a-347d-4b69-89b1-432122c24935",
   "metadata": {},
   "outputs": [],
   "source": [
    "# Import random Forest library\n",
    "from sklearn.ensemble import RandomForestClassifier"
   ]
  },
  {
   "cell_type": "code",
   "execution_count": 47,
   "id": "a5b90e71-fe80-4ee8-9bd1-d083c10765dd",
   "metadata": {},
   "outputs": [
    {
     "data": {
      "text/plain": [
       "RandomForestClassifier(max_depth=10, min_samples_split=50, n_estimators=80)"
      ]
     },
     "execution_count": 47,
     "metadata": {},
     "output_type": "execute_result"
    }
   ],
   "source": [
    "# Building the RF Model\n",
    "rf = RandomForestClassifier(n_estimators=80,criterion='gini',min_samples_split=50,max_depth=10)\n",
    "rf.fit(x_train,y_train)"
   ]
  },
  {
   "cell_type": "code",
   "execution_count": 48,
   "id": "2de3ead0-84b9-48a2-8a8c-8c68fed0e52b",
   "metadata": {},
   "outputs": [
    {
     "name": "stdout",
     "output_type": "stream",
     "text": [
      "Training Score 0.9388832848750964\n",
      "Testing Score 0.9334282662869349\n"
     ]
    }
   ],
   "source": [
    "# Training and the testing Score\n",
    "mscore(rf)"
   ]
  },
  {
   "cell_type": "code",
   "execution_count": 49,
   "id": "e27329fe-5bb8-4917-a3cd-3da4736a81cc",
   "metadata": {},
   "outputs": [],
   "source": [
    "# Generating the predictions\n",
    "ypred_rf = rf.predict(x_test)"
   ]
  },
  {
   "cell_type": "code",
   "execution_count": 50,
   "id": "9b22faca-f88c-4129-a817-9cce1841a5ec",
   "metadata": {},
   "outputs": [
    {
     "name": "stdout",
     "output_type": "stream",
     "text": [
      "Confusion Matrix\n",
      " [[5241    3]\n",
      " [ 371    3]]\n",
      "Accuracy Score 0.9334282662869349\n",
      "AUC Score 0.6617733737971994\n",
      "Classification Report\n",
      "               precision    recall  f1-score   support\n",
      "\n",
      "           0       0.93      1.00      0.97      5244\n",
      "           1       0.50      0.01      0.02       374\n",
      "\n",
      "    accuracy                           0.93      5618\n",
      "   macro avg       0.72      0.50      0.49      5618\n",
      "weighted avg       0.91      0.93      0.90      5618\n",
      "\n"
     ]
    }
   ],
   "source": [
    "# Evaluate the model - confusion matrix, classification Report, AUC Score, Accuaracy\n",
    "eval_model(rf,'Random Forest',x_test,y_test,ypred_rf)"
   ]
  },
  {
   "cell_type": "code",
   "execution_count": 51,
   "id": "ded2c682-0607-4475-ac1d-844614fbc12f",
   "metadata": {},
   "outputs": [
    {
     "name": "stdout",
     "output_type": "stream",
     "text": [
      "Area Under Curve 0.6617733737971994\n"
     ]
    },
    {
     "data": {
      "image/png": "[encoded data removed]",
      "text/plain": [
       "<Figure size 640x480 with 1 Axes>"
      ]
     },
     "metadata": {},
     "output_type": "display_data"
    }
   ],
   "source": [
    "# Plotting ROC_AUC Curve\n",
    "plot_roc_auc(rf,y_test)"
   ]
  },
  {
   "cell_type": "markdown",
   "id": "ad77f7c7-be47-458d-8c2c-20dec05e8f4d",
   "metadata": {},
   "source": [
    "#### Applying Ensemble Learning"
   ]
  },
  {
   "cell_type": "code",
   "execution_count": 52,
   "id": "14cbef30-b01a-4c96-9a29-efb36a2c4156",
   "metadata": {},
   "outputs": [],
   "source": [
    "# Importing the  AdaBoost Classifier library\n",
    "from sklearn.ensemble import AdaBoostClassifier"
   ]
  },
  {
   "cell_type": "code",
   "execution_count": 53,
   "id": "92d9f9b6-9d95-4294-af95-60531f27e611",
   "metadata": {},
   "outputs": [
    {
     "data": {
      "text/plain": [
       "AdaBoostClassifier(n_estimators=70)"
      ]
     },
     "execution_count": 53,
     "metadata": {},
     "output_type": "execute_result"
    }
   ],
   "source": [
    "# Builing the Adaboost model\n",
    "adab = AdaBoostClassifier(n_estimators=70)\n",
    "adab.fit(x_train,y_train)"
   ]
  },
  {
   "cell_type": "code",
   "execution_count": 54,
   "id": "849463f1-9cb5-47f1-8a80-9de3e5821d64",
   "metadata": {},
   "outputs": [
    {
     "name": "stdout",
     "output_type": "stream",
     "text": [
      "Training Score 0.9378152257758262\n",
      "Testing Score 0.9334282662869349\n"
     ]
    }
   ],
   "source": [
    "# Computing the Training and Testing Score\n",
    "mscore(adab)"
   ]
  },
  {
   "cell_type": "code",
   "execution_count": 55,
   "id": "5e867358-304e-4965-8067-4b16b8fdec2c",
   "metadata": {},
   "outputs": [],
   "source": [
    "# Generating the predictions\n",
    "ypred_adab = adab.predict(x_test)"
   ]
  },
  {
   "cell_type": "code",
   "execution_count": 56,
   "id": "e51a2e44-4503-45a4-8534-7bd5c54c6b1e",
   "metadata": {},
   "outputs": [
    {
     "name": "stdout",
     "output_type": "stream",
     "text": [
      "Confusion Matrix\n",
      " [[5244    0]\n",
      " [ 374    0]]\n",
      "Accuracy Score 0.9334282662869349\n",
      "AUC Score 0.6429153052941584\n",
      "Classification Report\n",
      "               precision    recall  f1-score   support\n",
      "\n",
      "           0       0.93      1.00      0.97      5244\n",
      "           1       0.00      0.00      0.00       374\n",
      "\n",
      "    accuracy                           0.93      5618\n",
      "   macro avg       0.47      0.50      0.48      5618\n",
      "weighted avg       0.87      0.93      0.90      5618\n",
      "\n"
     ]
    }
   ],
   "source": [
    "# Evaluate the model - confusion matrix, classification Report, AUC Score, Accuaracy\n",
    "eval_model(adab,'AdaBoost',x_test,y_test,ypred_adab)"
   ]
  },
  {
   "cell_type": "code",
   "execution_count": 57,
   "id": "50ab9a37-4fb8-4dd5-9eb6-8d69b9a0a1c7",
   "metadata": {},
   "outputs": [
    {
     "name": "stdout",
     "output_type": "stream",
     "text": [
      "Area Under Curve 0.6429153052941584\n"
     ]
    },
    {
     "data": {
      "image/png": "[encoded data removed]",
      "text/plain": [
       "<Figure size 640x480 with 1 Axes>"
      ]
     },
     "metadata": {},
     "output_type": "display_data"
    }
   ],
   "source": [
    "# Plotting the ROC_AUC Curve\n",
    "plot_roc_auc(adab,y_test)"
   ]
  },
  {
   "cell_type": "markdown",
   "id": "e7abbf3a-f22a-4386-bd68-38e44e05cc9e",
   "metadata": {},
   "source": [
    "#### Comparing different Classification Models"
   ]
  },
  {
   "cell_type": "code",
   "execution_count": 58,
   "id": "72f3d837-7c8b-4b68-a8cb-97a7eb62d9d7",
   "metadata": {},
   "outputs": [
    {
     "name": "stdout",
     "output_type": "stream",
     "text": [
      "{'Model': ['Log_Reg', 'DT', 'Random Forest', 'AdaBoost'], 'TP': [5244, 5226, 5241, 5244], 'FN': [0, 18, 3, 0], 'FP': [374, 360, 371, 374], 'TN': [0, 14, 3, 0], 'Acc': [0.9334282662869349, 0.9327162691349234, 0.9334282662869349, 0.9334282662869349], 'AUC': [0.5954459795151679, 0.6325219655159755, 0.6617733737971994, 0.6429153052941584]}\n"
     ]
    }
   ],
   "source": [
    "print(d)"
   ]
  },
  {
   "cell_type": "code",
   "execution_count": 59,
   "id": "2b74d8ad-eb6b-44bb-bfa8-4273e9ca65df",
   "metadata": {},
   "outputs": [
    {
     "data": {
      "text/html": [
       "<div>\n",
       "<style scoped>\n",
       "    .dataframe tbody tr th:only-of-type {\n",
       "        vertical-align: middle;\n",
       "    }\n",
       "\n",
       "    .dataframe tbody tr th {\n",
       "        vertical-align: top;\n",
       "    }\n",
       "\n",
       "    .dataframe thead th {\n",
       "        text-align: right;\n",
       "    }\n",
       "</style>\n",
       "<table border=\"1\" class=\"dataframe\">\n",
       "  <thead>\n",
       "    <tr style=\"text-align: right;\">\n",
       "      <th></th>\n",
       "      <th>Model</th>\n",
       "      <th>TP</th>\n",
       "      <th>FN</th>\n",
       "      <th>FP</th>\n",
       "      <th>TN</th>\n",
       "      <th>Acc</th>\n",
       "      <th>AUC</th>\n",
       "    </tr>\n",
       "  </thead>\n",
       "  <tbody>\n",
       "    <tr>\n",
       "      <th>0</th>\n",
       "      <td>Log_Reg</td>\n",
       "      <td>5244</td>\n",
       "      <td>0</td>\n",
       "      <td>374</td>\n",
       "      <td>0</td>\n",
       "      <td>0.933428</td>\n",
       "      <td>0.595446</td>\n",
       "    </tr>\n",
       "    <tr>\n",
       "      <th>1</th>\n",
       "      <td>DT</td>\n",
       "      <td>5226</td>\n",
       "      <td>18</td>\n",
       "      <td>360</td>\n",
       "      <td>14</td>\n",
       "      <td>0.932716</td>\n",
       "      <td>0.632522</td>\n",
       "    </tr>\n",
       "    <tr>\n",
       "      <th>2</th>\n",
       "      <td>Random Forest</td>\n",
       "      <td>5241</td>\n",
       "      <td>3</td>\n",
       "      <td>371</td>\n",
       "      <td>3</td>\n",
       "      <td>0.933428</td>\n",
       "      <td>0.661773</td>\n",
       "    </tr>\n",
       "    <tr>\n",
       "      <th>3</th>\n",
       "      <td>AdaBoost</td>\n",
       "      <td>5244</td>\n",
       "      <td>0</td>\n",
       "      <td>374</td>\n",
       "      <td>0</td>\n",
       "      <td>0.933428</td>\n",
       "      <td>0.642915</td>\n",
       "    </tr>\n",
       "  </tbody>\n",
       "</table>\n",
       "</div>"
      ],
      "text/plain": [
       "           Model    TP  FN   FP  TN       Acc       AUC\n",
       "0        Log_Reg  5244   0  374   0  0.933428  0.595446\n",
       "1             DT  5226  18  360  14  0.932716  0.632522\n",
       "2  Random Forest  5241   3  371   3  0.933428  0.661773\n",
       "3       AdaBoost  5244   0  374   0  0.933428  0.642915"
      ]
     },
     "execution_count": 59,
     "metadata": {},
     "output_type": "execute_result"
    }
   ],
   "source": [
    "model_performance = pd.DataFrame(d)\n",
    "model_performance"
   ]
  },
  {
   "cell_type": "code",
   "execution_count": null,
   "id": "f958a8e4-a6d3-4247-946d-6f4dcfc75956",
   "metadata": {},
   "outputs": [],
   "source": []
  },
  {
   "cell_type": "code",
   "execution_count": null,
   "id": "0a91d833-0410-41ba-bb08-c4d4e23ba17c",
   "metadata": {},
   "outputs": [],
   "source": []
  },
  {
   "cell_type": "code",
   "execution_count": null,
   "id": "c2efdf47-ed0f-4ea6-9fcd-0b9da0308c6d",
   "metadata": {},
   "outputs": [],
   "source": []
  },
  {
   "cell_type": "markdown",
   "id": "632e3eda-14f7-4b15-8638-fb262b84ac8e",
   "metadata": {},
   "source": [
    "# CLASSIFICATION with pycaret"
   ]
  },
  {
   "cell_type": "code",
   "execution_count": 60,
   "id": "b71b7a66-7f3e-413c-83ea-543e9d4cfa38",
   "metadata": {},
   "outputs": [],
   "source": [
    "from pycaret.datasets import get_data"
   ]
  },
  {
   "cell_type": "markdown",
   "id": "d67c8489-282a-47b7-a5a0-2cdb5a0d6a47",
   "metadata": {},
   "source": [
    "# spilting data for train"
   ]
  },
  {
   "cell_type": "code",
   "execution_count": 61,
   "id": "20afb62e-3ece-46df-9a50-6f13a4a87154",
   "metadata": {},
   "outputs": [],
   "source": [
    "data_train = df1.sample(frac= 0.9, random_state=786)"
   ]
  },
  {
   "cell_type": "code",
   "execution_count": 62,
   "id": "904b5755-2fd9-4ebb-bc10-d8ea691fba7d",
   "metadata": {},
   "outputs": [
    {
     "data": {
      "text/plain": [
       "(20224, 6)"
      ]
     },
     "execution_count": 62,
     "metadata": {},
     "output_type": "execute_result"
    }
   ],
   "source": [
    "\n",
    "data_train.shape"
   ]
  },
  {
   "cell_type": "markdown",
   "id": "0c7ceae7-db47-436e-8ab5-a5fef8477c83",
   "metadata": {},
   "source": [
    "# spilting data for test"
   ]
  },
  {
   "cell_type": "code",
   "execution_count": 63,
   "id": "979e6b36-e0ce-4d41-9c7e-9816db3a87c1",
   "metadata": {},
   "outputs": [],
   "source": [
    "\n",
    "data_test = df1.drop(data_train. index)\n"
   ]
  },
  {
   "cell_type": "code",
   "execution_count": 64,
   "id": "878b1f07-2a24-4a8e-8a99-e56778c669e6",
   "metadata": {},
   "outputs": [
    {
     "data": {
      "text/plain": [
       "(2247, 6)"
      ]
     },
     "execution_count": 64,
     "metadata": {},
     "output_type": "execute_result"
    }
   ],
   "source": [
    "\n",
    "data_test.shape\n"
   ]
  },
  {
   "cell_type": "markdown",
   "id": "8afdd5de-4392-4840-9bd5-1edbfc49abb9",
   "metadata": {},
   "source": [
    " # arranging dataset accordingly for data_train"
   ]
  },
  {
   "cell_type": "code",
   "execution_count": 65,
   "id": "89f1e946-39c1-4953-9201-fb11540d675d",
   "metadata": {},
   "outputs": [],
   "source": [
    "data_train.reset_index(inplace=True,drop=True)"
   ]
  },
  {
   "cell_type": "markdown",
   "id": "c496ebb4-e653-42a9-986e-d23cf5bd621e",
   "metadata": {},
   "source": [
    "# arranging dataset accordingly for data_test"
   ]
  },
  {
   "cell_type": "code",
   "execution_count": 66,
   "id": "657f7987-d566-4b7c-8006-80cb86116b11",
   "metadata": {},
   "outputs": [],
   "source": [
    "data_test.reset_index(inplace=True,drop=True)"
   ]
  },
  {
   "cell_type": "markdown",
   "id": "fb0dd8cc-ff95-4fdd-a02b-b52415ec111b",
   "metadata": {},
   "source": [
    "# implemenation of classification"
   ]
  },
  {
   "cell_type": "code",
   "execution_count": 67,
   "id": "898d49b1-f2a4-4985-9f91-6b70ededb25b",
   "metadata": {},
   "outputs": [],
   "source": [
    "from pycaret.classification import *"
   ]
  },
  {
   "cell_type": "code",
   "execution_count": 69,
   "id": "fcdec01c-73e1-40b6-992c-2326ab43073c",
   "metadata": {},
   "outputs": [
    {
     "data": {
      "text/html": [
       "<style type=\"text/css\">\n",
       "#T_04940_row44_col1 {\n",
       "  background-color: lightgreen;\n",
       "}\n",
       "</style>\n",
       "<table id=\"T_04940\">\n",
       "  <thead>\n",
       "    <tr>\n",
       "      <th class=\"blank level0\" >&nbsp;</th>\n",
       "      <th id=\"T_04940_level0_col0\" class=\"col_heading level0 col0\" >Description</th>\n",
       "      <th id=\"T_04940_level0_col1\" class=\"col_heading level0 col1\" >Value</th>\n",
       "    </tr>\n",
       "  </thead>\n",
       "  <tbody>\n",
       "    <tr>\n",
       "      <th id=\"T_04940_level0_row0\" class=\"row_heading level0 row0\" >0</th>\n",
       "      <td id=\"T_04940_row0_col0\" class=\"data row0 col0\" >session_id</td>\n",
       "      <td id=\"T_04940_row0_col1\" class=\"data row0 col1\" >123</td>\n",
       "    </tr>\n",
       "    <tr>\n",
       "      <th id=\"T_04940_level0_row1\" class=\"row_heading level0 row1\" >1</th>\n",
       "      <td id=\"T_04940_row1_col0\" class=\"data row1 col0\" >Target</td>\n",
       "      <td id=\"T_04940_row1_col1\" class=\"data row1 col1\" >status</td>\n",
       "    </tr>\n",
       "    <tr>\n",
       "      <th id=\"T_04940_level0_row2\" class=\"row_heading level0 row2\" >2</th>\n",
       "      <td id=\"T_04940_row2_col0\" class=\"data row2 col0\" >Target Type</td>\n",
       "      <td id=\"T_04940_row2_col1\" class=\"data row2 col1\" >Binary</td>\n",
       "    </tr>\n",
       "    <tr>\n",
       "      <th id=\"T_04940_level0_row3\" class=\"row_heading level0 row3\" >3</th>\n",
       "      <td id=\"T_04940_row3_col0\" class=\"data row3 col0\" >Label Encoded</td>\n",
       "      <td id=\"T_04940_row3_col1\" class=\"data row3 col1\" >None</td>\n",
       "    </tr>\n",
       "    <tr>\n",
       "      <th id=\"T_04940_level0_row4\" class=\"row_heading level0 row4\" >4</th>\n",
       "      <td id=\"T_04940_row4_col0\" class=\"data row4 col0\" >Original Data</td>\n",
       "      <td id=\"T_04940_row4_col1\" class=\"data row4 col1\" >(20224, 6)</td>\n",
       "    </tr>\n",
       "    <tr>\n",
       "      <th id=\"T_04940_level0_row5\" class=\"row_heading level0 row5\" >5</th>\n",
       "      <td id=\"T_04940_row5_col0\" class=\"data row5 col0\" >Missing Values</td>\n",
       "      <td id=\"T_04940_row5_col1\" class=\"data row5 col1\" >False</td>\n",
       "    </tr>\n",
       "    <tr>\n",
       "      <th id=\"T_04940_level0_row6\" class=\"row_heading level0 row6\" >6</th>\n",
       "      <td id=\"T_04940_row6_col0\" class=\"data row6 col0\" >Numeric Features</td>\n",
       "      <td id=\"T_04940_row6_col1\" class=\"data row6 col1\" >5</td>\n",
       "    </tr>\n",
       "    <tr>\n",
       "      <th id=\"T_04940_level0_row7\" class=\"row_heading level0 row7\" >7</th>\n",
       "      <td id=\"T_04940_row7_col0\" class=\"data row7 col0\" >Categorical Features</td>\n",
       "      <td id=\"T_04940_row7_col1\" class=\"data row7 col1\" >0</td>\n",
       "    </tr>\n",
       "    <tr>\n",
       "      <th id=\"T_04940_level0_row8\" class=\"row_heading level0 row8\" >8</th>\n",
       "      <td id=\"T_04940_row8_col0\" class=\"data row8 col0\" >Ordinal Features</td>\n",
       "      <td id=\"T_04940_row8_col1\" class=\"data row8 col1\" >False</td>\n",
       "    </tr>\n",
       "    <tr>\n",
       "      <th id=\"T_04940_level0_row9\" class=\"row_heading level0 row9\" >9</th>\n",
       "      <td id=\"T_04940_row9_col0\" class=\"data row9 col0\" >High Cardinality Features</td>\n",
       "      <td id=\"T_04940_row9_col1\" class=\"data row9 col1\" >False</td>\n",
       "    </tr>\n",
       "    <tr>\n",
       "      <th id=\"T_04940_level0_row10\" class=\"row_heading level0 row10\" >10</th>\n",
       "      <td id=\"T_04940_row10_col0\" class=\"data row10 col0\" >High Cardinality Method</td>\n",
       "      <td id=\"T_04940_row10_col1\" class=\"data row10 col1\" >None</td>\n",
       "    </tr>\n",
       "    <tr>\n",
       "      <th id=\"T_04940_level0_row11\" class=\"row_heading level0 row11\" >11</th>\n",
       "      <td id=\"T_04940_row11_col0\" class=\"data row11 col0\" >Transformed Train Set</td>\n",
       "      <td id=\"T_04940_row11_col1\" class=\"data row11 col1\" >(14156, 5)</td>\n",
       "    </tr>\n",
       "    <tr>\n",
       "      <th id=\"T_04940_level0_row12\" class=\"row_heading level0 row12\" >12</th>\n",
       "      <td id=\"T_04940_row12_col0\" class=\"data row12 col0\" >Transformed Test Set</td>\n",
       "      <td id=\"T_04940_row12_col1\" class=\"data row12 col1\" >(6068, 5)</td>\n",
       "    </tr>\n",
       "    <tr>\n",
       "      <th id=\"T_04940_level0_row13\" class=\"row_heading level0 row13\" >13</th>\n",
       "      <td id=\"T_04940_row13_col0\" class=\"data row13 col0\" >Shuffle Train-Test</td>\n",
       "      <td id=\"T_04940_row13_col1\" class=\"data row13 col1\" >True</td>\n",
       "    </tr>\n",
       "    <tr>\n",
       "      <th id=\"T_04940_level0_row14\" class=\"row_heading level0 row14\" >14</th>\n",
       "      <td id=\"T_04940_row14_col0\" class=\"data row14 col0\" >Stratify Train-Test</td>\n",
       "      <td id=\"T_04940_row14_col1\" class=\"data row14 col1\" >False</td>\n",
       "    </tr>\n",
       "    <tr>\n",
       "      <th id=\"T_04940_level0_row15\" class=\"row_heading level0 row15\" >15</th>\n",
       "      <td id=\"T_04940_row15_col0\" class=\"data row15 col0\" >Fold Generator</td>\n",
       "      <td id=\"T_04940_row15_col1\" class=\"data row15 col1\" >StratifiedKFold</td>\n",
       "    </tr>\n",
       "    <tr>\n",
       "      <th id=\"T_04940_level0_row16\" class=\"row_heading level0 row16\" >16</th>\n",
       "      <td id=\"T_04940_row16_col0\" class=\"data row16 col0\" >Fold Number</td>\n",
       "      <td id=\"T_04940_row16_col1\" class=\"data row16 col1\" >10</td>\n",
       "    </tr>\n",
       "    <tr>\n",
       "      <th id=\"T_04940_level0_row17\" class=\"row_heading level0 row17\" >17</th>\n",
       "      <td id=\"T_04940_row17_col0\" class=\"data row17 col0\" >CPU Jobs</td>\n",
       "      <td id=\"T_04940_row17_col1\" class=\"data row17 col1\" >-1</td>\n",
       "    </tr>\n",
       "    <tr>\n",
       "      <th id=\"T_04940_level0_row18\" class=\"row_heading level0 row18\" >18</th>\n",
       "      <td id=\"T_04940_row18_col0\" class=\"data row18 col0\" >Use GPU</td>\n",
       "      <td id=\"T_04940_row18_col1\" class=\"data row18 col1\" >False</td>\n",
       "    </tr>\n",
       "    <tr>\n",
       "      <th id=\"T_04940_level0_row19\" class=\"row_heading level0 row19\" >19</th>\n",
       "      <td id=\"T_04940_row19_col0\" class=\"data row19 col0\" >Log Experiment</td>\n",
       "      <td id=\"T_04940_row19_col1\" class=\"data row19 col1\" >False</td>\n",
       "    </tr>\n",
       "    <tr>\n",
       "      <th id=\"T_04940_level0_row20\" class=\"row_heading level0 row20\" >20</th>\n",
       "      <td id=\"T_04940_row20_col0\" class=\"data row20 col0\" >Experiment Name</td>\n",
       "      <td id=\"T_04940_row20_col1\" class=\"data row20 col1\" >clf-default-name</td>\n",
       "    </tr>\n",
       "    <tr>\n",
       "      <th id=\"T_04940_level0_row21\" class=\"row_heading level0 row21\" >21</th>\n",
       "      <td id=\"T_04940_row21_col0\" class=\"data row21 col0\" >USI</td>\n",
       "      <td id=\"T_04940_row21_col1\" class=\"data row21 col1\" >5a7d</td>\n",
       "    </tr>\n",
       "    <tr>\n",
       "      <th id=\"T_04940_level0_row22\" class=\"row_heading level0 row22\" >22</th>\n",
       "      <td id=\"T_04940_row22_col0\" class=\"data row22 col0\" >Imputation Type</td>\n",
       "      <td id=\"T_04940_row22_col1\" class=\"data row22 col1\" >simple</td>\n",
       "    </tr>\n",
       "    <tr>\n",
       "      <th id=\"T_04940_level0_row23\" class=\"row_heading level0 row23\" >23</th>\n",
       "      <td id=\"T_04940_row23_col0\" class=\"data row23 col0\" >Iterative Imputation Iteration</td>\n",
       "      <td id=\"T_04940_row23_col1\" class=\"data row23 col1\" >None</td>\n",
       "    </tr>\n",
       "    <tr>\n",
       "      <th id=\"T_04940_level0_row24\" class=\"row_heading level0 row24\" >24</th>\n",
       "      <td id=\"T_04940_row24_col0\" class=\"data row24 col0\" >Numeric Imputer</td>\n",
       "      <td id=\"T_04940_row24_col1\" class=\"data row24 col1\" >mean</td>\n",
       "    </tr>\n",
       "    <tr>\n",
       "      <th id=\"T_04940_level0_row25\" class=\"row_heading level0 row25\" >25</th>\n",
       "      <td id=\"T_04940_row25_col0\" class=\"data row25 col0\" >Iterative Imputation Numeric Model</td>\n",
       "      <td id=\"T_04940_row25_col1\" class=\"data row25 col1\" >None</td>\n",
       "    </tr>\n",
       "    <tr>\n",
       "      <th id=\"T_04940_level0_row26\" class=\"row_heading level0 row26\" >26</th>\n",
       "      <td id=\"T_04940_row26_col0\" class=\"data row26 col0\" >Categorical Imputer</td>\n",
       "      <td id=\"T_04940_row26_col1\" class=\"data row26 col1\" >constant</td>\n",
       "    </tr>\n",
       "    <tr>\n",
       "      <th id=\"T_04940_level0_row27\" class=\"row_heading level0 row27\" >27</th>\n",
       "      <td id=\"T_04940_row27_col0\" class=\"data row27 col0\" >Iterative Imputation Categorical Model</td>\n",
       "      <td id=\"T_04940_row27_col1\" class=\"data row27 col1\" >None</td>\n",
       "    </tr>\n",
       "    <tr>\n",
       "      <th id=\"T_04940_level0_row28\" class=\"row_heading level0 row28\" >28</th>\n",
       "      <td id=\"T_04940_row28_col0\" class=\"data row28 col0\" >Unknown Categoricals Handling</td>\n",
       "      <td id=\"T_04940_row28_col1\" class=\"data row28 col1\" >least_frequent</td>\n",
       "    </tr>\n",
       "    <tr>\n",
       "      <th id=\"T_04940_level0_row29\" class=\"row_heading level0 row29\" >29</th>\n",
       "      <td id=\"T_04940_row29_col0\" class=\"data row29 col0\" >Normalize</td>\n",
       "      <td id=\"T_04940_row29_col1\" class=\"data row29 col1\" >False</td>\n",
       "    </tr>\n",
       "    <tr>\n",
       "      <th id=\"T_04940_level0_row30\" class=\"row_heading level0 row30\" >30</th>\n",
       "      <td id=\"T_04940_row30_col0\" class=\"data row30 col0\" >Normalize Method</td>\n",
       "      <td id=\"T_04940_row30_col1\" class=\"data row30 col1\" >None</td>\n",
       "    </tr>\n",
       "    <tr>\n",
       "      <th id=\"T_04940_level0_row31\" class=\"row_heading level0 row31\" >31</th>\n",
       "      <td id=\"T_04940_row31_col0\" class=\"data row31 col0\" >Transformation</td>\n",
       "      <td id=\"T_04940_row31_col1\" class=\"data row31 col1\" >False</td>\n",
       "    </tr>\n",
       "    <tr>\n",
       "      <th id=\"T_04940_level0_row32\" class=\"row_heading level0 row32\" >32</th>\n",
       "      <td id=\"T_04940_row32_col0\" class=\"data row32 col0\" >Transformation Method</td>\n",
       "      <td id=\"T_04940_row32_col1\" class=\"data row32 col1\" >None</td>\n",
       "    </tr>\n",
       "    <tr>\n",
       "      <th id=\"T_04940_level0_row33\" class=\"row_heading level0 row33\" >33</th>\n",
       "      <td id=\"T_04940_row33_col0\" class=\"data row33 col0\" >PCA</td>\n",
       "      <td id=\"T_04940_row33_col1\" class=\"data row33 col1\" >False</td>\n",
       "    </tr>\n",
       "    <tr>\n",
       "      <th id=\"T_04940_level0_row34\" class=\"row_heading level0 row34\" >34</th>\n",
       "      <td id=\"T_04940_row34_col0\" class=\"data row34 col0\" >PCA Method</td>\n",
       "      <td id=\"T_04940_row34_col1\" class=\"data row34 col1\" >None</td>\n",
       "    </tr>\n",
       "    <tr>\n",
       "      <th id=\"T_04940_level0_row35\" class=\"row_heading level0 row35\" >35</th>\n",
       "      <td id=\"T_04940_row35_col0\" class=\"data row35 col0\" >PCA Components</td>\n",
       "      <td id=\"T_04940_row35_col1\" class=\"data row35 col1\" >None</td>\n",
       "    </tr>\n",
       "    <tr>\n",
       "      <th id=\"T_04940_level0_row36\" class=\"row_heading level0 row36\" >36</th>\n",
       "      <td id=\"T_04940_row36_col0\" class=\"data row36 col0\" >Ignore Low Variance</td>\n",
       "      <td id=\"T_04940_row36_col1\" class=\"data row36 col1\" >False</td>\n",
       "    </tr>\n",
       "    <tr>\n",
       "      <th id=\"T_04940_level0_row37\" class=\"row_heading level0 row37\" >37</th>\n",
       "      <td id=\"T_04940_row37_col0\" class=\"data row37 col0\" >Combine Rare Levels</td>\n",
       "      <td id=\"T_04940_row37_col1\" class=\"data row37 col1\" >False</td>\n",
       "    </tr>\n",
       "    <tr>\n",
       "      <th id=\"T_04940_level0_row38\" class=\"row_heading level0 row38\" >38</th>\n",
       "      <td id=\"T_04940_row38_col0\" class=\"data row38 col0\" >Rare Level Threshold</td>\n",
       "      <td id=\"T_04940_row38_col1\" class=\"data row38 col1\" >None</td>\n",
       "    </tr>\n",
       "    <tr>\n",
       "      <th id=\"T_04940_level0_row39\" class=\"row_heading level0 row39\" >39</th>\n",
       "      <td id=\"T_04940_row39_col0\" class=\"data row39 col0\" >Numeric Binning</td>\n",
       "      <td id=\"T_04940_row39_col1\" class=\"data row39 col1\" >False</td>\n",
       "    </tr>\n",
       "    <tr>\n",
       "      <th id=\"T_04940_level0_row40\" class=\"row_heading level0 row40\" >40</th>\n",
       "      <td id=\"T_04940_row40_col0\" class=\"data row40 col0\" >Remove Outliers</td>\n",
       "      <td id=\"T_04940_row40_col1\" class=\"data row40 col1\" >False</td>\n",
       "    </tr>\n",
       "    <tr>\n",
       "      <th id=\"T_04940_level0_row41\" class=\"row_heading level0 row41\" >41</th>\n",
       "      <td id=\"T_04940_row41_col0\" class=\"data row41 col0\" >Outliers Threshold</td>\n",
       "      <td id=\"T_04940_row41_col1\" class=\"data row41 col1\" >None</td>\n",
       "    </tr>\n",
       "    <tr>\n",
       "      <th id=\"T_04940_level0_row42\" class=\"row_heading level0 row42\" >42</th>\n",
       "      <td id=\"T_04940_row42_col0\" class=\"data row42 col0\" >Remove Multicollinearity</td>\n",
       "      <td id=\"T_04940_row42_col1\" class=\"data row42 col1\" >False</td>\n",
       "    </tr>\n",
       "    <tr>\n",
       "      <th id=\"T_04940_level0_row43\" class=\"row_heading level0 row43\" >43</th>\n",
       "      <td id=\"T_04940_row43_col0\" class=\"data row43 col0\" >Multicollinearity Threshold</td>\n",
       "      <td id=\"T_04940_row43_col1\" class=\"data row43 col1\" >None</td>\n",
       "    </tr>\n",
       "    <tr>\n",
       "      <th id=\"T_04940_level0_row44\" class=\"row_heading level0 row44\" >44</th>\n",
       "      <td id=\"T_04940_row44_col0\" class=\"data row44 col0\" >Remove Perfect Collinearity</td>\n",
       "      <td id=\"T_04940_row44_col1\" class=\"data row44 col1\" >True</td>\n",
       "    </tr>\n",
       "    <tr>\n",
       "      <th id=\"T_04940_level0_row45\" class=\"row_heading level0 row45\" >45</th>\n",
       "      <td id=\"T_04940_row45_col0\" class=\"data row45 col0\" >Clustering</td>\n",
       "      <td id=\"T_04940_row45_col1\" class=\"data row45 col1\" >False</td>\n",
       "    </tr>\n",
       "    <tr>\n",
       "      <th id=\"T_04940_level0_row46\" class=\"row_heading level0 row46\" >46</th>\n",
       "      <td id=\"T_04940_row46_col0\" class=\"data row46 col0\" >Clustering Iteration</td>\n",
       "      <td id=\"T_04940_row46_col1\" class=\"data row46 col1\" >None</td>\n",
       "    </tr>\n",
       "    <tr>\n",
       "      <th id=\"T_04940_level0_row47\" class=\"row_heading level0 row47\" >47</th>\n",
       "      <td id=\"T_04940_row47_col0\" class=\"data row47 col0\" >Polynomial Features</td>\n",
       "      <td id=\"T_04940_row47_col1\" class=\"data row47 col1\" >False</td>\n",
       "    </tr>\n",
       "    <tr>\n",
       "      <th id=\"T_04940_level0_row48\" class=\"row_heading level0 row48\" >48</th>\n",
       "      <td id=\"T_04940_row48_col0\" class=\"data row48 col0\" >Polynomial Degree</td>\n",
       "      <td id=\"T_04940_row48_col1\" class=\"data row48 col1\" >None</td>\n",
       "    </tr>\n",
       "    <tr>\n",
       "      <th id=\"T_04940_level0_row49\" class=\"row_heading level0 row49\" >49</th>\n",
       "      <td id=\"T_04940_row49_col0\" class=\"data row49 col0\" >Trignometry Features</td>\n",
       "      <td id=\"T_04940_row49_col1\" class=\"data row49 col1\" >False</td>\n",
       "    </tr>\n",
       "    <tr>\n",
       "      <th id=\"T_04940_level0_row50\" class=\"row_heading level0 row50\" >50</th>\n",
       "      <td id=\"T_04940_row50_col0\" class=\"data row50 col0\" >Polynomial Threshold</td>\n",
       "      <td id=\"T_04940_row50_col1\" class=\"data row50 col1\" >None</td>\n",
       "    </tr>\n",
       "    <tr>\n",
       "      <th id=\"T_04940_level0_row51\" class=\"row_heading level0 row51\" >51</th>\n",
       "      <td id=\"T_04940_row51_col0\" class=\"data row51 col0\" >Group Features</td>\n",
       "      <td id=\"T_04940_row51_col1\" class=\"data row51 col1\" >False</td>\n",
       "    </tr>\n",
       "    <tr>\n",
       "      <th id=\"T_04940_level0_row52\" class=\"row_heading level0 row52\" >52</th>\n",
       "      <td id=\"T_04940_row52_col0\" class=\"data row52 col0\" >Feature Selection</td>\n",
       "      <td id=\"T_04940_row52_col1\" class=\"data row52 col1\" >False</td>\n",
       "    </tr>\n",
       "    <tr>\n",
       "      <th id=\"T_04940_level0_row53\" class=\"row_heading level0 row53\" >53</th>\n",
       "      <td id=\"T_04940_row53_col0\" class=\"data row53 col0\" >Feature Selection Method</td>\n",
       "      <td id=\"T_04940_row53_col1\" class=\"data row53 col1\" >classic</td>\n",
       "    </tr>\n",
       "    <tr>\n",
       "      <th id=\"T_04940_level0_row54\" class=\"row_heading level0 row54\" >54</th>\n",
       "      <td id=\"T_04940_row54_col0\" class=\"data row54 col0\" >Features Selection Threshold</td>\n",
       "      <td id=\"T_04940_row54_col1\" class=\"data row54 col1\" >None</td>\n",
       "    </tr>\n",
       "    <tr>\n",
       "      <th id=\"T_04940_level0_row55\" class=\"row_heading level0 row55\" >55</th>\n",
       "      <td id=\"T_04940_row55_col0\" class=\"data row55 col0\" >Feature Interaction</td>\n",
       "      <td id=\"T_04940_row55_col1\" class=\"data row55 col1\" >False</td>\n",
       "    </tr>\n",
       "    <tr>\n",
       "      <th id=\"T_04940_level0_row56\" class=\"row_heading level0 row56\" >56</th>\n",
       "      <td id=\"T_04940_row56_col0\" class=\"data row56 col0\" >Feature Ratio</td>\n",
       "      <td id=\"T_04940_row56_col1\" class=\"data row56 col1\" >False</td>\n",
       "    </tr>\n",
       "    <tr>\n",
       "      <th id=\"T_04940_level0_row57\" class=\"row_heading level0 row57\" >57</th>\n",
       "      <td id=\"T_04940_row57_col0\" class=\"data row57 col0\" >Interaction Threshold</td>\n",
       "      <td id=\"T_04940_row57_col1\" class=\"data row57 col1\" >None</td>\n",
       "    </tr>\n",
       "    <tr>\n",
       "      <th id=\"T_04940_level0_row58\" class=\"row_heading level0 row58\" >58</th>\n",
       "      <td id=\"T_04940_row58_col0\" class=\"data row58 col0\" >Fix Imbalance</td>\n",
       "      <td id=\"T_04940_row58_col1\" class=\"data row58 col1\" >False</td>\n",
       "    </tr>\n",
       "    <tr>\n",
       "      <th id=\"T_04940_level0_row59\" class=\"row_heading level0 row59\" >59</th>\n",
       "      <td id=\"T_04940_row59_col0\" class=\"data row59 col0\" >Fix Imbalance Method</td>\n",
       "      <td id=\"T_04940_row59_col1\" class=\"data row59 col1\" >SMOTE</td>\n",
       "    </tr>\n",
       "  </tbody>\n",
       "</table>\n"
      ],
      "text/plain": [
       "<pandas.io.formats.style.Styler at 0x1f2449c9b20>"
      ]
     },
     "metadata": {},
     "output_type": "display_data"
    }
   ],
   "source": [
    "\n",
    "cc = setup(data= data_train,\n",
    "target = \"status\",\n",
    "session_id=123)\n"
   ]
  },
  {
   "cell_type": "markdown",
   "id": "ef72fa15-cea0-4967-801e-da7a81bfdf82",
   "metadata": {},
   "source": [
    "# saving the best model in a variable"
   ]
  },
  {
   "cell_type": "code",
   "execution_count": 72,
   "id": "4e318670-cc8b-400f-916d-5cba1e9362aa",
   "metadata": {},
   "outputs": [
    {
     "data": {
      "text/html": [
       "<style type=\"text/css\">\n",
       "#T_e91e8 th {\n",
       "  text-align: left;\n",
       "}\n",
       "#T_e91e8_row0_col0, #T_e91e8_row0_col2, #T_e91e8_row0_col3, #T_e91e8_row1_col0, #T_e91e8_row1_col1, #T_e91e8_row1_col2, #T_e91e8_row1_col3, #T_e91e8_row1_col4, #T_e91e8_row1_col5, #T_e91e8_row1_col6, #T_e91e8_row1_col7, #T_e91e8_row2_col0, #T_e91e8_row2_col1, #T_e91e8_row2_col2, #T_e91e8_row2_col3, #T_e91e8_row2_col4, #T_e91e8_row2_col5, #T_e91e8_row2_col6, #T_e91e8_row2_col7, #T_e91e8_row3_col0, #T_e91e8_row3_col1, #T_e91e8_row3_col3, #T_e91e8_row3_col4, #T_e91e8_row3_col5, #T_e91e8_row3_col6, #T_e91e8_row3_col7, #T_e91e8_row4_col0, #T_e91e8_row4_col1, #T_e91e8_row4_col2, #T_e91e8_row4_col3, #T_e91e8_row4_col4, #T_e91e8_row4_col5, #T_e91e8_row4_col6, #T_e91e8_row4_col7, #T_e91e8_row5_col0, #T_e91e8_row5_col1, #T_e91e8_row5_col2, #T_e91e8_row5_col3, #T_e91e8_row5_col4, #T_e91e8_row5_col5, #T_e91e8_row5_col6, #T_e91e8_row5_col7, #T_e91e8_row6_col0, #T_e91e8_row6_col1, #T_e91e8_row6_col2, #T_e91e8_row6_col3, #T_e91e8_row6_col4, #T_e91e8_row6_col5, #T_e91e8_row6_col6, #T_e91e8_row6_col7, #T_e91e8_row7_col0, #T_e91e8_row7_col1, #T_e91e8_row7_col2, #T_e91e8_row7_col3, #T_e91e8_row7_col4, #T_e91e8_row7_col5, #T_e91e8_row7_col6, #T_e91e8_row7_col7, #T_e91e8_row8_col0, #T_e91e8_row8_col1, #T_e91e8_row8_col2, #T_e91e8_row8_col4, #T_e91e8_row8_col5, #T_e91e8_row8_col6, #T_e91e8_row8_col7, #T_e91e8_row9_col0, #T_e91e8_row9_col1, #T_e91e8_row9_col2, #T_e91e8_row9_col3, #T_e91e8_row9_col4, #T_e91e8_row9_col5, #T_e91e8_row9_col6, #T_e91e8_row9_col7, #T_e91e8_row10_col0, #T_e91e8_row10_col1, #T_e91e8_row10_col2, #T_e91e8_row10_col3, #T_e91e8_row10_col4, #T_e91e8_row10_col5, #T_e91e8_row10_col6, #T_e91e8_row10_col7, #T_e91e8_row11_col0, #T_e91e8_row11_col1, #T_e91e8_row11_col2, #T_e91e8_row11_col3, #T_e91e8_row11_col4, #T_e91e8_row11_col5, #T_e91e8_row11_col6, #T_e91e8_row11_col7, #T_e91e8_row12_col0, #T_e91e8_row12_col1, #T_e91e8_row12_col2, #T_e91e8_row12_col3, #T_e91e8_row12_col4, #T_e91e8_row12_col5, #T_e91e8_row12_col6, #T_e91e8_row12_col7, #T_e91e8_row13_col0, #T_e91e8_row13_col1, #T_e91e8_row13_col2, #T_e91e8_row13_col3, #T_e91e8_row13_col4, #T_e91e8_row13_col5, #T_e91e8_row13_col6, #T_e91e8_row13_col7 {\n",
       "  text-align: left;\n",
       "}\n",
       "#T_e91e8_row0_col1, #T_e91e8_row0_col4, #T_e91e8_row0_col5, #T_e91e8_row0_col6, #T_e91e8_row0_col7, #T_e91e8_row3_col2, #T_e91e8_row8_col3 {\n",
       "  text-align: left;\n",
       "  background-color: yellow;\n",
       "}\n",
       "#T_e91e8_row0_col8, #T_e91e8_row1_col8, #T_e91e8_row2_col8, #T_e91e8_row3_col8, #T_e91e8_row4_col8, #T_e91e8_row5_col8, #T_e91e8_row6_col8, #T_e91e8_row7_col8, #T_e91e8_row8_col8, #T_e91e8_row9_col8, #T_e91e8_row10_col8, #T_e91e8_row11_col8, #T_e91e8_row12_col8 {\n",
       "  text-align: left;\n",
       "  background-color: lightgrey;\n",
       "}\n",
       "#T_e91e8_row13_col8 {\n",
       "  text-align: left;\n",
       "  background-color: yellow;\n",
       "  background-color: lightgrey;\n",
       "}\n",
       "</style>\n",
       "<table id=\"T_e91e8\">\n",
       "  <thead>\n",
       "    <tr>\n",
       "      <th class=\"blank level0\" >&nbsp;</th>\n",
       "      <th id=\"T_e91e8_level0_col0\" class=\"col_heading level0 col0\" >Model</th>\n",
       "      <th id=\"T_e91e8_level0_col1\" class=\"col_heading level0 col1\" >Accuracy</th>\n",
       "      <th id=\"T_e91e8_level0_col2\" class=\"col_heading level0 col2\" >AUC</th>\n",
       "      <th id=\"T_e91e8_level0_col3\" class=\"col_heading level0 col3\" >Recall</th>\n",
       "      <th id=\"T_e91e8_level0_col4\" class=\"col_heading level0 col4\" >Prec.</th>\n",
       "      <th id=\"T_e91e8_level0_col5\" class=\"col_heading level0 col5\" >F1</th>\n",
       "      <th id=\"T_e91e8_level0_col6\" class=\"col_heading level0 col6\" >Kappa</th>\n",
       "      <th id=\"T_e91e8_level0_col7\" class=\"col_heading level0 col7\" >MCC</th>\n",
       "      <th id=\"T_e91e8_level0_col8\" class=\"col_heading level0 col8\" >TT (Sec)</th>\n",
       "    </tr>\n",
       "  </thead>\n",
       "  <tbody>\n",
       "    <tr>\n",
       "      <th id=\"T_e91e8_level0_row0\" class=\"row_heading level0 row0\" >lightgbm</th>\n",
       "      <td id=\"T_e91e8_row0_col0\" class=\"data row0 col0\" >Light Gradient Boosting Machine</td>\n",
       "      <td id=\"T_e91e8_row0_col1\" class=\"data row0 col1\" >0.9401</td>\n",
       "      <td id=\"T_e91e8_row0_col2\" class=\"data row0 col2\" >0.6551</td>\n",
       "      <td id=\"T_e91e8_row0_col3\" class=\"data row0 col3\" >0.0651</td>\n",
       "      <td id=\"T_e91e8_row0_col4\" class=\"data row0 col4\" >0.6664</td>\n",
       "      <td id=\"T_e91e8_row0_col5\" class=\"data row0 col5\" >0.1179</td>\n",
       "      <td id=\"T_e91e8_row0_col6\" class=\"data row0 col6\" >0.1082</td>\n",
       "      <td id=\"T_e91e8_row0_col7\" class=\"data row0 col7\" >0.1940</td>\n",
       "      <td id=\"T_e91e8_row0_col8\" class=\"data row0 col8\" >0.0160</td>\n",
       "    </tr>\n",
       "    <tr>\n",
       "      <th id=\"T_e91e8_level0_row1\" class=\"row_heading level0 row1\" >dt</th>\n",
       "      <td id=\"T_e91e8_row1_col0\" class=\"data row1 col0\" >Decision Tree Classifier</td>\n",
       "      <td id=\"T_e91e8_row1_col1\" class=\"data row1 col1\" >0.9092</td>\n",
       "      <td id=\"T_e91e8_row1_col2\" class=\"data row1 col2\" >0.5530</td>\n",
       "      <td id=\"T_e91e8_row1_col3\" class=\"data row1 col3\" >0.0925</td>\n",
       "      <td id=\"T_e91e8_row1_col4\" class=\"data row1 col4\" >0.1424</td>\n",
       "      <td id=\"T_e91e8_row1_col5\" class=\"data row1 col5\" >0.1117</td>\n",
       "      <td id=\"T_e91e8_row1_col6\" class=\"data row1 col6\" >0.0663</td>\n",
       "      <td id=\"T_e91e8_row1_col7\" class=\"data row1 col7\" >0.0681</td>\n",
       "      <td id=\"T_e91e8_row1_col8\" class=\"data row1 col8\" >0.0040</td>\n",
       "    </tr>\n",
       "    <tr>\n",
       "      <th id=\"T_e91e8_level0_row2\" class=\"row_heading level0 row2\" >rf</th>\n",
       "      <td id=\"T_e91e8_row2_col0\" class=\"data row2 col0\" >Random Forest Classifier</td>\n",
       "      <td id=\"T_e91e8_row2_col1\" class=\"data row2 col1\" >0.9299</td>\n",
       "      <td id=\"T_e91e8_row2_col2\" class=\"data row2 col2\" >0.6000</td>\n",
       "      <td id=\"T_e91e8_row2_col3\" class=\"data row2 col3\" >0.0708</td>\n",
       "      <td id=\"T_e91e8_row2_col4\" class=\"data row2 col4\" >0.2596</td>\n",
       "      <td id=\"T_e91e8_row2_col5\" class=\"data row2 col5\" >0.1100</td>\n",
       "      <td id=\"T_e91e8_row2_col6\" class=\"data row2 col6\" >0.0859</td>\n",
       "      <td id=\"T_e91e8_row2_col7\" class=\"data row2 col7\" >0.1066</td>\n",
       "      <td id=\"T_e91e8_row2_col8\" class=\"data row2 col8\" >0.0760</td>\n",
       "    </tr>\n",
       "    <tr>\n",
       "      <th id=\"T_e91e8_level0_row3\" class=\"row_heading level0 row3\" >gbc</th>\n",
       "      <td id=\"T_e91e8_row3_col0\" class=\"data row3 col0\" >Gradient Boosting Classifier</td>\n",
       "      <td id=\"T_e91e8_row3_col1\" class=\"data row3 col1\" >0.9392</td>\n",
       "      <td id=\"T_e91e8_row3_col2\" class=\"data row3 col2\" >0.6746</td>\n",
       "      <td id=\"T_e91e8_row3_col3\" class=\"data row3 col3\" >0.0502</td>\n",
       "      <td id=\"T_e91e8_row3_col4\" class=\"data row3 col4\" >0.6111</td>\n",
       "      <td id=\"T_e91e8_row3_col5\" class=\"data row3 col5\" >0.0921</td>\n",
       "      <td id=\"T_e91e8_row3_col6\" class=\"data row3 col6\" >0.0836</td>\n",
       "      <td id=\"T_e91e8_row3_col7\" class=\"data row3 col7\" >0.1603</td>\n",
       "      <td id=\"T_e91e8_row3_col8\" class=\"data row3 col8\" >0.0610</td>\n",
       "    </tr>\n",
       "    <tr>\n",
       "      <th id=\"T_e91e8_level0_row4\" class=\"row_heading level0 row4\" >qda</th>\n",
       "      <td id=\"T_e91e8_row4_col0\" class=\"data row4 col0\" >Quadratic Discriminant Analysis</td>\n",
       "      <td id=\"T_e91e8_row4_col1\" class=\"data row4 col1\" >0.9205</td>\n",
       "      <td id=\"T_e91e8_row4_col2\" class=\"data row4 col2\" >0.6089</td>\n",
       "      <td id=\"T_e91e8_row4_col3\" class=\"data row4 col3\" >0.0593</td>\n",
       "      <td id=\"T_e91e8_row4_col4\" class=\"data row4 col4\" >0.1444</td>\n",
       "      <td id=\"T_e91e8_row4_col5\" class=\"data row4 col5\" >0.0837</td>\n",
       "      <td id=\"T_e91e8_row4_col6\" class=\"data row4 col6\" >0.0501</td>\n",
       "      <td id=\"T_e91e8_row4_col7\" class=\"data row4 col7\" >0.0555</td>\n",
       "      <td id=\"T_e91e8_row4_col8\" class=\"data row4 col8\" >0.0030</td>\n",
       "    </tr>\n",
       "    <tr>\n",
       "      <th id=\"T_e91e8_level0_row5\" class=\"row_heading level0 row5\" >et</th>\n",
       "      <td id=\"T_e91e8_row5_col0\" class=\"data row5 col0\" >Extra Trees Classifier</td>\n",
       "      <td id=\"T_e91e8_row5_col1\" class=\"data row5 col1\" >0.9265</td>\n",
       "      <td id=\"T_e91e8_row5_col2\" class=\"data row5 col2\" >0.5857</td>\n",
       "      <td id=\"T_e91e8_row5_col3\" class=\"data row5 col3\" >0.0548</td>\n",
       "      <td id=\"T_e91e8_row5_col4\" class=\"data row5 col4\" >0.1827</td>\n",
       "      <td id=\"T_e91e8_row5_col5\" class=\"data row5 col5\" >0.0833</td>\n",
       "      <td id=\"T_e91e8_row5_col6\" class=\"data row5 col6\" >0.0569</td>\n",
       "      <td id=\"T_e91e8_row5_col7\" class=\"data row5 col7\" >0.0685</td>\n",
       "      <td id=\"T_e91e8_row5_col8\" class=\"data row5 col8\" >0.0740</td>\n",
       "    </tr>\n",
       "    <tr>\n",
       "      <th id=\"T_e91e8_level0_row6\" class=\"row_heading level0 row6\" >nb</th>\n",
       "      <td id=\"T_e91e8_row6_col0\" class=\"data row6 col0\" >Naive Bayes</td>\n",
       "      <td id=\"T_e91e8_row6_col1\" class=\"data row6 col1\" >0.9214</td>\n",
       "      <td id=\"T_e91e8_row6_col2\" class=\"data row6 col2\" >0.6047</td>\n",
       "      <td id=\"T_e91e8_row6_col3\" class=\"data row6 col3\" >0.0570</td>\n",
       "      <td id=\"T_e91e8_row6_col4\" class=\"data row6 col4\" >0.1454</td>\n",
       "      <td id=\"T_e91e8_row6_col5\" class=\"data row6 col5\" >0.0817</td>\n",
       "      <td id=\"T_e91e8_row6_col6\" class=\"data row6 col6\" >0.0491</td>\n",
       "      <td id=\"T_e91e8_row6_col7\" class=\"data row6 col7\" >0.0550</td>\n",
       "      <td id=\"T_e91e8_row6_col8\" class=\"data row6 col8\" >0.0030</td>\n",
       "    </tr>\n",
       "    <tr>\n",
       "      <th id=\"T_e91e8_level0_row7\" class=\"row_heading level0 row7\" >knn</th>\n",
       "      <td id=\"T_e91e8_row7_col0\" class=\"data row7 col0\" >K Neighbors Classifier</td>\n",
       "      <td id=\"T_e91e8_row7_col1\" class=\"data row7 col1\" >0.9350</td>\n",
       "      <td id=\"T_e91e8_row7_col2\" class=\"data row7 col2\" >0.5440</td>\n",
       "      <td id=\"T_e91e8_row7_col3\" class=\"data row7 col3\" >0.0194</td>\n",
       "      <td id=\"T_e91e8_row7_col4\" class=\"data row7 col4\" >0.2241</td>\n",
       "      <td id=\"T_e91e8_row7_col5\" class=\"data row7 col5\" >0.0354</td>\n",
       "      <td id=\"T_e91e8_row7_col6\" class=\"data row7 col6\" >0.0256</td>\n",
       "      <td id=\"T_e91e8_row7_col7\" class=\"data row7 col7\" >0.0481</td>\n",
       "      <td id=\"T_e91e8_row7_col8\" class=\"data row7 col8\" >0.0140</td>\n",
       "    </tr>\n",
       "    <tr>\n",
       "      <th id=\"T_e91e8_level0_row8\" class=\"row_heading level0 row8\" >svm</th>\n",
       "      <td id=\"T_e91e8_row8_col0\" class=\"data row8 col0\" >SVM - Linear Kernel</td>\n",
       "      <td id=\"T_e91e8_row8_col1\" class=\"data row8 col1\" >0.8502</td>\n",
       "      <td id=\"T_e91e8_row8_col2\" class=\"data row8 col2\" >0.0000</td>\n",
       "      <td id=\"T_e91e8_row8_col3\" class=\"data row8 col3\" >0.1195</td>\n",
       "      <td id=\"T_e91e8_row8_col4\" class=\"data row8 col4\" >0.0897</td>\n",
       "      <td id=\"T_e91e8_row8_col5\" class=\"data row8 col5\" >0.0351</td>\n",
       "      <td id=\"T_e91e8_row8_col6\" class=\"data row8 col6\" >0.0120</td>\n",
       "      <td id=\"T_e91e8_row8_col7\" class=\"data row8 col7\" >0.0225</td>\n",
       "      <td id=\"T_e91e8_row8_col8\" class=\"data row8 col8\" >0.0130</td>\n",
       "    </tr>\n",
       "    <tr>\n",
       "      <th id=\"T_e91e8_level0_row9\" class=\"row_heading level0 row9\" >lr</th>\n",
       "      <td id=\"T_e91e8_row9_col0\" class=\"data row9 col0\" >Logistic Regression</td>\n",
       "      <td id=\"T_e91e8_row9_col1\" class=\"data row9 col1\" >0.9381</td>\n",
       "      <td id=\"T_e91e8_row9_col2\" class=\"data row9 col2\" >0.5938</td>\n",
       "      <td id=\"T_e91e8_row9_col3\" class=\"data row9 col3\" >0.0000</td>\n",
       "      <td id=\"T_e91e8_row9_col4\" class=\"data row9 col4\" >0.0000</td>\n",
       "      <td id=\"T_e91e8_row9_col5\" class=\"data row9 col5\" >0.0000</td>\n",
       "      <td id=\"T_e91e8_row9_col6\" class=\"data row9 col6\" >0.0000</td>\n",
       "      <td id=\"T_e91e8_row9_col7\" class=\"data row9 col7\" >0.0000</td>\n",
       "      <td id=\"T_e91e8_row9_col8\" class=\"data row9 col8\" >0.0080</td>\n",
       "    </tr>\n",
       "    <tr>\n",
       "      <th id=\"T_e91e8_level0_row10\" class=\"row_heading level0 row10\" >ridge</th>\n",
       "      <td id=\"T_e91e8_row10_col0\" class=\"data row10 col0\" >Ridge Classifier</td>\n",
       "      <td id=\"T_e91e8_row10_col1\" class=\"data row10 col1\" >0.9381</td>\n",
       "      <td id=\"T_e91e8_row10_col2\" class=\"data row10 col2\" >0.0000</td>\n",
       "      <td id=\"T_e91e8_row10_col3\" class=\"data row10 col3\" >0.0000</td>\n",
       "      <td id=\"T_e91e8_row10_col4\" class=\"data row10 col4\" >0.0000</td>\n",
       "      <td id=\"T_e91e8_row10_col5\" class=\"data row10 col5\" >0.0000</td>\n",
       "      <td id=\"T_e91e8_row10_col6\" class=\"data row10 col6\" >0.0000</td>\n",
       "      <td id=\"T_e91e8_row10_col7\" class=\"data row10 col7\" >0.0000</td>\n",
       "      <td id=\"T_e91e8_row10_col8\" class=\"data row10 col8\" >0.0030</td>\n",
       "    </tr>\n",
       "    <tr>\n",
       "      <th id=\"T_e91e8_level0_row11\" class=\"row_heading level0 row11\" >ada</th>\n",
       "      <td id=\"T_e91e8_row11_col0\" class=\"data row11 col0\" >Ada Boost Classifier</td>\n",
       "      <td id=\"T_e91e8_row11_col1\" class=\"data row11 col1\" >0.9381</td>\n",
       "      <td id=\"T_e91e8_row11_col2\" class=\"data row11 col2\" >0.6413</td>\n",
       "      <td id=\"T_e91e8_row11_col3\" class=\"data row11 col3\" >0.0000</td>\n",
       "      <td id=\"T_e91e8_row11_col4\" class=\"data row11 col4\" >0.0000</td>\n",
       "      <td id=\"T_e91e8_row11_col5\" class=\"data row11 col5\" >0.0000</td>\n",
       "      <td id=\"T_e91e8_row11_col6\" class=\"data row11 col6\" >0.0000</td>\n",
       "      <td id=\"T_e91e8_row11_col7\" class=\"data row11 col7\" >0.0000</td>\n",
       "      <td id=\"T_e91e8_row11_col8\" class=\"data row11 col8\" >0.0290</td>\n",
       "    </tr>\n",
       "    <tr>\n",
       "      <th id=\"T_e91e8_level0_row12\" class=\"row_heading level0 row12\" >lda</th>\n",
       "      <td id=\"T_e91e8_row12_col0\" class=\"data row12 col0\" >Linear Discriminant Analysis</td>\n",
       "      <td id=\"T_e91e8_row12_col1\" class=\"data row12 col1\" >0.9366</td>\n",
       "      <td id=\"T_e91e8_row12_col2\" class=\"data row12 col2\" >0.5964</td>\n",
       "      <td id=\"T_e91e8_row12_col3\" class=\"data row12 col3\" >0.0000</td>\n",
       "      <td id=\"T_e91e8_row12_col4\" class=\"data row12 col4\" >0.0000</td>\n",
       "      <td id=\"T_e91e8_row12_col5\" class=\"data row12 col5\" >0.0000</td>\n",
       "      <td id=\"T_e91e8_row12_col6\" class=\"data row12 col6\" >-0.0030</td>\n",
       "      <td id=\"T_e91e8_row12_col7\" class=\"data row12 col7\" >-0.0099</td>\n",
       "      <td id=\"T_e91e8_row12_col8\" class=\"data row12 col8\" >0.0040</td>\n",
       "    </tr>\n",
       "    <tr>\n",
       "      <th id=\"T_e91e8_level0_row13\" class=\"row_heading level0 row13\" >dummy</th>\n",
       "      <td id=\"T_e91e8_row13_col0\" class=\"data row13 col0\" >Dummy Classifier</td>\n",
       "      <td id=\"T_e91e8_row13_col1\" class=\"data row13 col1\" >0.9381</td>\n",
       "      <td id=\"T_e91e8_row13_col2\" class=\"data row13 col2\" >0.5000</td>\n",
       "      <td id=\"T_e91e8_row13_col3\" class=\"data row13 col3\" >0.0000</td>\n",
       "      <td id=\"T_e91e8_row13_col4\" class=\"data row13 col4\" >0.0000</td>\n",
       "      <td id=\"T_e91e8_row13_col5\" class=\"data row13 col5\" >0.0000</td>\n",
       "      <td id=\"T_e91e8_row13_col6\" class=\"data row13 col6\" >0.0000</td>\n",
       "      <td id=\"T_e91e8_row13_col7\" class=\"data row13 col7\" >0.0000</td>\n",
       "      <td id=\"T_e91e8_row13_col8\" class=\"data row13 col8\" >0.0020</td>\n",
       "    </tr>\n",
       "  </tbody>\n",
       "</table>\n"
      ],
      "text/plain": [
       "<pandas.io.formats.style.Styler at 0x1f25abfc430>"
      ]
     },
     "metadata": {},
     "output_type": "display_data"
    }
   ],
   "source": [
    "best_model=compare_models(sort='F1')"
   ]
  },
  {
   "cell_type": "code",
   "execution_count": 73,
   "id": "05583a65-55e5-44b1-b440-6d1083b18e33",
   "metadata": {},
   "outputs": [
    {
     "name": "stdout",
     "output_type": "stream",
     "text": [
      "LGBMClassifier(boosting_type='gbdt', class_weight=None, colsample_bytree=1.0,\n",
      "               importance_type='split', learning_rate=0.1, max_depth=-1,\n",
      "               min_child_samples=20, min_child_weight=0.001, min_split_gain=0.0,\n",
      "               n_estimators=100, n_jobs=-1, num_leaves=31, objective=None,\n",
      "               random_state=123, reg_alpha=0.0, reg_lambda=0.0, silent='warn',\n",
      "               subsample=1.0, subsample_for_bin=200000, subsample_freq=0)\n"
     ]
    }
   ],
   "source": [
    "print(best_model)"
   ]
  },
  {
   "cell_type": "code",
   "execution_count": null,
   "id": "04eda614-6365-444d-af2c-960ee252269a",
   "metadata": {},
   "outputs": [],
   "source": [
    "# creating a Linear Light Gradient Boosting Machine model"
   ]
  },
  {
   "cell_type": "code",
   "execution_count": 74,
   "id": "132b2145-b2a3-411a-a9e3-42e4803b31cd",
   "metadata": {},
   "outputs": [
    {
     "data": {
      "text/html": [
       "<style type=\"text/css\">\n",
       "#T_ffd2d_row10_col0, #T_ffd2d_row10_col1, #T_ffd2d_row10_col2, #T_ffd2d_row10_col3, #T_ffd2d_row10_col4, #T_ffd2d_row10_col5, #T_ffd2d_row10_col6 {\n",
       "  background: yellow;\n",
       "}\n",
       "</style>\n",
       "<table id=\"T_ffd2d\">\n",
       "  <thead>\n",
       "    <tr>\n",
       "      <th class=\"blank level0\" >&nbsp;</th>\n",
       "      <th id=\"T_ffd2d_level0_col0\" class=\"col_heading level0 col0\" >Accuracy</th>\n",
       "      <th id=\"T_ffd2d_level0_col1\" class=\"col_heading level0 col1\" >AUC</th>\n",
       "      <th id=\"T_ffd2d_level0_col2\" class=\"col_heading level0 col2\" >Recall</th>\n",
       "      <th id=\"T_ffd2d_level0_col3\" class=\"col_heading level0 col3\" >Prec.</th>\n",
       "      <th id=\"T_ffd2d_level0_col4\" class=\"col_heading level0 col4\" >F1</th>\n",
       "      <th id=\"T_ffd2d_level0_col5\" class=\"col_heading level0 col5\" >Kappa</th>\n",
       "      <th id=\"T_ffd2d_level0_col6\" class=\"col_heading level0 col6\" >MCC</th>\n",
       "    </tr>\n",
       "    <tr>\n",
       "      <th class=\"index_name level0\" >Fold</th>\n",
       "      <th class=\"blank col0\" >&nbsp;</th>\n",
       "      <th class=\"blank col1\" >&nbsp;</th>\n",
       "      <th class=\"blank col2\" >&nbsp;</th>\n",
       "      <th class=\"blank col3\" >&nbsp;</th>\n",
       "      <th class=\"blank col4\" >&nbsp;</th>\n",
       "      <th class=\"blank col5\" >&nbsp;</th>\n",
       "      <th class=\"blank col6\" >&nbsp;</th>\n",
       "    </tr>\n",
       "  </thead>\n",
       "  <tbody>\n",
       "    <tr>\n",
       "      <th id=\"T_ffd2d_level0_row0\" class=\"row_heading level0 row0\" >0</th>\n",
       "      <td id=\"T_ffd2d_row0_col0\" class=\"data row0 col0\" >0.9400</td>\n",
       "      <td id=\"T_ffd2d_row0_col1\" class=\"data row0 col1\" >0.6642</td>\n",
       "      <td id=\"T_ffd2d_row0_col2\" class=\"data row0 col2\" >0.0568</td>\n",
       "      <td id=\"T_ffd2d_row0_col3\" class=\"data row0 col3\" >0.7143</td>\n",
       "      <td id=\"T_ffd2d_row0_col4\" class=\"data row0 col4\" >0.1053</td>\n",
       "      <td id=\"T_ffd2d_row0_col5\" class=\"data row0 col5\" >0.0970</td>\n",
       "      <td id=\"T_ffd2d_row0_col6\" class=\"data row0 col6\" >0.1904</td>\n",
       "    </tr>\n",
       "    <tr>\n",
       "      <th id=\"T_ffd2d_level0_row1\" class=\"row_heading level0 row1\" >1</th>\n",
       "      <td id=\"T_ffd2d_row1_col0\" class=\"data row1 col0\" >0.9386</td>\n",
       "      <td id=\"T_ffd2d_row1_col1\" class=\"data row1 col1\" >0.6180</td>\n",
       "      <td id=\"T_ffd2d_row1_col2\" class=\"data row1 col2\" >0.0341</td>\n",
       "      <td id=\"T_ffd2d_row1_col3\" class=\"data row1 col3\" >0.6000</td>\n",
       "      <td id=\"T_ffd2d_row1_col4\" class=\"data row1 col4\" >0.0645</td>\n",
       "      <td id=\"T_ffd2d_row1_col5\" class=\"data row1 col5\" >0.0582</td>\n",
       "      <td id=\"T_ffd2d_row1_col6\" class=\"data row1 col6\" >0.1326</td>\n",
       "    </tr>\n",
       "    <tr>\n",
       "      <th id=\"T_ffd2d_level0_row2\" class=\"row_heading level0 row2\" >2</th>\n",
       "      <td id=\"T_ffd2d_row2_col0\" class=\"data row2 col0\" >0.9400</td>\n",
       "      <td id=\"T_ffd2d_row2_col1\" class=\"data row2 col1\" >0.6592</td>\n",
       "      <td id=\"T_ffd2d_row2_col2\" class=\"data row2 col2\" >0.0682</td>\n",
       "      <td id=\"T_ffd2d_row2_col3\" class=\"data row2 col3\" >0.6667</td>\n",
       "      <td id=\"T_ffd2d_row2_col4\" class=\"data row2 col4\" >0.1237</td>\n",
       "      <td id=\"T_ffd2d_row2_col5\" class=\"data row2 col5\" >0.1135</td>\n",
       "      <td id=\"T_ffd2d_row2_col6\" class=\"data row2 col6\" >0.2003</td>\n",
       "    </tr>\n",
       "    <tr>\n",
       "      <th id=\"T_ffd2d_level0_row3\" class=\"row_heading level0 row3\" >3</th>\n",
       "      <td id=\"T_ffd2d_row3_col0\" class=\"data row3 col0\" >0.9393</td>\n",
       "      <td id=\"T_ffd2d_row3_col1\" class=\"data row3 col1\" >0.6675</td>\n",
       "      <td id=\"T_ffd2d_row3_col2\" class=\"data row3 col2\" >0.0455</td>\n",
       "      <td id=\"T_ffd2d_row3_col3\" class=\"data row3 col3\" >0.6667</td>\n",
       "      <td id=\"T_ffd2d_row3_col4\" class=\"data row3 col4\" >0.0851</td>\n",
       "      <td id=\"T_ffd2d_row3_col5\" class=\"data row3 col5\" >0.0778</td>\n",
       "      <td id=\"T_ffd2d_row3_col6\" class=\"data row3 col6\" >0.1633</td>\n",
       "    </tr>\n",
       "    <tr>\n",
       "      <th id=\"T_ffd2d_level0_row4\" class=\"row_heading level0 row4\" >4</th>\n",
       "      <td id=\"T_ffd2d_row4_col0\" class=\"data row4 col0\" >0.9421</td>\n",
       "      <td id=\"T_ffd2d_row4_col1\" class=\"data row4 col1\" >0.6844</td>\n",
       "      <td id=\"T_ffd2d_row4_col2\" class=\"data row4 col2\" >0.0909</td>\n",
       "      <td id=\"T_ffd2d_row4_col3\" class=\"data row4 col3\" >0.8000</td>\n",
       "      <td id=\"T_ffd2d_row4_col4\" class=\"data row4 col4\" >0.1633</td>\n",
       "      <td id=\"T_ffd2d_row4_col5\" class=\"data row4 col5\" >0.1525</td>\n",
       "      <td id=\"T_ffd2d_row4_col6\" class=\"data row4 col6\" >0.2578</td>\n",
       "    </tr>\n",
       "    <tr>\n",
       "      <th id=\"T_ffd2d_level0_row5\" class=\"row_heading level0 row5\" >5</th>\n",
       "      <td id=\"T_ffd2d_row5_col0\" class=\"data row5 col0\" >0.9428</td>\n",
       "      <td id=\"T_ffd2d_row5_col1\" class=\"data row5 col1\" >0.6597</td>\n",
       "      <td id=\"T_ffd2d_row5_col2\" class=\"data row5 col2\" >0.1023</td>\n",
       "      <td id=\"T_ffd2d_row5_col3\" class=\"data row5 col3\" >0.8182</td>\n",
       "      <td id=\"T_ffd2d_row5_col4\" class=\"data row5 col4\" >0.1818</td>\n",
       "      <td id=\"T_ffd2d_row5_col5\" class=\"data row5 col5\" >0.1704</td>\n",
       "      <td id=\"T_ffd2d_row5_col6\" class=\"data row5 col6\" >0.2771</td>\n",
       "    </tr>\n",
       "    <tr>\n",
       "      <th id=\"T_ffd2d_level0_row6\" class=\"row_heading level0 row6\" >6</th>\n",
       "      <td id=\"T_ffd2d_row6_col0\" class=\"data row6 col0\" >0.9406</td>\n",
       "      <td id=\"T_ffd2d_row6_col1\" class=\"data row6 col1\" >0.6158</td>\n",
       "      <td id=\"T_ffd2d_row6_col2\" class=\"data row6 col2\" >0.0690</td>\n",
       "      <td id=\"T_ffd2d_row6_col3\" class=\"data row6 col3\" >0.6667</td>\n",
       "      <td id=\"T_ffd2d_row6_col4\" class=\"data row6 col4\" >0.1250</td>\n",
       "      <td id=\"T_ffd2d_row6_col5\" class=\"data row6 col5\" >0.1148</td>\n",
       "      <td id=\"T_ffd2d_row6_col6\" class=\"data row6 col6\" >0.2016</td>\n",
       "    </tr>\n",
       "    <tr>\n",
       "      <th id=\"T_ffd2d_level0_row7\" class=\"row_heading level0 row7\" >7</th>\n",
       "      <td id=\"T_ffd2d_row7_col0\" class=\"data row7 col0\" >0.9406</td>\n",
       "      <td id=\"T_ffd2d_row7_col1\" class=\"data row7 col1\" >0.6621</td>\n",
       "      <td id=\"T_ffd2d_row7_col2\" class=\"data row7 col2\" >0.0575</td>\n",
       "      <td id=\"T_ffd2d_row7_col3\" class=\"data row7 col3\" >0.7143</td>\n",
       "      <td id=\"T_ffd2d_row7_col4\" class=\"data row7 col4\" >0.1064</td>\n",
       "      <td id=\"T_ffd2d_row7_col5\" class=\"data row7 col5\" >0.0981</td>\n",
       "      <td id=\"T_ffd2d_row7_col6\" class=\"data row7 col6\" >0.1916</td>\n",
       "    </tr>\n",
       "    <tr>\n",
       "      <th id=\"T_ffd2d_level0_row8\" class=\"row_heading level0 row8\" >8</th>\n",
       "      <td id=\"T_ffd2d_row8_col0\" class=\"data row8 col0\" >0.9378</td>\n",
       "      <td id=\"T_ffd2d_row8_col1\" class=\"data row8 col1\" >0.6479</td>\n",
       "      <td id=\"T_ffd2d_row8_col2\" class=\"data row8 col2\" >0.0690</td>\n",
       "      <td id=\"T_ffd2d_row8_col3\" class=\"data row8 col3\" >0.4615</td>\n",
       "      <td id=\"T_ffd2d_row8_col4\" class=\"data row8 col4\" >0.1200</td>\n",
       "      <td id=\"T_ffd2d_row8_col5\" class=\"data row8 col5\" >0.1057</td>\n",
       "      <td id=\"T_ffd2d_row8_col6\" class=\"data row8 col6\" >0.1604</td>\n",
       "    </tr>\n",
       "    <tr>\n",
       "      <th id=\"T_ffd2d_level0_row9\" class=\"row_heading level0 row9\" >9</th>\n",
       "      <td id=\"T_ffd2d_row9_col0\" class=\"data row9 col0\" >0.9392</td>\n",
       "      <td id=\"T_ffd2d_row9_col1\" class=\"data row9 col1\" >0.6717</td>\n",
       "      <td id=\"T_ffd2d_row9_col2\" class=\"data row9 col2\" >0.0575</td>\n",
       "      <td id=\"T_ffd2d_row9_col3\" class=\"data row9 col3\" >0.5556</td>\n",
       "      <td id=\"T_ffd2d_row9_col4\" class=\"data row9 col4\" >0.1042</td>\n",
       "      <td id=\"T_ffd2d_row9_col5\" class=\"data row9 col5\" >0.0937</td>\n",
       "      <td id=\"T_ffd2d_row9_col6\" class=\"data row9 col6\" >0.1646</td>\n",
       "    </tr>\n",
       "    <tr>\n",
       "      <th id=\"T_ffd2d_level0_row10\" class=\"row_heading level0 row10\" >Mean</th>\n",
       "      <td id=\"T_ffd2d_row10_col0\" class=\"data row10 col0\" >0.9401</td>\n",
       "      <td id=\"T_ffd2d_row10_col1\" class=\"data row10 col1\" >0.6551</td>\n",
       "      <td id=\"T_ffd2d_row10_col2\" class=\"data row10 col2\" >0.0651</td>\n",
       "      <td id=\"T_ffd2d_row10_col3\" class=\"data row10 col3\" >0.6664</td>\n",
       "      <td id=\"T_ffd2d_row10_col4\" class=\"data row10 col4\" >0.1179</td>\n",
       "      <td id=\"T_ffd2d_row10_col5\" class=\"data row10 col5\" >0.1082</td>\n",
       "      <td id=\"T_ffd2d_row10_col6\" class=\"data row10 col6\" >0.1940</td>\n",
       "    </tr>\n",
       "    <tr>\n",
       "      <th id=\"T_ffd2d_level0_row11\" class=\"row_heading level0 row11\" >Std</th>\n",
       "      <td id=\"T_ffd2d_row11_col0\" class=\"data row11 col0\" >0.0014</td>\n",
       "      <td id=\"T_ffd2d_row11_col1\" class=\"data row11 col1\" >0.0210</td>\n",
       "      <td id=\"T_ffd2d_row11_col2\" class=\"data row11 col2\" >0.0190</td>\n",
       "      <td id=\"T_ffd2d_row11_col3\" class=\"data row11 col3\" >0.1020</td>\n",
       "      <td id=\"T_ffd2d_row11_col4\" class=\"data row11 col4\" >0.0326</td>\n",
       "      <td id=\"T_ffd2d_row11_col5\" class=\"data row11 col5\" >0.0312</td>\n",
       "      <td id=\"T_ffd2d_row11_col6\" class=\"data row11 col6\" >0.0422</td>\n",
       "    </tr>\n",
       "  </tbody>\n",
       "</table>\n"
      ],
      "text/plain": [
       "<pandas.io.formats.style.Styler at 0x1f25ac2feb0>"
      ]
     },
     "metadata": {},
     "output_type": "display_data"
    }
   ],
   "source": [
    "lightgbm=create_model('lightgbm')"
   ]
  },
  {
   "cell_type": "markdown",
   "id": "935e04f5-cbf9-4f97-b362-bda940957b04",
   "metadata": {},
   "source": [
    "# tuning the lightgbm model further for better results"
   ]
  },
  {
   "cell_type": "code",
   "execution_count": 75,
   "id": "4889788e-a24f-43e5-bcfd-aff7f2b1f965",
   "metadata": {},
   "outputs": [
    {
     "data": {
      "text/html": [
       "<style type=\"text/css\">\n",
       "#T_e6c88_row10_col0, #T_e6c88_row10_col1, #T_e6c88_row10_col2, #T_e6c88_row10_col3, #T_e6c88_row10_col4, #T_e6c88_row10_col5, #T_e6c88_row10_col6 {\n",
       "  background: yellow;\n",
       "}\n",
       "</style>\n",
       "<table id=\"T_e6c88\">\n",
       "  <thead>\n",
       "    <tr>\n",
       "      <th class=\"blank level0\" >&nbsp;</th>\n",
       "      <th id=\"T_e6c88_level0_col0\" class=\"col_heading level0 col0\" >Accuracy</th>\n",
       "      <th id=\"T_e6c88_level0_col1\" class=\"col_heading level0 col1\" >AUC</th>\n",
       "      <th id=\"T_e6c88_level0_col2\" class=\"col_heading level0 col2\" >Recall</th>\n",
       "      <th id=\"T_e6c88_level0_col3\" class=\"col_heading level0 col3\" >Prec.</th>\n",
       "      <th id=\"T_e6c88_level0_col4\" class=\"col_heading level0 col4\" >F1</th>\n",
       "      <th id=\"T_e6c88_level0_col5\" class=\"col_heading level0 col5\" >Kappa</th>\n",
       "      <th id=\"T_e6c88_level0_col6\" class=\"col_heading level0 col6\" >MCC</th>\n",
       "    </tr>\n",
       "    <tr>\n",
       "      <th class=\"index_name level0\" >Fold</th>\n",
       "      <th class=\"blank col0\" >&nbsp;</th>\n",
       "      <th class=\"blank col1\" >&nbsp;</th>\n",
       "      <th class=\"blank col2\" >&nbsp;</th>\n",
       "      <th class=\"blank col3\" >&nbsp;</th>\n",
       "      <th class=\"blank col4\" >&nbsp;</th>\n",
       "      <th class=\"blank col5\" >&nbsp;</th>\n",
       "      <th class=\"blank col6\" >&nbsp;</th>\n",
       "    </tr>\n",
       "  </thead>\n",
       "  <tbody>\n",
       "    <tr>\n",
       "      <th id=\"T_e6c88_level0_row0\" class=\"row_heading level0 row0\" >0</th>\n",
       "      <td id=\"T_e6c88_row0_col0\" class=\"data row0 col0\" >0.9414</td>\n",
       "      <td id=\"T_e6c88_row0_col1\" class=\"data row0 col1\" >0.6763</td>\n",
       "      <td id=\"T_e6c88_row0_col2\" class=\"data row0 col2\" >0.0682</td>\n",
       "      <td id=\"T_e6c88_row0_col3\" class=\"data row0 col3\" >0.8571</td>\n",
       "      <td id=\"T_e6c88_row0_col4\" class=\"data row0 col4\" >0.1263</td>\n",
       "      <td id=\"T_e6c88_row0_col5\" class=\"data row0 col5\" >0.1182</td>\n",
       "      <td id=\"T_e6c88_row0_col6\" class=\"data row0 col6\" >0.2321</td>\n",
       "    </tr>\n",
       "    <tr>\n",
       "      <th id=\"T_e6c88_level0_row1\" class=\"row_heading level0 row1\" >1</th>\n",
       "      <td id=\"T_e6c88_row1_col0\" class=\"data row1 col0\" >0.9386</td>\n",
       "      <td id=\"T_e6c88_row1_col1\" class=\"data row1 col1\" >0.6217</td>\n",
       "      <td id=\"T_e6c88_row1_col2\" class=\"data row1 col2\" >0.0227</td>\n",
       "      <td id=\"T_e6c88_row1_col3\" class=\"data row1 col3\" >0.6667</td>\n",
       "      <td id=\"T_e6c88_row1_col4\" class=\"data row1 col4\" >0.0440</td>\n",
       "      <td id=\"T_e6c88_row1_col5\" class=\"data row1 col5\" >0.0400</td>\n",
       "      <td id=\"T_e6c88_row1_col6\" class=\"data row1 col6\" >0.1154</td>\n",
       "    </tr>\n",
       "    <tr>\n",
       "      <th id=\"T_e6c88_level0_row2\" class=\"row_heading level0 row2\" >2</th>\n",
       "      <td id=\"T_e6c88_row2_col0\" class=\"data row2 col0\" >0.9393</td>\n",
       "      <td id=\"T_e6c88_row2_col1\" class=\"data row2 col1\" >0.6707</td>\n",
       "      <td id=\"T_e6c88_row2_col2\" class=\"data row2 col2\" >0.0455</td>\n",
       "      <td id=\"T_e6c88_row2_col3\" class=\"data row2 col3\" >0.6667</td>\n",
       "      <td id=\"T_e6c88_row2_col4\" class=\"data row2 col4\" >0.0851</td>\n",
       "      <td id=\"T_e6c88_row2_col5\" class=\"data row2 col5\" >0.0778</td>\n",
       "      <td id=\"T_e6c88_row2_col6\" class=\"data row2 col6\" >0.1633</td>\n",
       "    </tr>\n",
       "    <tr>\n",
       "      <th id=\"T_e6c88_level0_row3\" class=\"row_heading level0 row3\" >3</th>\n",
       "      <td id=\"T_e6c88_row3_col0\" class=\"data row3 col0\" >0.9400</td>\n",
       "      <td id=\"T_e6c88_row3_col1\" class=\"data row3 col1\" >0.6558</td>\n",
       "      <td id=\"T_e6c88_row3_col2\" class=\"data row3 col2\" >0.0341</td>\n",
       "      <td id=\"T_e6c88_row3_col3\" class=\"data row3 col3\" >1.0000</td>\n",
       "      <td id=\"T_e6c88_row3_col4\" class=\"data row3 col4\" >0.0659</td>\n",
       "      <td id=\"T_e6c88_row3_col5\" class=\"data row3 col5\" >0.0621</td>\n",
       "      <td id=\"T_e6c88_row3_col6\" class=\"data row3 col6\" >0.1790</td>\n",
       "    </tr>\n",
       "    <tr>\n",
       "      <th id=\"T_e6c88_level0_row4\" class=\"row_heading level0 row4\" >4</th>\n",
       "      <td id=\"T_e6c88_row4_col0\" class=\"data row4 col0\" >0.9407</td>\n",
       "      <td id=\"T_e6c88_row4_col1\" class=\"data row4 col1\" >0.6873</td>\n",
       "      <td id=\"T_e6c88_row4_col2\" class=\"data row4 col2\" >0.0682</td>\n",
       "      <td id=\"T_e6c88_row4_col3\" class=\"data row4 col3\" >0.7500</td>\n",
       "      <td id=\"T_e6c88_row4_col4\" class=\"data row4 col4\" >0.1250</td>\n",
       "      <td id=\"T_e6c88_row4_col5\" class=\"data row4 col5\" >0.1158</td>\n",
       "      <td id=\"T_e6c88_row4_col6\" class=\"data row4 col6\" >0.2148</td>\n",
       "    </tr>\n",
       "    <tr>\n",
       "      <th id=\"T_e6c88_level0_row5\" class=\"row_heading level0 row5\" >5</th>\n",
       "      <td id=\"T_e6c88_row5_col0\" class=\"data row5 col0\" >0.9407</td>\n",
       "      <td id=\"T_e6c88_row5_col1\" class=\"data row5 col1\" >0.6763</td>\n",
       "      <td id=\"T_e6c88_row5_col2\" class=\"data row5 col2\" >0.0455</td>\n",
       "      <td id=\"T_e6c88_row5_col3\" class=\"data row5 col3\" >1.0000</td>\n",
       "      <td id=\"T_e6c88_row5_col4\" class=\"data row5 col4\" >0.0870</td>\n",
       "      <td id=\"T_e6c88_row5_col5\" class=\"data row5 col5\" >0.0820</td>\n",
       "      <td id=\"T_e6c88_row5_col6\" class=\"data row5 col6\" >0.2068</td>\n",
       "    </tr>\n",
       "    <tr>\n",
       "      <th id=\"T_e6c88_level0_row6\" class=\"row_heading level0 row6\" >6</th>\n",
       "      <td id=\"T_e6c88_row6_col0\" class=\"data row6 col0\" >0.9399</td>\n",
       "      <td id=\"T_e6c88_row6_col1\" class=\"data row6 col1\" >0.6526</td>\n",
       "      <td id=\"T_e6c88_row6_col2\" class=\"data row6 col2\" >0.0690</td>\n",
       "      <td id=\"T_e6c88_row6_col3\" class=\"data row6 col3\" >0.6000</td>\n",
       "      <td id=\"T_e6c88_row6_col4\" class=\"data row6 col4\" >0.1237</td>\n",
       "      <td id=\"T_e6c88_row6_col5\" class=\"data row6 col5\" >0.1125</td>\n",
       "      <td id=\"T_e6c88_row6_col6\" class=\"data row6 col6\" >0.1891</td>\n",
       "    </tr>\n",
       "    <tr>\n",
       "      <th id=\"T_e6c88_level0_row7\" class=\"row_heading level0 row7\" >7</th>\n",
       "      <td id=\"T_e6c88_row7_col0\" class=\"data row7 col0\" >0.9406</td>\n",
       "      <td id=\"T_e6c88_row7_col1\" class=\"data row7 col1\" >0.6349</td>\n",
       "      <td id=\"T_e6c88_row7_col2\" class=\"data row7 col2\" >0.0460</td>\n",
       "      <td id=\"T_e6c88_row7_col3\" class=\"data row7 col3\" >0.8000</td>\n",
       "      <td id=\"T_e6c88_row7_col4\" class=\"data row7 col4\" >0.0870</td>\n",
       "      <td id=\"T_e6c88_row7_col5\" class=\"data row7 col5\" >0.0808</td>\n",
       "      <td id=\"T_e6c88_row7_col6\" class=\"data row7 col6\" >0.1831</td>\n",
       "    </tr>\n",
       "    <tr>\n",
       "      <th id=\"T_e6c88_level0_row8\" class=\"row_heading level0 row8\" >8</th>\n",
       "      <td id=\"T_e6c88_row8_col0\" class=\"data row8 col0\" >0.9413</td>\n",
       "      <td id=\"T_e6c88_row8_col1\" class=\"data row8 col1\" >0.6621</td>\n",
       "      <td id=\"T_e6c88_row8_col2\" class=\"data row8 col2\" >0.0690</td>\n",
       "      <td id=\"T_e6c88_row8_col3\" class=\"data row8 col3\" >0.7500</td>\n",
       "      <td id=\"T_e6c88_row8_col4\" class=\"data row8 col4\" >0.1263</td>\n",
       "      <td id=\"T_e6c88_row8_col5\" class=\"data row8 col5\" >0.1172</td>\n",
       "      <td id=\"T_e6c88_row8_col6\" class=\"data row8 col6\" >0.2161</td>\n",
       "    </tr>\n",
       "    <tr>\n",
       "      <th id=\"T_e6c88_level0_row9\" class=\"row_heading level0 row9\" >9</th>\n",
       "      <td id=\"T_e6c88_row9_col0\" class=\"data row9 col0\" >0.9406</td>\n",
       "      <td id=\"T_e6c88_row9_col1\" class=\"data row9 col1\" >0.6761</td>\n",
       "      <td id=\"T_e6c88_row9_col2\" class=\"data row9 col2\" >0.0575</td>\n",
       "      <td id=\"T_e6c88_row9_col3\" class=\"data row9 col3\" >0.7143</td>\n",
       "      <td id=\"T_e6c88_row9_col4\" class=\"data row9 col4\" >0.1064</td>\n",
       "      <td id=\"T_e6c88_row9_col5\" class=\"data row9 col5\" >0.0981</td>\n",
       "      <td id=\"T_e6c88_row9_col6\" class=\"data row9 col6\" >0.1916</td>\n",
       "    </tr>\n",
       "    <tr>\n",
       "      <th id=\"T_e6c88_level0_row10\" class=\"row_heading level0 row10\" >Mean</th>\n",
       "      <td id=\"T_e6c88_row10_col0\" class=\"data row10 col0\" >0.9403</td>\n",
       "      <td id=\"T_e6c88_row10_col1\" class=\"data row10 col1\" >0.6614</td>\n",
       "      <td id=\"T_e6c88_row10_col2\" class=\"data row10 col2\" >0.0525</td>\n",
       "      <td id=\"T_e6c88_row10_col3\" class=\"data row10 col3\" >0.7805</td>\n",
       "      <td id=\"T_e6c88_row10_col4\" class=\"data row10 col4\" >0.0977</td>\n",
       "      <td id=\"T_e6c88_row10_col5\" class=\"data row10 col5\" >0.0905</td>\n",
       "      <td id=\"T_e6c88_row10_col6\" class=\"data row10 col6\" >0.1891</td>\n",
       "    </tr>\n",
       "    <tr>\n",
       "      <th id=\"T_e6c88_level0_row11\" class=\"row_heading level0 row11\" >Std</th>\n",
       "      <td id=\"T_e6c88_row11_col0\" class=\"data row11 col0\" >0.0008</td>\n",
       "      <td id=\"T_e6c88_row11_col1\" class=\"data row11 col1\" >0.0195</td>\n",
       "      <td id=\"T_e6c88_row11_col2\" class=\"data row11 col2\" >0.0156</td>\n",
       "      <td id=\"T_e6c88_row11_col3\" class=\"data row11 col3\" >0.1294</td>\n",
       "      <td id=\"T_e6c88_row11_col4\" class=\"data row11 col4\" >0.0272</td>\n",
       "      <td id=\"T_e6c88_row11_col5\" class=\"data row11 col5\" >0.0252</td>\n",
       "      <td id=\"T_e6c88_row11_col6\" class=\"data row11 col6\" >0.0313</td>\n",
       "    </tr>\n",
       "  </tbody>\n",
       "</table>\n"
      ],
      "text/plain": [
       "<pandas.io.formats.style.Styler at 0x1f25aed8130>"
      ]
     },
     "metadata": {},
     "output_type": "display_data"
    },
    {
     "name": "stdout",
     "output_type": "stream",
     "text": [
      "LGBMClassifier(bagging_fraction=0.7, bagging_freq=6, boosting_type='gbdt',\n",
      "               class_weight=None, colsample_bytree=1.0, feature_fraction=0.5,\n",
      "               importance_type='split', learning_rate=0.1, max_depth=-1,\n",
      "               min_child_samples=66, min_child_weight=0.001, min_split_gain=0.4,\n",
      "               n_estimators=90, n_jobs=-1, num_leaves=90, objective=None,\n",
      "               random_state=123, reg_alpha=0.0005, reg_lambda=0.1,\n",
      "               silent='warn', subsample=1.0, subsample_for_bin=200000,\n",
      "               subsample_freq=0)\n"
     ]
    }
   ],
   "source": [
    "tuned_lightgbm=tune_model(lightgbm)\n",
    "print(tuned_lightgbm)"
   ]
  },
  {
   "cell_type": "markdown",
   "id": "b328dfc6-d845-4109-9ccf-bfa7f68ea5a6",
   "metadata": {},
   "source": [
    "# making prediction validation data\n"
   ]
  },
  {
   "cell_type": "code",
   "execution_count": 76,
   "id": "99377bf9-157f-4734-b919-7417b7ba82b1",
   "metadata": {},
   "outputs": [
    {
     "data": {
      "text/html": [
       "<style type=\"text/css\">\n",
       "</style>\n",
       "<table id=\"T_d7699\">\n",
       "  <thead>\n",
       "    <tr>\n",
       "      <th class=\"blank level0\" >&nbsp;</th>\n",
       "      <th id=\"T_d7699_level0_col0\" class=\"col_heading level0 col0\" >Model</th>\n",
       "      <th id=\"T_d7699_level0_col1\" class=\"col_heading level0 col1\" >Accuracy</th>\n",
       "      <th id=\"T_d7699_level0_col2\" class=\"col_heading level0 col2\" >AUC</th>\n",
       "      <th id=\"T_d7699_level0_col3\" class=\"col_heading level0 col3\" >Recall</th>\n",
       "      <th id=\"T_d7699_level0_col4\" class=\"col_heading level0 col4\" >Prec.</th>\n",
       "      <th id=\"T_d7699_level0_col5\" class=\"col_heading level0 col5\" >F1</th>\n",
       "      <th id=\"T_d7699_level0_col6\" class=\"col_heading level0 col6\" >Kappa</th>\n",
       "      <th id=\"T_d7699_level0_col7\" class=\"col_heading level0 col7\" >MCC</th>\n",
       "    </tr>\n",
       "  </thead>\n",
       "  <tbody>\n",
       "    <tr>\n",
       "      <th id=\"T_d7699_level0_row0\" class=\"row_heading level0 row0\" >0</th>\n",
       "      <td id=\"T_d7699_row0_col0\" class=\"data row0 col0\" >Light Gradient Boosting Machine</td>\n",
       "      <td id=\"T_d7699_row0_col1\" class=\"data row0 col1\" >0.9372</td>\n",
       "      <td id=\"T_d7699_row0_col2\" class=\"data row0 col2\" >0.6595</td>\n",
       "      <td id=\"T_d7699_row0_col3\" class=\"data row0 col3\" >0.0431</td>\n",
       "      <td id=\"T_d7699_row0_col4\" class=\"data row0 col4\" >0.8095</td>\n",
       "      <td id=\"T_d7699_row0_col5\" class=\"data row0 col5\" >0.0819</td>\n",
       "      <td id=\"T_d7699_row0_col6\" class=\"data row0 col6\" >0.0759</td>\n",
       "      <td id=\"T_d7699_row0_col7\" class=\"data row0 col7\" >0.1781</td>\n",
       "    </tr>\n",
       "  </tbody>\n",
       "</table>\n"
      ],
      "text/plain": [
       "<pandas.io.formats.style.Styler at 0x1f244a15a00>"
      ]
     },
     "metadata": {},
     "output_type": "display_data"
    },
    {
     "data": {
      "text/html": [
       "<div>\n",
       "<style scoped>\n",
       "    .dataframe tbody tr th:only-of-type {\n",
       "        vertical-align: middle;\n",
       "    }\n",
       "\n",
       "    .dataframe tbody tr th {\n",
       "        vertical-align: top;\n",
       "    }\n",
       "\n",
       "    .dataframe thead th {\n",
       "        text-align: right;\n",
       "    }\n",
       "</style>\n",
       "<table border=\"1\" class=\"dataframe\">\n",
       "  <thead>\n",
       "    <tr style=\"text-align: right;\">\n",
       "      <th></th>\n",
       "      <th>lost_reason</th>\n",
       "      <th>budget</th>\n",
       "      <th>lease</th>\n",
       "      <th>movein</th>\n",
       "      <th>room_type</th>\n",
       "      <th>status</th>\n",
       "      <th>Label</th>\n",
       "      <th>Score</th>\n",
       "    </tr>\n",
       "  </thead>\n",
       "  <tbody>\n",
       "    <tr>\n",
       "      <th>0</th>\n",
       "      <td>15</td>\n",
       "      <td>105</td>\n",
       "      <td>43</td>\n",
       "      <td>330</td>\n",
       "      <td>0</td>\n",
       "      <td>0</td>\n",
       "      <td>0</td>\n",
       "      <td>0.8952</td>\n",
       "    </tr>\n",
       "    <tr>\n",
       "      <th>1</th>\n",
       "      <td>20</td>\n",
       "      <td>105</td>\n",
       "      <td>44</td>\n",
       "      <td>140</td>\n",
       "      <td>0</td>\n",
       "      <td>0</td>\n",
       "      <td>0</td>\n",
       "      <td>0.8772</td>\n",
       "    </tr>\n",
       "    <tr>\n",
       "      <th>2</th>\n",
       "      <td>20</td>\n",
       "      <td>105</td>\n",
       "      <td>43</td>\n",
       "      <td>217</td>\n",
       "      <td>0</td>\n",
       "      <td>0</td>\n",
       "      <td>0</td>\n",
       "      <td>0.9141</td>\n",
       "    </tr>\n",
       "    <tr>\n",
       "      <th>3</th>\n",
       "      <td>15</td>\n",
       "      <td>105</td>\n",
       "      <td>43</td>\n",
       "      <td>227</td>\n",
       "      <td>0</td>\n",
       "      <td>0</td>\n",
       "      <td>0</td>\n",
       "      <td>0.8741</td>\n",
       "    </tr>\n",
       "    <tr>\n",
       "      <th>4</th>\n",
       "      <td>16</td>\n",
       "      <td>113</td>\n",
       "      <td>44</td>\n",
       "      <td>374</td>\n",
       "      <td>1</td>\n",
       "      <td>0</td>\n",
       "      <td>0</td>\n",
       "      <td>0.9683</td>\n",
       "    </tr>\n",
       "    <tr>\n",
       "      <th>...</th>\n",
       "      <td>...</td>\n",
       "      <td>...</td>\n",
       "      <td>...</td>\n",
       "      <td>...</td>\n",
       "      <td>...</td>\n",
       "      <td>...</td>\n",
       "      <td>...</td>\n",
       "      <td>...</td>\n",
       "    </tr>\n",
       "    <tr>\n",
       "      <th>6063</th>\n",
       "      <td>10</td>\n",
       "      <td>123</td>\n",
       "      <td>44</td>\n",
       "      <td>130</td>\n",
       "      <td>0</td>\n",
       "      <td>0</td>\n",
       "      <td>0</td>\n",
       "      <td>0.8934</td>\n",
       "    </tr>\n",
       "    <tr>\n",
       "      <th>6064</th>\n",
       "      <td>20</td>\n",
       "      <td>105</td>\n",
       "      <td>49</td>\n",
       "      <td>386</td>\n",
       "      <td>3</td>\n",
       "      <td>0</td>\n",
       "      <td>0</td>\n",
       "      <td>0.9576</td>\n",
       "    </tr>\n",
       "    <tr>\n",
       "      <th>6065</th>\n",
       "      <td>16</td>\n",
       "      <td>97</td>\n",
       "      <td>44</td>\n",
       "      <td>204</td>\n",
       "      <td>3</td>\n",
       "      <td>0</td>\n",
       "      <td>0</td>\n",
       "      <td>0.9541</td>\n",
       "    </tr>\n",
       "    <tr>\n",
       "      <th>6066</th>\n",
       "      <td>20</td>\n",
       "      <td>105</td>\n",
       "      <td>44</td>\n",
       "      <td>241</td>\n",
       "      <td>0</td>\n",
       "      <td>0</td>\n",
       "      <td>0</td>\n",
       "      <td>0.9224</td>\n",
       "    </tr>\n",
       "    <tr>\n",
       "      <th>6067</th>\n",
       "      <td>15</td>\n",
       "      <td>123</td>\n",
       "      <td>43</td>\n",
       "      <td>55</td>\n",
       "      <td>0</td>\n",
       "      <td>0</td>\n",
       "      <td>0</td>\n",
       "      <td>0.9259</td>\n",
       "    </tr>\n",
       "  </tbody>\n",
       "</table>\n",
       "<p>6068 rows × 8 columns</p>\n",
       "</div>"
      ],
      "text/plain": [
       "      lost_reason  budget  lease  movein  room_type  status  Label   Score\n",
       "0              15     105     43     330          0       0      0  0.8952\n",
       "1              20     105     44     140          0       0      0  0.8772\n",
       "2              20     105     43     217          0       0      0  0.9141\n",
       "3              15     105     43     227          0       0      0  0.8741\n",
       "4              16     113     44     374          1       0      0  0.9683\n",
       "...           ...     ...    ...     ...        ...     ...    ...     ...\n",
       "6063           10     123     44     130          0       0      0  0.8934\n",
       "6064           20     105     49     386          3       0      0  0.9576\n",
       "6065           16      97     44     204          3       0      0  0.9541\n",
       "6066           20     105     44     241          0       0      0  0.9224\n",
       "6067           15     123     43      55          0       0      0  0.9259\n",
       "\n",
       "[6068 rows x 8 columns]"
      ]
     },
     "execution_count": 76,
     "metadata": {},
     "output_type": "execute_result"
    }
   ],
   "source": [
    "\n",
    "predict_model(tuned_lightgbm)\n"
   ]
  },
  {
   "cell_type": "markdown",
   "id": "fb688849-e617-4c3a-9f38-8e0a4b649413",
   "metadata": {},
   "source": [
    "# saving the predicted value in a variable of [predict_model(tuned_lightgbm)]\n"
   ]
  },
  {
   "cell_type": "code",
   "execution_count": 77,
   "id": "6c478dac-2aa3-479e-8566-59e52deaa085",
   "metadata": {},
   "outputs": [
    {
     "data": {
      "text/html": [
       "<style type=\"text/css\">\n",
       "</style>\n",
       "<table id=\"T_6ab99\">\n",
       "  <thead>\n",
       "    <tr>\n",
       "      <th class=\"blank level0\" >&nbsp;</th>\n",
       "      <th id=\"T_6ab99_level0_col0\" class=\"col_heading level0 col0\" >Model</th>\n",
       "      <th id=\"T_6ab99_level0_col1\" class=\"col_heading level0 col1\" >Accuracy</th>\n",
       "      <th id=\"T_6ab99_level0_col2\" class=\"col_heading level0 col2\" >AUC</th>\n",
       "      <th id=\"T_6ab99_level0_col3\" class=\"col_heading level0 col3\" >Recall</th>\n",
       "      <th id=\"T_6ab99_level0_col4\" class=\"col_heading level0 col4\" >Prec.</th>\n",
       "      <th id=\"T_6ab99_level0_col5\" class=\"col_heading level0 col5\" >F1</th>\n",
       "      <th id=\"T_6ab99_level0_col6\" class=\"col_heading level0 col6\" >Kappa</th>\n",
       "      <th id=\"T_6ab99_level0_col7\" class=\"col_heading level0 col7\" >MCC</th>\n",
       "    </tr>\n",
       "  </thead>\n",
       "  <tbody>\n",
       "    <tr>\n",
       "      <th id=\"T_6ab99_level0_row0\" class=\"row_heading level0 row0\" >0</th>\n",
       "      <td id=\"T_6ab99_row0_col0\" class=\"data row0 col0\" >Light Gradient Boosting Machine</td>\n",
       "      <td id=\"T_6ab99_row0_col1\" class=\"data row0 col1\" >0.9324</td>\n",
       "      <td id=\"T_6ab99_row0_col2\" class=\"data row0 col2\" >0.6419</td>\n",
       "      <td id=\"T_6ab99_row0_col3\" class=\"data row0 col3\" >0.0461</td>\n",
       "      <td id=\"T_6ab99_row0_col4\" class=\"data row0 col4\" >0.5000</td>\n",
       "      <td id=\"T_6ab99_row0_col5\" class=\"data row0 col5\" >0.0843</td>\n",
       "      <td id=\"T_6ab99_row0_col6\" class=\"data row0 col6\" >0.0738</td>\n",
       "      <td id=\"T_6ab99_row0_col7\" class=\"data row0 col7\" >0.1363</td>\n",
       "    </tr>\n",
       "  </tbody>\n",
       "</table>\n"
      ],
      "text/plain": [
       "<pandas.io.formats.style.Styler at 0x1f244a97b20>"
      ]
     },
     "metadata": {},
     "output_type": "display_data"
    }
   ],
   "source": [
    "\n",
    "test_pred = predict_model(tuned_lightgbm, data=data_test)\n",
    "\n"
   ]
  },
  {
   "cell_type": "code",
   "execution_count": null,
   "id": "84b8110b-8bfc-419d-b677-bd8c2677c8a8",
   "metadata": {},
   "outputs": [],
   "source": [
    "test_pred"
   ]
  },
  {
   "cell_type": "markdown",
   "id": "8a12c33c-63c4-42f6-9e79-1cc61861d39a",
   "metadata": {},
   "source": [
    "# saving the model\n"
   ]
  },
  {
   "cell_type": "code",
   "execution_count": 78,
   "id": "92449db7-8e7a-4123-9ef9-7d321ec50477",
   "metadata": {},
   "outputs": [
    {
     "name": "stdout",
     "output_type": "stream",
     "text": [
      "Transformation Pipeline and Model Successfully Saved\n"
     ]
    },
    {
     "data": {
      "text/plain": [
       "(Pipeline(memory=None,\n",
       "          steps=[('dtypes',\n",
       "                  DataTypes_Auto_infer(categorical_features=[],\n",
       "                                       display_types=True, features_todrop=[],\n",
       "                                       id_columns=[],\n",
       "                                       ml_usecase='classification',\n",
       "                                       numerical_features=[], target='status',\n",
       "                                       time_features=[])),\n",
       "                 ('imputer',\n",
       "                  Simple_Imputer(categorical_strategy='not_available',\n",
       "                                 fill_value_categorical=None,\n",
       "                                 fill_value_numerical=None,\n",
       "                                 numeric_strat...\n",
       "                                 colsample_bytree=1.0, feature_fraction=0.5,\n",
       "                                 importance_type='split', learning_rate=0.1,\n",
       "                                 max_depth=-1, min_child_samples=66,\n",
       "                                 min_child_weight=0.001, min_split_gain=0.4,\n",
       "                                 n_estimators=90, n_jobs=-1, num_leaves=90,\n",
       "                                 objective=None, random_state=123,\n",
       "                                 reg_alpha=0.0005, reg_lambda=0.1, silent='warn',\n",
       "                                 subsample=1.0, subsample_for_bin=200000,\n",
       "                                 subsample_freq=0)]],\n",
       "          verbose=False),\n",
       " 'classification Model.pkl')"
      ]
     },
     "execution_count": 78,
     "metadata": {},
     "output_type": "execute_result"
    }
   ],
   "source": [
    "save_model(tuned_lightgbm, \"classification Model\")\n"
   ]
  },
  {
   "cell_type": "markdown",
   "id": "152381cf-ed23-428b-a81e-a9035024a203",
   "metadata": {},
   "source": [
    " # saving the model in variable\n"
   ]
  },
  {
   "cell_type": "code",
   "execution_count": 79,
   "id": "6a4564a0-1498-42b5-b762-99f477cedae0",
   "metadata": {},
   "outputs": [
    {
     "name": "stdout",
     "output_type": "stream",
     "text": [
      "Transformation Pipeline and Model Successfully Loaded\n"
     ]
    }
   ],
   "source": [
    "\n",
    "saved_final_model = load_model(\"classification Model\")\n"
   ]
  },
  {
   "cell_type": "markdown",
   "id": "d8cf451b-4816-4547-88a4-fafd2b48a233",
   "metadata": {},
   "source": [
    "\n",
    "\n",
    "\n",
    "\n",
    "\n",
    "\n",
    "\n",
    "# making new prediction on saved_final_model\n"
   ]
  },
  {
   "cell_type": "code",
   "execution_count": 80,
   "id": "5cc93b56-686c-4d63-a1aa-2d955d043214",
   "metadata": {},
   "outputs": [
    {
     "data": {
      "text/html": [
       "<style type=\"text/css\">\n",
       "</style>\n",
       "<table id=\"T_9c722\">\n",
       "  <thead>\n",
       "    <tr>\n",
       "      <th class=\"blank level0\" >&nbsp;</th>\n",
       "      <th id=\"T_9c722_level0_col0\" class=\"col_heading level0 col0\" >Model</th>\n",
       "      <th id=\"T_9c722_level0_col1\" class=\"col_heading level0 col1\" >Accuracy</th>\n",
       "      <th id=\"T_9c722_level0_col2\" class=\"col_heading level0 col2\" >AUC</th>\n",
       "      <th id=\"T_9c722_level0_col3\" class=\"col_heading level0 col3\" >Recall</th>\n",
       "      <th id=\"T_9c722_level0_col4\" class=\"col_heading level0 col4\" >Prec.</th>\n",
       "      <th id=\"T_9c722_level0_col5\" class=\"col_heading level0 col5\" >F1</th>\n",
       "      <th id=\"T_9c722_level0_col6\" class=\"col_heading level0 col6\" >Kappa</th>\n",
       "      <th id=\"T_9c722_level0_col7\" class=\"col_heading level0 col7\" >MCC</th>\n",
       "    </tr>\n",
       "  </thead>\n",
       "  <tbody>\n",
       "    <tr>\n",
       "      <th id=\"T_9c722_level0_row0\" class=\"row_heading level0 row0\" >0</th>\n",
       "      <td id=\"T_9c722_row0_col0\" class=\"data row0 col0\" >Light Gradient Boosting Machine</td>\n",
       "      <td id=\"T_9c722_row0_col1\" class=\"data row0 col1\" >0.9324</td>\n",
       "      <td id=\"T_9c722_row0_col2\" class=\"data row0 col2\" >0.6419</td>\n",
       "      <td id=\"T_9c722_row0_col3\" class=\"data row0 col3\" >0.0461</td>\n",
       "      <td id=\"T_9c722_row0_col4\" class=\"data row0 col4\" >0.5000</td>\n",
       "      <td id=\"T_9c722_row0_col5\" class=\"data row0 col5\" >0.0843</td>\n",
       "      <td id=\"T_9c722_row0_col6\" class=\"data row0 col6\" >0.0738</td>\n",
       "      <td id=\"T_9c722_row0_col7\" class=\"data row0 col7\" >0.1363</td>\n",
       "    </tr>\n",
       "  </tbody>\n",
       "</table>\n"
      ],
      "text/plain": [
       "<pandas.io.formats.style.Styler at 0x1f2511e2d90>"
      ]
     },
     "metadata": {},
     "output_type": "display_data"
    }
   ],
   "source": [
    "new_prediction = predict_model(saved_final_model, data=data_test)\n"
   ]
  },
  {
   "cell_type": "code",
   "execution_count": 81,
   "id": "91503840-e87b-4d16-9f70-d40e74288b1d",
   "metadata": {},
   "outputs": [
    {
     "data": {
      "text/html": [
       "<div>\n",
       "<style scoped>\n",
       "    .dataframe tbody tr th:only-of-type {\n",
       "        vertical-align: middle;\n",
       "    }\n",
       "\n",
       "    .dataframe tbody tr th {\n",
       "        vertical-align: top;\n",
       "    }\n",
       "\n",
       "    .dataframe thead th {\n",
       "        text-align: right;\n",
       "    }\n",
       "</style>\n",
       "<table border=\"1\" class=\"dataframe\">\n",
       "  <thead>\n",
       "    <tr style=\"text-align: right;\">\n",
       "      <th></th>\n",
       "      <th>status</th>\n",
       "      <th>lost_reason</th>\n",
       "      <th>budget</th>\n",
       "      <th>lease</th>\n",
       "      <th>movein</th>\n",
       "      <th>room_type</th>\n",
       "      <th>Label</th>\n",
       "      <th>Score</th>\n",
       "    </tr>\n",
       "  </thead>\n",
       "  <tbody>\n",
       "    <tr>\n",
       "      <th>0</th>\n",
       "      <td>0</td>\n",
       "      <td>29</td>\n",
       "      <td>113</td>\n",
       "      <td>31</td>\n",
       "      <td>104</td>\n",
       "      <td>1</td>\n",
       "      <td>0</td>\n",
       "      <td>0.9725</td>\n",
       "    </tr>\n",
       "    <tr>\n",
       "      <th>1</th>\n",
       "      <td>0</td>\n",
       "      <td>29</td>\n",
       "      <td>123</td>\n",
       "      <td>47</td>\n",
       "      <td>386</td>\n",
       "      <td>0</td>\n",
       "      <td>0</td>\n",
       "      <td>0.9808</td>\n",
       "    </tr>\n",
       "    <tr>\n",
       "      <th>2</th>\n",
       "      <td>0</td>\n",
       "      <td>10</td>\n",
       "      <td>113</td>\n",
       "      <td>43</td>\n",
       "      <td>115</td>\n",
       "      <td>0</td>\n",
       "      <td>0</td>\n",
       "      <td>0.9287</td>\n",
       "    </tr>\n",
       "    <tr>\n",
       "      <th>3</th>\n",
       "      <td>0</td>\n",
       "      <td>21</td>\n",
       "      <td>105</td>\n",
       "      <td>43</td>\n",
       "      <td>372</td>\n",
       "      <td>0</td>\n",
       "      <td>0</td>\n",
       "      <td>0.9709</td>\n",
       "    </tr>\n",
       "    <tr>\n",
       "      <th>4</th>\n",
       "      <td>0</td>\n",
       "      <td>20</td>\n",
       "      <td>123</td>\n",
       "      <td>49</td>\n",
       "      <td>384</td>\n",
       "      <td>0</td>\n",
       "      <td>0</td>\n",
       "      <td>0.9801</td>\n",
       "    </tr>\n",
       "    <tr>\n",
       "      <th>...</th>\n",
       "      <td>...</td>\n",
       "      <td>...</td>\n",
       "      <td>...</td>\n",
       "      <td>...</td>\n",
       "      <td>...</td>\n",
       "      <td>...</td>\n",
       "      <td>...</td>\n",
       "      <td>...</td>\n",
       "    </tr>\n",
       "    <tr>\n",
       "      <th>2242</th>\n",
       "      <td>0</td>\n",
       "      <td>15</td>\n",
       "      <td>123</td>\n",
       "      <td>44</td>\n",
       "      <td>386</td>\n",
       "      <td>1</td>\n",
       "      <td>0</td>\n",
       "      <td>0.9647</td>\n",
       "    </tr>\n",
       "    <tr>\n",
       "      <th>2243</th>\n",
       "      <td>0</td>\n",
       "      <td>9</td>\n",
       "      <td>105</td>\n",
       "      <td>43</td>\n",
       "      <td>70</td>\n",
       "      <td>3</td>\n",
       "      <td>0</td>\n",
       "      <td>0.9217</td>\n",
       "    </tr>\n",
       "    <tr>\n",
       "      <th>2244</th>\n",
       "      <td>0</td>\n",
       "      <td>0</td>\n",
       "      <td>123</td>\n",
       "      <td>44</td>\n",
       "      <td>299</td>\n",
       "      <td>3</td>\n",
       "      <td>0</td>\n",
       "      <td>0.9383</td>\n",
       "    </tr>\n",
       "    <tr>\n",
       "      <th>2245</th>\n",
       "      <td>0</td>\n",
       "      <td>15</td>\n",
       "      <td>123</td>\n",
       "      <td>43</td>\n",
       "      <td>12</td>\n",
       "      <td>3</td>\n",
       "      <td>0</td>\n",
       "      <td>0.9690</td>\n",
       "    </tr>\n",
       "    <tr>\n",
       "      <th>2246</th>\n",
       "      <td>0</td>\n",
       "      <td>15</td>\n",
       "      <td>113</td>\n",
       "      <td>44</td>\n",
       "      <td>12</td>\n",
       "      <td>3</td>\n",
       "      <td>0</td>\n",
       "      <td>0.9568</td>\n",
       "    </tr>\n",
       "  </tbody>\n",
       "</table>\n",
       "<p>2247 rows × 8 columns</p>\n",
       "</div>"
      ],
      "text/plain": [
       "      status  lost_reason  budget  lease  movein  room_type  Label   Score\n",
       "0          0           29     113     31     104          1      0  0.9725\n",
       "1          0           29     123     47     386          0      0  0.9808\n",
       "2          0           10     113     43     115          0      0  0.9287\n",
       "3          0           21     105     43     372          0      0  0.9709\n",
       "4          0           20     123     49     384          0      0  0.9801\n",
       "...      ...          ...     ...    ...     ...        ...    ...     ...\n",
       "2242       0           15     123     44     386          1      0  0.9647\n",
       "2243       0            9     105     43      70          3      0  0.9217\n",
       "2244       0            0     123     44     299          3      0  0.9383\n",
       "2245       0           15     123     43      12          3      0  0.9690\n",
       "2246       0           15     113     44      12          3      0  0.9568\n",
       "\n",
       "[2247 rows x 8 columns]"
      ]
     },
     "execution_count": 81,
     "metadata": {},
     "output_type": "execute_result"
    }
   ],
   "source": [
    "new_prediction"
   ]
  },
  {
   "cell_type": "code",
   "execution_count": null,
   "id": "3a0fd201-d366-4b58-b5f1-c129e7ea43c4",
   "metadata": {},
   "outputs": [],
   "source": []
  },
  {
   "cell_type": "code",
   "execution_count": null,
   "id": "fdcb83cf-5aba-40ef-87b9-5ac1121dfe69",
   "metadata": {},
   "outputs": [],
   "source": []
  },
  {
   "cell_type": "code",
   "execution_count": null,
   "id": "8f2b6d20-65e2-47ed-b752-e27c926f8e2f",
   "metadata": {},
   "outputs": [],
   "source": []
  },
  {
   "cell_type": "code",
   "execution_count": null,
   "id": "e783a751-47a4-4513-87d4-4916d7e928a0",
   "metadata": {},
   "outputs": [],
   "source": []
  },
  {
   "cell_type": "code",
   "execution_count": null,
   "id": "e9fc9fa1-c170-4392-b777-7f65476b6883",
   "metadata": {},
   "outputs": [],
   "source": []
  },
  {
   "cell_type": "code",
   "execution_count": null,
   "id": "badeea4c-df4a-4f5c-95c3-d181204d2bef",
   "metadata": {},
   "outputs": [],
   "source": []
  },
  {
   "cell_type": "code",
   "execution_count": null,
   "id": "aacb5215-4dfb-4261-b713-60da20e15914",
   "metadata": {},
   "outputs": [],
   "source": []
  },
  {
   "cell_type": "code",
   "execution_count": null,
   "id": "6f974af9-7135-4ef8-a070-9df7aa327a17",
   "metadata": {},
   "outputs": [],
   "source": []
  },
  {
   "cell_type": "code",
   "execution_count": null,
   "id": "bdd6f290-5821-4639-aac9-293b5dac7c67",
   "metadata": {},
   "outputs": [],
   "source": []
  },
  {
   "cell_type": "code",
   "execution_count": null,
   "id": "ae6fe76e-6ab3-44c6-a0cd-0eb30f5530fc",
   "metadata": {},
   "outputs": [],
   "source": []
  },
  {
   "cell_type": "code",
   "execution_count": null,
   "id": "557a7a02-4ad5-402c-b7cb-79c94c8beed9",
   "metadata": {},
   "outputs": [],
   "source": []
  },
  {
   "cell_type": "code",
   "execution_count": null,
   "id": "16103ff1-0024-47ab-b993-1883e3e284b3",
   "metadata": {},
   "outputs": [],
   "source": []
  },
  {
   "cell_type": "code",
   "execution_count": null,
   "id": "bfdb18ad-3ca6-4984-8ded-27ac53bb520f",
   "metadata": {},
   "outputs": [],
   "source": []
  },
  {
   "cell_type": "code",
   "execution_count": null,
   "id": "f3bc21e7-eaa4-47e5-827d-3527b6b5f8b2",
   "metadata": {},
   "outputs": [],
   "source": []
  },
  {
   "cell_type": "code",
   "execution_count": null,
   "id": "700541ca-29bc-4726-8ee8-86f8a4c7ef42",
   "metadata": {},
   "outputs": [],
   "source": []
  },
  {
   "cell_type": "code",
   "execution_count": null,
   "id": "4605b5f5-9e3b-40bf-951d-d4be1321d66e",
   "metadata": {},
   "outputs": [],
   "source": []
  },
  {
   "cell_type": "code",
   "execution_count": null,
   "id": "56cd94d6-a919-42e3-b645-979d75fd1984",
   "metadata": {},
   "outputs": [],
   "source": []
  }
 ],
 "metadata": {
  "kernelspec": {
   "display_name": "Python 3 (ipykernel)",
   "language": "python",
   "name": "python3"
  },
  "language_info": {
   "codemirror_mode": {
    "name": "ipython",
    "version": 3
   },
   "file_extension": ".py",
   "mimetype": "text/x-python",
   "name": "python",
   "nbconvert_exporter": "python",
   "pygments_lexer": "ipython3",
   "version": "3.8.16"
  }
 },
 "nbformat": 4,
 "nbformat_minor": 5
}
